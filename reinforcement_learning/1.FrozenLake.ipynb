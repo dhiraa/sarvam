{
 "cells": [
  {
   "cell_type": "markdown",
   "metadata": {},
   "source": [
    "# References:\n",
    "- https://medium.com/emergent-future/simple-reinforcement-learning-with-tensorflow-part-0-q-learning-with-tables-and-neural-networks-d195264329d0\n",
    "- https://github.com/awjuliani/DeepRL-Agents"
   ]
  },
  {
   "cell_type": "markdown",
   "metadata": {},
   "source": [
    "# Q-Learning "
   ]
  },
  {
   "cell_type": "markdown",
   "metadata": {},
   "source": [
    "## [Frozen Lake Environment](https://gym.openai.com/envs/FrozenLake-v0/) \n",
    "\n",
    " The FrozenLake environment consists of a 4x4 grid of blocks, each one either being the **start block, the goal block, a safe frozen block, or a dangerous hole**. The objective is to have an agent learn to navigate from the start to the goal without moving onto a hole. At any given time the agent can choose to move either up, down, left, or right. The catch is that there is a wind which occasionally blows the agent onto a space they didn’t choose. As such, perfect performance every time is impossible, but learning to avoid the holes and reach the goal are certainly still doable. The reward at every step is 0, except for entering the goal, which provides a reward of 1. \n",
    " \n",
    " \n",
    "                                SFFF  \n",
    "                                FHFH  \n",
    "                                FFFH  \n",
    "                                HFFG  \n",
    "                                \n",
    "S - Starting Point, safe  \n",
    "F - Frozen Surface, safe  \n",
    "H - Hole, fall to your doom  \n",
    "G - Goal, where the frisbee is located  "
   ]
  },
  {
   "cell_type": "markdown",
   "metadata": {},
   "source": [
    "## Tabular Approaches for Tabular Environments\n",
    "- In it’s simplest implementation, Q-Learning is a table of values for every state (row) and action (column) possible in the environment. \n",
    "- Within each cell of the table, we learn a value for how good it is to take a given action within a given state. - - In the case of the FrozenLake environment, we have 16 possible states (one for each block), and 4 possible actions (the four directions of movement), giving us a 16x4 table of Q-values. \n",
    "- We start by initializing the table to be uniform (all zeros), and then as we observe the rewards we obtain for various actions, we update the table accordingly.\n",
    "\n",
    "### [Bellman Equation](https://en.wikipedia.org/wiki/Bellman_equation)\n",
    "We make updates to our Q-table using something called the Bellman equation, which states that the expected long-term reward for a given action is equal to the immediate reward from the current action combined with the expected reward from the best future action taken at the following state. In this way, we reuse our own Q-table when estimating how to update our table for future actions! In equation form, the rule looks like this:\n",
    "\n",
    "$$\n",
    "Q(s,a) = r + \\gamma (maxQ(s' , a'))\n",
    "$$"
   ]
  },
  {
   "cell_type": "markdown",
   "metadata": {},
   "source": [
    "This says that the Q-value for a given state (s) and action (a) should represent the current reward (r) plus the maximum discounted ($\\gamma$) future reward expected according to our own table for the next state (s’) we would end up in. The discount variable allows us to decide how important the possible future rewards are compared to the present reward. By updating in this way, the table slowly begins to obtain accurate measures of the expected future reward for a given action in a given state. Below is a Python walkthrough of the Q-Table algorithm implemented in the FrozenLake environment:"
   ]
  },
  {
   "cell_type": "code",
   "execution_count": 1,
   "metadata": {},
   "outputs": [
    {
     "name": "stderr",
     "output_type": "stream",
     "text": [
      "/home/mageswarand/anaconda3/envs/tensorflow1.0/lib/python3.6/importlib/_bootstrap.py:205: RuntimeWarning: compiletime version 3.5 of module 'tensorflow.python.framework.fast_tensor_util' does not match runtime version 3.6\n",
      "  return f(*args, **kwds)\n"
     ]
    }
   ],
   "source": [
    "import gym\n",
    "import numpy as np\n",
    "\n",
    "%matplotlib inline\n",
    "import matplotlib.pyplot as plt\n",
    "\n",
    "import random\n",
    "import tensorflow as tf\n",
    "import matplotlib.pyplot as plt"
   ]
  },
  {
   "cell_type": "markdown",
   "metadata": {},
   "source": [
    "### Load the environment"
   ]
  },
  {
   "cell_type": "code",
   "execution_count": 2,
   "metadata": {},
   "outputs": [
    {
     "name": "stderr",
     "output_type": "stream",
     "text": [
      "[2017-12-05 16:57:10,152] Making new env: FrozenLake-v0\n"
     ]
    }
   ],
   "source": [
    "env = gym.make('FrozenLake-v0')"
   ]
  },
  {
   "cell_type": "markdown",
   "metadata": {},
   "source": [
    "### Implement Q-Table learning algorithm"
   ]
  },
  {
   "cell_type": "code",
   "execution_count": 7,
   "metadata": {},
   "outputs": [
    {
     "name": "stdout",
     "output_type": "stream",
     "text": [
      "Possible states are 16 and possible actions are 4\n"
     ]
    }
   ],
   "source": [
    "print(\"Possible states are {} and possible actions are {}\".format(env.observation_space.n,env.action_space.n))"
   ]
  },
  {
   "cell_type": "code",
   "execution_count": 177,
   "metadata": {},
   "outputs": [
    {
     "name": "stdout",
     "output_type": "stream",
     "text": [
      "Percent of succesful episodes: 47.45%\n"
     ]
    }
   ],
   "source": [
    "#Initialize table with all zeros\n",
    "#[16,4]\n",
    "Q = np.zeros([env.observation_space.n,env.action_space.n])\n",
    "\n",
    "# Set learning parameters\n",
    "learning_rate = .8\n",
    "y = .95\n",
    "num_episodes = 2000\n",
    "\n",
    "#create lists to contain total rewards and steps per episode\n",
    "steps_per_epoch = []\n",
    "reward_list = []\n",
    "for i in range(num_episodes):\n",
    "    #Reset environment and get first new observation\n",
    "    state = env.reset()\n",
    "    total_reward = 0\n",
    "    done = False #game over state\n",
    "    j = 0\n",
    "    #The Q-Table learning algorithm\n",
    "    while j < 99:\n",
    "        j+=1\n",
    "        #Choose an action by greedily (with noise) picking from Q table\n",
    "        #Reduce chance of random action as we train the model with (1./(i+1))\n",
    "        action = np.argmax(Q[state,:] + np.random.randn(1,env.action_space.n)*(1./(i+1)))\n",
    "        #Get new state and reward from environment\n",
    "        new_state, reward, done, _ = env.step(action)\n",
    "        #Update Q-Table with new knowledge\n",
    "        Q[state,action] = Q[state,action] + learning_rate * (reward + y * np.max(Q[new_state,:]) - Q[state,action])\n",
    "        total_reward += reward\n",
    "        state = new_state\n",
    "        if done == True:\n",
    "            break\n",
    "    steps_per_epoch.append(j)\n",
    "    reward_list.append(total_reward)\n",
    "    \n",
    "print(\"Percent of succesful episodes: \" + str(100 * sum(reward_list)/num_episodes) + \"%\")   #dynamic results "
   ]
  },
  {
   "cell_type": "code",
   "execution_count": 178,
   "metadata": {},
   "outputs": [
    {
     "name": "stdout",
     "output_type": "stream",
     "text": [
      "Score over time: 0.4745\n",
      "Final Q-Table Values\n",
      "[[  3.48425186e-01   2.92386140e-03   3.08129491e-03   2.91222871e-03]\n",
      " [  1.15847656e-04   1.56260861e-04   1.27026112e-04   2.19865827e-01]\n",
      " [  6.77949577e-02   2.65284261e-03   2.97617550e-03   2.78862504e-03]\n",
      " [  6.58220276e-04   2.32870889e-03   1.97599056e-04   2.57166782e-03]\n",
      " [  4.53573329e-01   4.11857066e-04   1.85075979e-03   5.56210224e-04]\n",
      " [  0.00000000e+00   0.00000000e+00   0.00000000e+00   0.00000000e+00]\n",
      " [  5.83412238e-06   2.77308357e-04   2.79797493e-03   3.92239452e-05]\n",
      " [  0.00000000e+00   0.00000000e+00   0.00000000e+00   0.00000000e+00]\n",
      " [  4.24145924e-03   1.47529585e-05   3.38868133e-04   4.22635668e-01]\n",
      " [  1.92277413e-03   6.06155389e-01   1.24908077e-04   5.34320410e-03]\n",
      " [  7.99956084e-01   0.00000000e+00   7.85013546e-05   0.00000000e+00]\n",
      " [  0.00000000e+00   0.00000000e+00   0.00000000e+00   0.00000000e+00]\n",
      " [  0.00000000e+00   0.00000000e+00   0.00000000e+00   0.00000000e+00]\n",
      " [  4.70814678e-03   5.03873681e-04   8.88437593e-01   3.85071880e-04]\n",
      " [  0.00000000e+00   0.00000000e+00   9.89882100e-01   0.00000000e+00]\n",
      " [  0.00000000e+00   0.00000000e+00   0.00000000e+00   0.00000000e+00]]\n"
     ]
    }
   ],
   "source": [
    "print(\"Score over time: \" +  str(sum(reward_list)/num_episodes))\n",
    "print(\"Final Q-Table Values\")\n",
    "print(Q)"
   ]
  },
  {
   "cell_type": "markdown",
   "metadata": {},
   "source": [
    "#### What is goin on in selecting a new state"
   ]
  },
  {
   "cell_type": "code",
   "execution_count": 179,
   "metadata": {},
   "outputs": [
    {
     "data": {
      "text/plain": [
       "array([  4.53573329e-01,   4.11857066e-04,   1.85075979e-03,\n",
       "         5.56210224e-04])"
      ]
     },
     "execution_count": 179,
     "metadata": {},
     "output_type": "execute_result"
    }
   ],
   "source": [
    "# Lets wee what is there in state 5\n",
    "Q[4,:] #select row 4+1 and all the columns"
   ]
  },
  {
   "cell_type": "code",
   "execution_count": 180,
   "metadata": {},
   "outputs": [
    {
     "name": "stdout",
     "output_type": "stream",
     "text": [
      "Biased noise:  0.017857142857142856\n",
      "new_random_action:  [[-0.00269487 -0.03530777 -0.05734659  0.00200914]]\n",
      "new_random_action + noise:  [[ -4.81226687e-05  -6.30495840e-04  -1.02404622e-03   3.58774927e-05]]\n",
      "New action will be :  0\n"
     ]
    }
   ],
   "source": [
    "#say at episode number 55\n",
    "biased_noise = (1./(55+1))\n",
    "print(\"Biased noise: \", biased_noise) # one is added to avoid division by zero\n",
    "new_random_action = np.random.randn(1,env.action_space.n)*(1./(55+1))\n",
    "print(\"new_random_action: \", new_random_action)\n",
    "action_raw = new_random_action * biased_noise\n",
    "print(\"new_random_action + noise: \", action_raw)\n",
    "action = np.argmax(action)\n",
    "print(\"New action will be : \", action)"
   ]
  },
  {
   "cell_type": "code",
   "execution_count": 181,
   "metadata": {},
   "outputs": [
    {
     "name": "stdout",
     "output_type": "stream",
     "text": [
      "15 0 True {'prob': 1.0}\n",
      "huh looks like the game is over ;)\n"
     ]
    }
   ],
   "source": [
    "new_state, reward, done, _ = env.step(action)\n",
    "print(new_state, reward, done, _) \n",
    "\n",
    "if done:\n",
    "    print(\"huh looks like the game is over ;)\")"
   ]
  },
  {
   "cell_type": "markdown",
   "metadata": {},
   "source": [
    "### Some statistics on network performance"
   ]
  },
  {
   "cell_type": "code",
   "execution_count": 182,
   "metadata": {},
   "outputs": [
    {
     "data": {
      "text/plain": [
       "[<matplotlib.lines.Line2D at 0x7f4a8c232128>]"
      ]
     },
     "execution_count": 182,
     "metadata": {},
     "output_type": "execute_result"
    },
    {
     "data": {
      "image/png": "[encoded data removed]",
      "text/plain": [
       "<matplotlib.figure.Figure at 0x7f4a8c2ac710>"
      ]
     },
     "metadata": {},
     "output_type": "display_data"
    }
   ],
   "source": [
    "plt.plot(reward_list)"
   ]
  },
  {
   "cell_type": "code",
   "execution_count": 183,
   "metadata": {},
   "outputs": [
    {
     "data": {
      "text/plain": [
       "[<matplotlib.lines.Line2D at 0x7f4a8c043b70>]"
      ]
     },
     "execution_count": 183,
     "metadata": {},
     "output_type": "execute_result"
    },
    {
     "data": {
      "image/png": "[encoded data removed]",
      "text/plain": [
       "<matplotlib.figure.Figure at 0x7f4a8c1e7d30>"
      ]
     },
     "metadata": {},
     "output_type": "display_data"
    }
   ],
   "source": [
    "plt.plot(steps_per_epoch)"
   ]
  },
  {
   "cell_type": "markdown",
   "metadata": {},
   "source": [
    "## Q-Learning with Neural Networks\n",
    "\n",
    "Now, you may be thinking: tables are great, but they don’t really scale, do they? While it is easy to have a 16x4 table for a simple grid world, the number of possible states in any modern game or real-world environment is nearly infinitely larger. For most interesting problems, tables simply don’t work. We instead need some way to take a description of our state, and produce Q-values for actions without a table: that is where neural networks come in. By acting as a function approximator, we can take any number of possible states that can be represented as a vector and learn to map them to Q-values.\n",
    "In the case of the FrozenLake example, we will be using a one-layer network which takes the state encoded in a one-hot vector (1x16), and produces a vector of 4 Q-values, one for each action. Such a simple network acts kind of like a glorified table, with the network weights serving as the old cells. The key difference is that we can easily expand the Tensorflow network with added layers, activation functions, and different input types, whereas all that is impossible with a regular table. The method of updating is a little different as well. Instead of directly updating our table, with a network we will be using backpropagation and a loss function. Our loss function will be sum-of-squares loss, where the difference between the current predicted Q-values, and the “target” value is computed and the gradients passed through the network. In this case, our Q-target for the chosen action is the equivalent to the Q-value computed in equation 1 above.\n",
    "\n",
    "$$Loss = \\sum (Q_{target} - Q)^2$$"
   ]
  },
  {
   "cell_type": "markdown",
   "metadata": {},
   "source": [
    "### The Q-Network Approach"
   ]
  },
  {
   "cell_type": "code",
   "execution_count": 31,
   "metadata": {},
   "outputs": [
    {
     "data": {
      "text/plain": [
       "(16, 4)"
      ]
     },
     "execution_count": 31,
     "metadata": {},
     "output_type": "execute_result"
    }
   ],
   "source": [
    "NUM_STATES = env.observation_space.n\n",
    "NUM_ACTIONS = env.action_space.n\n",
    "\n",
    "NUM_STATES, NUM_ACTIONS"
   ]
  },
  {
   "cell_type": "code",
   "execution_count": 32,
   "metadata": {
    "collapsed": true
   },
   "outputs": [],
   "source": [
    "tf.reset_default_graph()\n",
    "\n",
    "#These lines establish the feed-forward part of the network used to choose actions\n",
    "\n",
    "#Input Layer\n",
    "input_states = tf.placeholder(shape=[1,NUM_STATES],dtype=tf.float32, name=\"input_states\")\n",
    "next_possible_actions = tf.placeholder(shape=[1,NUM_ACTIONS],dtype=tf.float32, name=\"nextQ\")\n",
    "\n",
    "#Initialize Weights Randomly\n",
    "W = tf.Variable(tf.random_uniform([NUM_STATES,NUM_ACTIONS], 0, 0.01), name='W')\n",
    "\n",
    "#Output Layer, choose the lartger value index in [0, NUM_ACTIONS-1] or [1, NUM_ACTIONS]\n",
    "predict_actions = tf.matmul(input_states,W, name=\"Qout\") #next possible actions\n",
    "next_move = tf.argmax(predict_actions,axis=1, name=\"predict\") #find max along the y-axis in next possible actions\n",
    "\n",
    "#Below we obtain the loss by taking the sum of squares difference between the target and prediction Q values.\n",
    "loss = tf.reduce_sum(tf.square(next_possible_actions - predict_actions), name=\"loss\")\n",
    "trainer = tf.train.GradientDescentOptimizer(learning_rate=0.1)\n",
    "updateModel = trainer.minimize(loss)\n",
    "\n"
   ]
  },
  {
   "cell_type": "code",
   "execution_count": 33,
   "metadata": {},
   "outputs": [
    {
     "name": "stdout",
     "output_type": "stream",
     "text": [
      "Tensor(\"input_states:0\", shape=(1, 16), dtype=float32)\n",
      "Tensor(\"nextQ:0\", shape=(1, 4), dtype=float32)\n",
      "<tf.Variable 'W:0' shape=(16, 4) dtype=float32_ref>\n",
      "Tensor(\"Qout:0\", shape=(1, 4), dtype=float32)\n",
      "Tensor(\"predict:0\", shape=(1,), dtype=int64)\n",
      "Tensor(\"loss:0\", shape=(), dtype=float32)\n"
     ]
    }
   ],
   "source": [
    "#Debug Info \n",
    "print(input_states)\n",
    "print(next_possible_actions)\n",
    "print(W)\n",
    "print(predict_actions)\n",
    "print(next_move)\n",
    "print(loss)"
   ]
  },
  {
   "cell_type": "markdown",
   "metadata": {},
   "source": [
    "#### Training the network"
   ]
  },
  {
   "cell_type": "code",
   "execution_count": 34,
   "metadata": {
    "collapsed": true
   },
   "outputs": [],
   "source": [
    "init = tf.global_variables_initializer()\n",
    "\n",
    "# Set learning parameters\n",
    "y = .99\n",
    "e = 0.1\n",
    "num_episodes = 2000\n",
    "\n",
    "# create lists to contain total rewards and steps per episode\n",
    "stpes_per_epoch_1 = [] # \"_1\" added to avoid name colliding\n",
    "reward_list_1 = []\n",
    "\n",
    "with tf.Session() as sess:\n",
    "    \n",
    "    sess.run(init)\n",
    "    \n",
    "    for i in range(num_episodes):\n",
    "        #Reset environment and get first new observation\n",
    "        state = env.reset() \n",
    "        reward_total_1 = 0\n",
    "        done = False\n",
    "        \n",
    "        j = 0\n",
    "        #The Q-Network\n",
    "        while j < 99:\n",
    "            j+=1\n",
    "            \n",
    "            #Choose an action by greedily (with e chance of random action) from the Q-network\n",
    "            action, actions = sess.run([next_move,predict_actions],\n",
    "                                    feed_dict={input_states:np.identity(16)[state:state+1]})\n",
    "            \n",
    "            if np.random.rand(1) < e:\n",
    "                action[0] = env.action_space.sample()\n",
    "                \n",
    "            #Get new state and reward from environment\n",
    "            new_state, reward, done, _ = env.step(action[0])\n",
    "            \n",
    "            #Obtain the Q' values by feeding the new state through our network\n",
    "            Q1 = sess.run(predict_actions,feed_dict = {input_states:np.identity(16)[new_state:new_state+1]})\n",
    "            \n",
    "            #Obtain maxQ' and set our target value for chosen action.\n",
    "            maxQ1 = np.max(Q1)\n",
    "            targetQ = actions #[1, NUM_ACTIONS]\n",
    "            # update the Q\n",
    "            targetQ[0,action[0]] = reward + y * maxQ1\n",
    "            \n",
    "            #Train our network using target and predicted Q values\n",
    "            _,W1 = sess.run([updateModel,W],feed_dict={input_states:np.identity(16)[state:state+1], \n",
    "                                                       next_possible_actions:targetQ})\n",
    "            \n",
    "            reward_total_1 += reward\n",
    "            \n",
    "            state = new_state\n",
    "            \n",
    "            if done == True:\n",
    "                #Reduce chance of random action as we train the model.\n",
    "                e = 1./((i/50) + 10)\n",
    "                break\n",
    "                \n",
    "        stpes_per_epoch_1.append(j)\n",
    "        reward_list_1.append(reward_total_1)\n"
   ]
  },
  {
   "cell_type": "code",
   "execution_count": 35,
   "metadata": {},
   "outputs": [
    {
     "name": "stdout",
     "output_type": "stream",
     "text": [
      "Percent of succesful episodes: 0.4575%\n"
     ]
    }
   ],
   "source": [
    "print(\"Percent of succesful episodes: \" + str(sum(reward_list_1)/num_episodes) + \"%\")"
   ]
  },
  {
   "cell_type": "markdown",
   "metadata": {},
   "source": [
    "### Lets RIP above code"
   ]
  },
  {
   "cell_type": "code",
   "execution_count": 36,
   "metadata": {},
   "outputs": [
    {
     "data": {
      "text/plain": [
       "array([[ 0.69187534,  1.00746906,  0.71174949,  0.67777467]], dtype=float32)"
      ]
     },
     "execution_count": 36,
     "metadata": {},
     "output_type": "execute_result"
    }
   ],
   "source": [
    "actions"
   ]
  },
  {
   "cell_type": "code",
   "execution_count": 37,
   "metadata": {},
   "outputs": [
    {
     "data": {
      "text/plain": [
       "2"
      ]
     },
     "execution_count": 37,
     "metadata": {},
     "output_type": "execute_result"
    }
   ],
   "source": [
    "env.action_space.sample()"
   ]
  },
  {
   "cell_type": "code",
   "execution_count": 38,
   "metadata": {},
   "outputs": [
    {
     "name": "stdout",
     "output_type": "stream",
     "text": [
      "0\n",
      "[[ 1.  0.  0.  0.  0.  0.  0.  0.  0.  0.  0.  0.  0.  0.  0.  0.]]\n",
      "[[ 0.  0.  1.  0.  0.  0.  0.  0.  0.  0.  0.  0.  0.  0.  0.  0.]]\n"
     ]
    }
   ],
   "source": [
    "state = env.reset()\n",
    "print(state)\n",
    "identity = np.identity(16)#[16,16]\n",
    "print(identity[state:state+1])\n",
    "state = 2\n",
    "print(identity[state:state+1])"
   ]
  },
  {
   "cell_type": "markdown",
   "metadata": {},
   "source": [
    "### Some statistics on network performance\n",
    "\n",
    "We can see that the network beings to consistly reach the goal around the 750 episode mark."
   ]
  },
  {
   "cell_type": "code",
   "execution_count": 39,
   "metadata": {},
   "outputs": [
    {
     "data": {
      "text/plain": [
       "[<matplotlib.lines.Line2D at 0x7f19b44acc50>]"
      ]
     },
     "execution_count": 39,
     "metadata": {},
     "output_type": "execute_result"
    },
    {
     "data": {
      "image/png": "[encoded data removed]",
      "text/plain": [
       "<matplotlib.figure.Figure at 0x7f19b45ac630>"
      ]
     },
     "metadata": {},
     "output_type": "display_data"
    }
   ],
   "source": [
    "plt.plot(reward_list_1)"
   ]
  },
  {
   "cell_type": "markdown",
   "metadata": {},
   "source": [
    "It also begins to progress through the environment for longer than chance aroudn the 750 mark as well."
   ]
  },
  {
   "cell_type": "code",
   "execution_count": 40,
   "metadata": {},
   "outputs": [
    {
     "data": {
      "text/plain": [
       "[<matplotlib.lines.Line2D at 0x7f19b439b438>]"
      ]
     },
     "execution_count": 40,
     "metadata": {},
     "output_type": "execute_result"
    },
    {
     "data": {
      "image/png": "[encoded data removed]",
      "text/plain": [
       "<matplotlib.figure.Figure at 0x7f19b44254e0>"
      ]
     },
     "metadata": {},
     "output_type": "display_data"
    }
   ],
   "source": [
    "plt.plot(stpes_per_epoch_1)"
   ]
  },
  {
   "cell_type": "markdown",
   "metadata": {},
   "source": [
    "While the network learns to solve the FrozenLake problem, it turns out it doesn’t do so quite as efficiently as the Q-Table. While neural networks allow for greater flexibility, they do so at the cost of stability when it comes to Q-Learning. There are a number of possible extensions to our simple Q-Network which allow for greater performance and more robust learning. Two tricks in particular are referred to as **Experience Replay** and **Freezing Target Networks**. Those improvements and other tweaks were the key to getting Atari-playing Deep Q-Networks, and we will be exploring those additions in the future. For more info on the theory behind Q-Learning, see [this great post](http://neuro.cs.ut.ee/demystifying-deep-reinforcement-learning/) by Tambet Matiisen. I hope this tutorial has been helpful for those curious about how to implement simple Q-Learning algorithms!\n"
   ]
  }
 ],
 "metadata": {
  "kernelspec": {
   "display_name": "Python 3",
   "language": "python",
   "name": "python3"
  },
  "language_info": {
   "codemirror_mode": {
    "name": "ipython",
    "version": 3
   },
   "file_extension": ".py",
   "mimetype": "text/x-python",
   "name": "python",
   "nbconvert_exporter": "python",
   "pygments_lexer": "ipython3",
   "version": "3.6.1"
  }
 },
 "nbformat": 4,
 "nbformat_minor": 2
}
