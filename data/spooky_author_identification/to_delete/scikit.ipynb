{
 "cells": [
  {
   "cell_type": "code",
   "execution_count": 1,
   "metadata": {},
   "outputs": [],
   "source": [
    "%load_ext autoreload\n",
    "%autoreload 2\n",
    "%matplotlib inline\n",
    "%config InlineBackend.figure_format = 'retina'\n",
    "import sys\n",
    "import os\n",
    "import math\n",
    "import spacy\n",
    "import pandas as pd\n",
    "import tensorflow as tf\n",
    "import seaborn as sns\n",
    "import matplotlib.pyplot as plt\n",
    "sys.path.append(\"../../python/\")"
   ]
  },
  {
   "cell_type": "code",
   "execution_count": 2,
   "metadata": {
    "collapsed": true
   },
   "outputs": [],
   "source": [
    "original_train_df = pd.read_csv(\"input/train.csv\")\n",
    "original_test_df = pd.read_csv(\"input/test.csv\")\n"
   ]
  },
  {
   "cell_type": "code",
   "execution_count": 3,
   "metadata": {
    "collapsed": true
   },
   "outputs": [],
   "source": [
    "from workbench.data.meta_features.text import *"
   ]
  },
  {
   "cell_type": "code",
   "execution_count": 4,
   "metadata": {},
   "outputs": [],
   "source": [
    "train_df = append_meta_features(original_train_df.copy())\n",
    "test_df = append_meta_features(original_test_df.copy())"
   ]
  },
  {
   "cell_type": "code",
   "execution_count": 5,
   "metadata": {},
   "outputs": [
    {
     "data": {
      "text/html": [
       "<div>\n",
       "<style>\n",
       "    .dataframe thead tr:only-child th {\n",
       "        text-align: right;\n",
       "    }\n",
       "\n",
       "    .dataframe thead th {\n",
       "        text-align: left;\n",
       "    }\n",
       "\n",
       "    .dataframe tbody tr th {\n",
       "        vertical-align: top;\n",
       "    }\n",
       "</style>\n",
       "<table border=\"1\" class=\"dataframe\">\n",
       "  <thead>\n",
       "    <tr style=\"text-align: right;\">\n",
       "      <th></th>\n",
       "      <th>id</th>\n",
       "      <th>text</th>\n",
       "      <th>author</th>\n",
       "      <th>num_words</th>\n",
       "      <th>num_upper_words</th>\n",
       "      <th>num_title_words</th>\n",
       "      <th>num_chars</th>\n",
       "      <th>mean_word_len</th>\n",
       "      <th>unique_word_fraction</th>\n",
       "      <th>stopwords_fraction</th>\n",
       "      <th>punctuations_fraction</th>\n",
       "      <th>fraction_noun</th>\n",
       "      <th>fraction_adj</th>\n",
       "      <th>fraction_verbs</th>\n",
       "    </tr>\n",
       "  </thead>\n",
       "  <tbody>\n",
       "    <tr>\n",
       "      <th>0</th>\n",
       "      <td>id26305</td>\n",
       "      <td>This process, however, afforded me no means of...</td>\n",
       "      <td>EAP</td>\n",
       "      <td>41</td>\n",
       "      <td>2</td>\n",
       "      <td>3</td>\n",
       "      <td>231</td>\n",
       "      <td>4.658537</td>\n",
       "      <td>0.853659</td>\n",
       "      <td>0.414634</td>\n",
       "      <td>0.030303</td>\n",
       "      <td>0.243902</td>\n",
       "      <td>0.048780</td>\n",
       "      <td>0.146341</td>\n",
       "    </tr>\n",
       "    <tr>\n",
       "      <th>1</th>\n",
       "      <td>id17569</td>\n",
       "      <td>It never once occurred to me that the fumbling...</td>\n",
       "      <td>HPL</td>\n",
       "      <td>14</td>\n",
       "      <td>0</td>\n",
       "      <td>1</td>\n",
       "      <td>71</td>\n",
       "      <td>4.142857</td>\n",
       "      <td>1.000000</td>\n",
       "      <td>0.500000</td>\n",
       "      <td>0.014085</td>\n",
       "      <td>0.142857</td>\n",
       "      <td>0.071429</td>\n",
       "      <td>0.142857</td>\n",
       "    </tr>\n",
       "    <tr>\n",
       "      <th>2</th>\n",
       "      <td>id11008</td>\n",
       "      <td>In his left hand was a gold snuff box, from wh...</td>\n",
       "      <td>EAP</td>\n",
       "      <td>36</td>\n",
       "      <td>0</td>\n",
       "      <td>1</td>\n",
       "      <td>200</td>\n",
       "      <td>4.583333</td>\n",
       "      <td>0.888889</td>\n",
       "      <td>0.444444</td>\n",
       "      <td>0.025000</td>\n",
       "      <td>0.277778</td>\n",
       "      <td>0.138889</td>\n",
       "      <td>0.111111</td>\n",
       "    </tr>\n",
       "    <tr>\n",
       "      <th>3</th>\n",
       "      <td>id27763</td>\n",
       "      <td>How lovely is spring As we looked from Windsor...</td>\n",
       "      <td>MWS</td>\n",
       "      <td>34</td>\n",
       "      <td>0</td>\n",
       "      <td>4</td>\n",
       "      <td>206</td>\n",
       "      <td>5.088235</td>\n",
       "      <td>0.941176</td>\n",
       "      <td>0.323529</td>\n",
       "      <td>0.019417</td>\n",
       "      <td>0.294118</td>\n",
       "      <td>0.176471</td>\n",
       "      <td>0.147059</td>\n",
       "    </tr>\n",
       "    <tr>\n",
       "      <th>4</th>\n",
       "      <td>id12958</td>\n",
       "      <td>Finding nothing else, not even gold, the Super...</td>\n",
       "      <td>HPL</td>\n",
       "      <td>27</td>\n",
       "      <td>0</td>\n",
       "      <td>2</td>\n",
       "      <td>174</td>\n",
       "      <td>5.481481</td>\n",
       "      <td>0.925926</td>\n",
       "      <td>0.407407</td>\n",
       "      <td>0.022989</td>\n",
       "      <td>0.222222</td>\n",
       "      <td>0.037037</td>\n",
       "      <td>0.222222</td>\n",
       "    </tr>\n",
       "  </tbody>\n",
       "</table>\n",
       "</div>"
      ],
      "text/plain": [
       "        id                                               text author  \\\n",
       "0  id26305  This process, however, afforded me no means of...    EAP   \n",
       "1  id17569  It never once occurred to me that the fumbling...    HPL   \n",
       "2  id11008  In his left hand was a gold snuff box, from wh...    EAP   \n",
       "3  id27763  How lovely is spring As we looked from Windsor...    MWS   \n",
       "4  id12958  Finding nothing else, not even gold, the Super...    HPL   \n",
       "\n",
       "   num_words  num_upper_words  num_title_words  num_chars  mean_word_len  \\\n",
       "0         41                2                3        231       4.658537   \n",
       "1         14                0                1         71       4.142857   \n",
       "2         36                0                1        200       4.583333   \n",
       "3         34                0                4        206       5.088235   \n",
       "4         27                0                2        174       5.481481   \n",
       "\n",
       "   unique_word_fraction  stopwords_fraction  punctuations_fraction  \\\n",
       "0              0.853659            0.414634               0.030303   \n",
       "1              1.000000            0.500000               0.014085   \n",
       "2              0.888889            0.444444               0.025000   \n",
       "3              0.941176            0.323529               0.019417   \n",
       "4              0.925926            0.407407               0.022989   \n",
       "\n",
       "   fraction_noun  fraction_adj  fraction_verbs  \n",
       "0       0.243902      0.048780        0.146341  \n",
       "1       0.142857      0.071429        0.142857  \n",
       "2       0.277778      0.138889        0.111111  \n",
       "3       0.294118      0.176471        0.147059  \n",
       "4       0.222222      0.037037        0.222222  "
      ]
     },
     "execution_count": 5,
     "metadata": {},
     "output_type": "execute_result"
    }
   ],
   "source": [
    "train_df.head()"
   ]
  },
  {
   "cell_type": "code",
   "execution_count": 6,
   "metadata": {
    "collapsed": true
   },
   "outputs": [],
   "source": [
    "from sklearn.feature_extraction.text import TfidfVectorizer, CountVectorizer\n",
    "from sklearn.decomposition import TruncatedSVD\n",
    "from sklearn import ensemble, metrics, model_selection, naive_bayes"
   ]
  },
  {
   "cell_type": "code",
   "execution_count": 7,
   "metadata": {},
   "outputs": [
    {
     "name": "stderr",
     "output_type": "stream",
     "text": [
      "/home/mageswarand/anaconda3/envs/tensorflow1.0/lib/python3.6/site-packages/sklearn/cross_validation.py:44: DeprecationWarning: This module was deprecated in version 0.18 in favor of the model_selection module into which all the refactored classes and functions are moved. Also note that the interface of the new CV iterators are different from that of this module. This module will be removed in 0.20.\n",
      "  \"This module will be removed in 0.20.\", DeprecationWarning)\n"
     ]
    }
   ],
   "source": [
    "from workbench.ensemble.xgboost import *"
   ]
  },
  {
   "cell_type": "code",
   "execution_count": 8,
   "metadata": {},
   "outputs": [],
   "source": [
    "train_df_copy = train_df.copy()\n",
    "test_df_copy = test_df.copy()"
   ]
  },
  {
   "cell_type": "code",
   "execution_count": 9,
   "metadata": {
    "collapsed": true
   },
   "outputs": [],
   "source": [
    "# train_df = train_df_copy.copy()\n",
    "# test_df = test_df_copy.copy()"
   ]
  },
  {
   "cell_type": "code",
   "execution_count": 10,
   "metadata": {
    "collapsed": true
   },
   "outputs": [],
   "source": [
    "## Prepare the data for modeling ###\n",
    "author_mapping_dict = {'EAP':0, 'HPL':1, 'MWS':2}\n",
    "train_y = train_df['author'].map(author_mapping_dict)\n",
    "train_id = train_df['id'].values\n",
    "test_id = test_df['id'].values\n",
    "\n",
    "cols_to_drop = ['id', 'text']\n",
    "train_X = train_df.drop(cols_to_drop+['author'], axis=1)\n",
    "test_X = test_df.drop(cols_to_drop, axis=1)"
   ]
  },
  {
   "cell_type": "code",
   "execution_count": null,
   "metadata": {
    "collapsed": true
   },
   "outputs": [],
   "source": []
  },
  {
   "cell_type": "code",
   "execution_count": null,
   "metadata": {
    "collapsed": true
   },
   "outputs": [],
   "source": []
  },
  {
   "cell_type": "code",
   "execution_count": 11,
   "metadata": {},
   "outputs": [
    {
     "name": "stdout",
     "output_type": "stream",
     "text": [
      "[0]\ttrain-mlogloss:1.09346\ttest-mlogloss:1.09424\n",
      "Multiple eval metrics have been passed: 'test-mlogloss' will be used for early stopping.\n",
      "\n",
      "Will train until test-mlogloss hasn't improved in 50 rounds.\n",
      "[20]\ttrain-mlogloss:1.01395\ttest-mlogloss:1.02761\n",
      "[40]\ttrain-mlogloss:0.985442\ttest-mlogloss:1.00635\n",
      "[60]\ttrain-mlogloss:0.968941\ttest-mlogloss:0.995869\n",
      "[80]\ttrain-mlogloss:0.954366\ttest-mlogloss:0.985336\n",
      "[100]\ttrain-mlogloss:0.943698\ttest-mlogloss:0.978942\n",
      "[120]\ttrain-mlogloss:0.935041\ttest-mlogloss:0.973795\n",
      "[140]\ttrain-mlogloss:0.927818\ttest-mlogloss:0.970003\n",
      "[160]\ttrain-mlogloss:0.921318\ttest-mlogloss:0.967676\n",
      "[180]\ttrain-mlogloss:0.915811\ttest-mlogloss:0.966583\n",
      "[200]\ttrain-mlogloss:0.910716\ttest-mlogloss:0.965377\n",
      "[220]\ttrain-mlogloss:0.906064\ttest-mlogloss:0.964414\n",
      "[240]\ttrain-mlogloss:0.901432\ttest-mlogloss:0.96353\n",
      "[260]\ttrain-mlogloss:0.897336\ttest-mlogloss:0.963228\n",
      "[280]\ttrain-mlogloss:0.893755\ttest-mlogloss:0.962846\n",
      "[300]\ttrain-mlogloss:0.889876\ttest-mlogloss:0.96239\n",
      "[320]\ttrain-mlogloss:0.886881\ttest-mlogloss:0.962314\n",
      "[340]\ttrain-mlogloss:0.883096\ttest-mlogloss:0.961949\n",
      "[360]\ttrain-mlogloss:0.879729\ttest-mlogloss:0.961661\n",
      "[380]\ttrain-mlogloss:0.876531\ttest-mlogloss:0.961819\n",
      "[400]\ttrain-mlogloss:0.873519\ttest-mlogloss:0.961789\n",
      "Stopping. Best iteration:\n",
      "[358]\ttrain-mlogloss:0.880001\ttest-mlogloss:0.961617\n",
      "\n",
      "[0]\ttrain-mlogloss:1.09377\ttest-mlogloss:1.09374\n",
      "Multiple eval metrics have been passed: 'test-mlogloss' will be used for early stopping.\n",
      "\n",
      "Will train until test-mlogloss hasn't improved in 50 rounds.\n",
      "[20]\ttrain-mlogloss:1.01648\ttest-mlogloss:1.01928\n",
      "[40]\ttrain-mlogloss:0.988864\ttest-mlogloss:0.996208\n",
      "[60]\ttrain-mlogloss:0.97203\ttest-mlogloss:0.9836\n",
      "[80]\ttrain-mlogloss:0.956891\ttest-mlogloss:0.973495\n",
      "[100]\ttrain-mlogloss:0.946085\ttest-mlogloss:0.966231\n",
      "[120]\ttrain-mlogloss:0.937605\ttest-mlogloss:0.961309\n",
      "[140]\ttrain-mlogloss:0.930356\ttest-mlogloss:0.957968\n",
      "[160]\ttrain-mlogloss:0.923792\ttest-mlogloss:0.955155\n",
      "[180]\ttrain-mlogloss:0.918329\ttest-mlogloss:0.953139\n",
      "[200]\ttrain-mlogloss:0.913476\ttest-mlogloss:0.951941\n",
      "[220]\ttrain-mlogloss:0.908948\ttest-mlogloss:0.950798\n",
      "[240]\ttrain-mlogloss:0.90431\ttest-mlogloss:0.949865\n",
      "[260]\ttrain-mlogloss:0.90016\ttest-mlogloss:0.948954\n",
      "[280]\ttrain-mlogloss:0.896435\ttest-mlogloss:0.948498\n",
      "[300]\ttrain-mlogloss:0.892991\ttest-mlogloss:0.947961\n",
      "[320]\ttrain-mlogloss:0.889575\ttest-mlogloss:0.948014\n",
      "[340]\ttrain-mlogloss:0.885786\ttest-mlogloss:0.947773\n",
      "[360]\ttrain-mlogloss:0.882765\ttest-mlogloss:0.947585\n",
      "[380]\ttrain-mlogloss:0.879341\ttest-mlogloss:0.947467\n",
      "[400]\ttrain-mlogloss:0.876249\ttest-mlogloss:0.947076\n",
      "[420]\ttrain-mlogloss:0.873036\ttest-mlogloss:0.947202\n",
      "[440]\ttrain-mlogloss:0.870045\ttest-mlogloss:0.947712\n",
      "Stopping. Best iteration:\n",
      "[402]\ttrain-mlogloss:0.875865\ttest-mlogloss:0.947052\n",
      "\n",
      "[0]\ttrain-mlogloss:1.09364\ttest-mlogloss:1.09431\n",
      "Multiple eval metrics have been passed: 'test-mlogloss' will be used for early stopping.\n",
      "\n",
      "Will train until test-mlogloss hasn't improved in 50 rounds.\n",
      "[20]\ttrain-mlogloss:1.01519\ttest-mlogloss:1.02477\n",
      "[40]\ttrain-mlogloss:0.987002\ttest-mlogloss:1.00282\n",
      "[60]\ttrain-mlogloss:0.970239\ttest-mlogloss:0.990833\n",
      "[80]\ttrain-mlogloss:0.954889\ttest-mlogloss:0.980289\n",
      "[100]\ttrain-mlogloss:0.94416\ttest-mlogloss:0.973612\n",
      "[120]\ttrain-mlogloss:0.935623\ttest-mlogloss:0.969144\n",
      "[140]\ttrain-mlogloss:0.928495\ttest-mlogloss:0.966361\n",
      "[160]\ttrain-mlogloss:0.922258\ttest-mlogloss:0.963681\n",
      "[180]\ttrain-mlogloss:0.917263\ttest-mlogloss:0.961552\n",
      "[200]\ttrain-mlogloss:0.912149\ttest-mlogloss:0.960118\n",
      "[220]\ttrain-mlogloss:0.907648\ttest-mlogloss:0.959576\n",
      "[240]\ttrain-mlogloss:0.903213\ttest-mlogloss:0.958682\n",
      "[260]\ttrain-mlogloss:0.898992\ttest-mlogloss:0.958649\n",
      "[280]\ttrain-mlogloss:0.895426\ttest-mlogloss:0.958162\n",
      "[300]\ttrain-mlogloss:0.891645\ttest-mlogloss:0.957684\n",
      "[320]\ttrain-mlogloss:0.887975\ttest-mlogloss:0.957701\n",
      "[340]\ttrain-mlogloss:0.884257\ttest-mlogloss:0.957276\n",
      "[360]\ttrain-mlogloss:0.881287\ttest-mlogloss:0.956971\n",
      "[380]\ttrain-mlogloss:0.877811\ttest-mlogloss:0.957113\n",
      "[400]\ttrain-mlogloss:0.875015\ttest-mlogloss:0.956772\n",
      "[420]\ttrain-mlogloss:0.871933\ttest-mlogloss:0.956548\n",
      "[440]\ttrain-mlogloss:0.868861\ttest-mlogloss:0.956677\n",
      "[460]\ttrain-mlogloss:0.865825\ttest-mlogloss:0.957288\n",
      "Stopping. Best iteration:\n",
      "[411]\ttrain-mlogloss:0.873208\ttest-mlogloss:0.956434\n",
      "\n",
      "[0]\ttrain-mlogloss:1.09341\ttest-mlogloss:1.09421\n",
      "Multiple eval metrics have been passed: 'test-mlogloss' will be used for early stopping.\n",
      "\n",
      "Will train until test-mlogloss hasn't improved in 50 rounds.\n",
      "[20]\ttrain-mlogloss:1.01512\ttest-mlogloss:1.02336\n",
      "[40]\ttrain-mlogloss:0.986786\ttest-mlogloss:1.00065\n",
      "[60]\ttrain-mlogloss:0.970052\ttest-mlogloss:0.989313\n",
      "[80]\ttrain-mlogloss:0.9551\ttest-mlogloss:0.97848\n",
      "[100]\ttrain-mlogloss:0.944033\ttest-mlogloss:0.972302\n",
      "[120]\ttrain-mlogloss:0.935835\ttest-mlogloss:0.968277\n",
      "[140]\ttrain-mlogloss:0.928967\ttest-mlogloss:0.965053\n",
      "[160]\ttrain-mlogloss:0.922563\ttest-mlogloss:0.962555\n",
      "[180]\ttrain-mlogloss:0.917001\ttest-mlogloss:0.961173\n",
      "[200]\ttrain-mlogloss:0.911663\ttest-mlogloss:0.959919\n",
      "[220]\ttrain-mlogloss:0.9067\ttest-mlogloss:0.959023\n",
      "[240]\ttrain-mlogloss:0.902211\ttest-mlogloss:0.958114\n",
      "[260]\ttrain-mlogloss:0.898374\ttest-mlogloss:0.957974\n",
      "[280]\ttrain-mlogloss:0.894485\ttest-mlogloss:0.957872\n",
      "[300]\ttrain-mlogloss:0.890548\ttest-mlogloss:0.957407\n",
      "[320]\ttrain-mlogloss:0.886947\ttest-mlogloss:0.957251\n",
      "[340]\ttrain-mlogloss:0.883242\ttest-mlogloss:0.956641\n",
      "[360]\ttrain-mlogloss:0.879859\ttest-mlogloss:0.956111\n",
      "[380]\ttrain-mlogloss:0.87639\ttest-mlogloss:0.956118\n",
      "[400]\ttrain-mlogloss:0.873359\ttest-mlogloss:0.956069\n",
      "[420]\ttrain-mlogloss:0.870208\ttest-mlogloss:0.955847\n",
      "[440]\ttrain-mlogloss:0.867087\ttest-mlogloss:0.956128\n",
      "[460]\ttrain-mlogloss:0.864371\ttest-mlogloss:0.9562\n",
      "Stopping. Best iteration:\n",
      "[424]\ttrain-mlogloss:0.869594\ttest-mlogloss:0.955781\n",
      "\n",
      "[0]\ttrain-mlogloss:1.09362\ttest-mlogloss:1.09347\n",
      "Multiple eval metrics have been passed: 'test-mlogloss' will be used for early stopping.\n",
      "\n",
      "Will train until test-mlogloss hasn't improved in 50 rounds.\n",
      "[20]\ttrain-mlogloss:1.02589\ttest-mlogloss:1.02664\n",
      "[40]\ttrain-mlogloss:0.994417\ttest-mlogloss:0.9985\n",
      "[60]\ttrain-mlogloss:0.973143\ttest-mlogloss:0.980421\n",
      "[80]\ttrain-mlogloss:0.95727\ttest-mlogloss:0.969314\n",
      "[100]\ttrain-mlogloss:0.945834\ttest-mlogloss:0.961316\n",
      "[120]\ttrain-mlogloss:0.93695\ttest-mlogloss:0.956976\n",
      "[140]\ttrain-mlogloss:0.929581\ttest-mlogloss:0.953785\n",
      "[160]\ttrain-mlogloss:0.923539\ttest-mlogloss:0.951428\n",
      "[180]\ttrain-mlogloss:0.918262\ttest-mlogloss:0.949539\n",
      "[200]\ttrain-mlogloss:0.913513\ttest-mlogloss:0.947923\n",
      "[220]\ttrain-mlogloss:0.908797\ttest-mlogloss:0.947317\n",
      "[240]\ttrain-mlogloss:0.904532\ttest-mlogloss:0.947049\n",
      "[260]\ttrain-mlogloss:0.900353\ttest-mlogloss:0.94674\n",
      "[280]\ttrain-mlogloss:0.896533\ttest-mlogloss:0.945981\n",
      "[300]\ttrain-mlogloss:0.892985\ttest-mlogloss:0.946492\n",
      "[320]\ttrain-mlogloss:0.889028\ttest-mlogloss:0.945948\n",
      "[340]\ttrain-mlogloss:0.885646\ttest-mlogloss:0.945762\n",
      "[360]\ttrain-mlogloss:0.882289\ttest-mlogloss:0.94549\n",
      "[380]\ttrain-mlogloss:0.879097\ttest-mlogloss:0.945476\n",
      "[400]\ttrain-mlogloss:0.875914\ttest-mlogloss:0.945407\n",
      "Stopping. Best iteration:\n",
      "[369]\ttrain-mlogloss:0.880635\ttest-mlogloss:0.94528\n",
      "\n",
      "cv scores :  [0.96161719603203355, 0.94705214053896603, 0.95643444370765685, 0.9557814363621373, 0.94528025603861487]\n"
     ]
    }
   ],
   "source": [
    "kf = model_selection.KFold(n_splits=5, shuffle=True, random_state=2017)\n",
    "cv_scores = []\n",
    "pred_full_test = 0\n",
    "pred_train = np.zeros([train_df.shape[0], 3])\n",
    "for dev_index, val_index in kf.split(train_X):\n",
    "    dev_X, val_X = train_X.loc[dev_index], train_X.loc[val_index]\n",
    "    dev_y, val_y = train_y[dev_index], train_y[val_index]\n",
    "    pred_val_y, pred_test_y, model = runXGB(dev_X, dev_y, val_X, val_y, test_X, seed_val=0)\n",
    "    pred_full_test = pred_full_test + pred_test_y\n",
    "    pred_train[val_index,:] = pred_val_y\n",
    "    cv_scores.append(metrics.log_loss(val_y, pred_val_y))\n",
    "#     break\n",
    "print(\"cv scores : \", cv_scores)"
   ]
  },
  {
   "cell_type": "code",
   "execution_count": 12,
   "metadata": {
    "scrolled": true
   },
   "outputs": [
    {
     "data": {
      "image/png": "[encoded data removed]",
      "text/plain": [
       "<matplotlib.figure.Figure at 0x7f55c149f400>"
      ]
     },
     "metadata": {
      "image/png": {
       "height": 712,
       "width": 815
      }
     },
     "output_type": "display_data"
    }
   ],
   "source": [
    "### Plot the important variables ###\n",
    "fig, ax = plt.subplots(figsize=(12,12))\n",
    "xgb.plot_importance(model,height=0.8, ax=ax)\n",
    "plt.show()"
   ]
  },
  {
   "cell_type": "code",
   "execution_count": 13,
   "metadata": {},
   "outputs": [],
   "source": [
    "### Fit transform the tfidf vectorizer ###\n",
    "tfidf_vec = TfidfVectorizer(stop_words='english', ngram_range=(1,3))\n",
    "full_tfidf = tfidf_vec.fit_transform(train_df['text'].values.tolist() + test_df['text'].values.tolist())\n",
    "train_tfidf = tfidf_vec.transform(train_df['text'].values.tolist())\n",
    "test_tfidf = tfidf_vec.transform(test_df['text'].values.tolist())"
   ]
  },
  {
   "cell_type": "code",
   "execution_count": 14,
   "metadata": {
    "collapsed": true
   },
   "outputs": [],
   "source": [
    "def runMNB(train_X, train_y, test_X, test_y, test_X2):\n",
    "    model = naive_bayes.MultinomialNB()\n",
    "    model.fit(train_X, train_y)\n",
    "    pred_test_y = model.predict_proba(test_X)\n",
    "    pred_test_y2 = model.predict_proba(test_X2)\n",
    "    return pred_test_y, pred_test_y2, model"
   ]
  },
  {
   "cell_type": "code",
   "execution_count": 15,
   "metadata": {},
   "outputs": [
    {
     "name": "stdout",
     "output_type": "stream",
     "text": [
      "Mean cv score :  0.842216198361\n"
     ]
    }
   ],
   "source": [
    "cv_scores = []\n",
    "pred_full_test = 0\n",
    "pred_train = np.zeros([train_df.shape[0], 3])\n",
    "kf = model_selection.KFold(n_splits=5, shuffle=True, random_state=2017)\n",
    "for dev_index, val_index in kf.split(train_X):\n",
    "    dev_X, val_X = train_tfidf[dev_index], train_tfidf[val_index]\n",
    "    dev_y, val_y = train_y[dev_index], train_y[val_index]\n",
    "    pred_val_y, pred_test_y, model = runMNB(dev_X, dev_y, val_X, val_y, test_tfidf)\n",
    "    pred_full_test = pred_full_test + pred_test_y\n",
    "    pred_train[val_index,:] = pred_val_y\n",
    "    cv_scores.append(metrics.log_loss(val_y, pred_val_y))\n",
    "print(\"Mean cv score : \", np.mean(cv_scores))\n",
    "pred_full_test = pred_full_test / 5."
   ]
  },
  {
   "cell_type": "markdown",
   "metadata": {},
   "source": [
    "### SVD on word TFIDF:"
   ]
  },
  {
   "cell_type": "code",
   "execution_count": 16,
   "metadata": {
    "collapsed": true
   },
   "outputs": [],
   "source": [
    "n_comp = 20\n",
    "svd_obj = TruncatedSVD(n_components=n_comp, algorithm='arpack')\n",
    "svd_obj.fit(full_tfidf)\n",
    "train_svd = pd.DataFrame(svd_obj.transform(train_tfidf))\n",
    "test_svd = pd.DataFrame(svd_obj.transform(test_tfidf))\n",
    "    \n",
    "train_svd.columns = ['svd_word_'+str(i) for i in range(n_comp)]\n",
    "test_svd.columns = ['svd_word_'+str(i) for i in range(n_comp)]\n",
    "train_df = pd.concat([train_df, train_svd], axis=1)\n",
    "test_df = pd.concat([test_df, test_svd], axis=1)\n",
    "del full_tfidf, train_tfidf, test_tfidf, train_svd, test_svd"
   ]
  },
  {
   "cell_type": "code",
   "execution_count": 17,
   "metadata": {
    "collapsed": true
   },
   "outputs": [],
   "source": [
    "### Fit transform the count vectorizer ###\n",
    "tfidf_vec = CountVectorizer(stop_words='english', ngram_range=(1,3))\n",
    "tfidf_vec.fit(train_df['text'].values.tolist() + test_df['text'].values.tolist())\n",
    "train_tfidf = tfidf_vec.transform(train_df['text'].values.tolist())\n",
    "test_tfidf = tfidf_vec.transform(test_df['text'].values.tolist())"
   ]
  },
  {
   "cell_type": "code",
   "execution_count": 18,
   "metadata": {},
   "outputs": [
    {
     "name": "stdout",
     "output_type": "stream",
     "text": [
      "Mean cv score :  0.450918416166\n"
     ]
    }
   ],
   "source": [
    "cv_scores = []\n",
    "pred_full_test = 0\n",
    "pred_train = np.zeros([train_df.shape[0], 3])\n",
    "kf = model_selection.KFold(n_splits=5, shuffle=True, random_state=2017)\n",
    "for dev_index, val_index in kf.split(train_X):\n",
    "    dev_X, val_X = train_tfidf[dev_index], train_tfidf[val_index]\n",
    "    dev_y, val_y = train_y[dev_index], train_y[val_index]\n",
    "    pred_val_y, pred_test_y, model = runMNB(dev_X, dev_y, val_X, val_y, test_tfidf)\n",
    "    pred_full_test = pred_full_test + pred_test_y\n",
    "    pred_train[val_index,:] = pred_val_y\n",
    "    cv_scores.append(metrics.log_loss(val_y, pred_val_y))\n",
    "print(\"Mean cv score : \", np.mean(cv_scores))\n",
    "pred_full_test = pred_full_test / 5.\n",
    "\n",
    "# add the predictions as new features #\n",
    "train_df[\"nb_cvec_eap\"] = pred_train[:,0]\n",
    "train_df[\"nb_cvec_hpl\"] = pred_train[:,1]\n",
    "train_df[\"nb_cvec_mws\"] = pred_train[:,2]\n",
    "test_df[\"nb_cvec_eap\"] = pred_full_test[:,0]\n",
    "test_df[\"nb_cvec_hpl\"] = pred_full_test[:,1]\n",
    "test_df[\"nb_cvec_mws\"] = pred_full_test[:,2]"
   ]
  },
  {
   "cell_type": "code",
   "execution_count": 19,
   "metadata": {},
   "outputs": [
    {
     "name": "stdout",
     "output_type": "stream",
     "text": [
      "Mean cv score :  3.75076392268\n"
     ]
    }
   ],
   "source": [
    "### Fit transform the tfidf vectorizer ###\n",
    "tfidf_vec = CountVectorizer(ngram_range=(1,7), analyzer='char')\n",
    "tfidf_vec.fit(train_df['text'].values.tolist() + test_df['text'].values.tolist())\n",
    "train_tfidf = tfidf_vec.transform(train_df['text'].values.tolist())\n",
    "test_tfidf = tfidf_vec.transform(test_df['text'].values.tolist())\n",
    "\n",
    "cv_scores = []\n",
    "pred_full_test = 0\n",
    "pred_train = np.zeros([train_df.shape[0], 3])\n",
    "kf = model_selection.KFold(n_splits=5, shuffle=True, random_state=2017)\n",
    "for dev_index, val_index in kf.split(train_X):\n",
    "    dev_X, val_X = train_tfidf[dev_index], train_tfidf[val_index]\n",
    "    dev_y, val_y = train_y[dev_index], train_y[val_index]\n",
    "    pred_val_y, pred_test_y, model = runMNB(dev_X, dev_y, val_X, val_y, test_tfidf)\n",
    "    pred_full_test = pred_full_test + pred_test_y\n",
    "    pred_train[val_index,:] = pred_val_y\n",
    "    cv_scores.append(metrics.log_loss(val_y, pred_val_y))\n",
    "print(\"Mean cv score : \", np.mean(cv_scores))\n",
    "pred_full_test = pred_full_test / 5.\n",
    "\n",
    "# add the predictions as new features #\n",
    "train_df[\"nb_cvec_char_eap\"] = pred_train[:,0]\n",
    "train_df[\"nb_cvec_char_hpl\"] = pred_train[:,1]\n",
    "train_df[\"nb_cvec_char_mws\"] = pred_train[:,2]\n",
    "test_df[\"nb_cvec_char_eap\"] = pred_full_test[:,0]\n",
    "test_df[\"nb_cvec_char_hpl\"] = pred_full_test[:,1]\n",
    "test_df[\"nb_cvec_char_mws\"] = pred_full_test[:,2]"
   ]
  },
  {
   "cell_type": "code",
   "execution_count": 20,
   "metadata": {},
   "outputs": [
    {
     "name": "stdout",
     "output_type": "stream",
     "text": [
      "Mean cv score :  0.790415258947\n"
     ]
    }
   ],
   "source": [
    "### Fit transform the tfidf vectorizer ###\n",
    "tfidf_vec = TfidfVectorizer(ngram_range=(1,5), analyzer='char')\n",
    "full_tfidf = tfidf_vec.fit_transform(train_df['text'].values.tolist() + test_df['text'].values.tolist())\n",
    "train_tfidf = tfidf_vec.transform(train_df['text'].values.tolist())\n",
    "test_tfidf = tfidf_vec.transform(test_df['text'].values.tolist())\n",
    "\n",
    "cv_scores = []\n",
    "pred_full_test = 0\n",
    "pred_train = np.zeros([train_df.shape[0], 3])\n",
    "kf = model_selection.KFold(n_splits=5, shuffle=True, random_state=2017)\n",
    "for dev_index, val_index in kf.split(train_X):\n",
    "    dev_X, val_X = train_tfidf[dev_index], train_tfidf[val_index]\n",
    "    dev_y, val_y = train_y[dev_index], train_y[val_index]\n",
    "    pred_val_y, pred_test_y, model = runMNB(dev_X, dev_y, val_X, val_y, test_tfidf)\n",
    "    pred_full_test = pred_full_test + pred_test_y\n",
    "    pred_train[val_index,:] = pred_val_y\n",
    "    cv_scores.append(metrics.log_loss(val_y, pred_val_y))\n",
    "print(\"Mean cv score : \", np.mean(cv_scores))\n",
    "pred_full_test = pred_full_test / 5.\n",
    "\n",
    "# add the predictions as new features #\n",
    "train_df[\"nb_tfidf_char_eap\"] = pred_train[:,0]\n",
    "train_df[\"nb_tfidf_char_hpl\"] = pred_train[:,1]\n",
    "train_df[\"nb_tfidf_char_mws\"] = pred_train[:,2]\n",
    "test_df[\"nb_tfidf_char_eap\"] = pred_full_test[:,0]\n",
    "test_df[\"nb_tfidf_char_hpl\"] = pred_full_test[:,1]\n",
    "test_df[\"nb_tfidf_char_mws\"] = pred_full_test[:,2]"
   ]
  },
  {
   "cell_type": "markdown",
   "metadata": {},
   "source": [
    "### SVD on Character TFIDF:"
   ]
  },
  {
   "cell_type": "code",
   "execution_count": 21,
   "metadata": {},
   "outputs": [],
   "source": [
    "n_comp = 20\n",
    "svd_obj = TruncatedSVD(n_components=n_comp, algorithm='arpack')\n",
    "svd_obj.fit(full_tfidf)\n",
    "train_svd = pd.DataFrame(svd_obj.transform(train_tfidf))\n",
    "test_svd = pd.DataFrame(svd_obj.transform(test_tfidf))\n",
    "    \n",
    "train_svd.columns = ['svd_char_'+str(i) for i in range(n_comp)]\n",
    "test_svd.columns = ['svd_char_'+str(i) for i in range(n_comp)]\n",
    "train_df = pd.concat([train_df, train_svd], axis=1)\n",
    "test_df = pd.concat([test_df, test_svd], axis=1)\n",
    "del full_tfidf, train_tfidf, test_tfidf, train_svd, test_svd"
   ]
  },
  {
   "cell_type": "code",
   "execution_count": null,
   "metadata": {
    "collapsed": true
   },
   "outputs": [],
   "source": []
  },
  {
   "cell_type": "markdown",
   "metadata": {},
   "source": [
    "# Final "
   ]
  },
  {
   "cell_type": "code",
   "execution_count": 22,
   "metadata": {},
   "outputs": [
    {
     "name": "stdout",
     "output_type": "stream",
     "text": [
      "[0]\ttrain-mlogloss:1.00462\ttest-mlogloss:1.004\n",
      "Multiple eval metrics have been passed: 'test-mlogloss' will be used for early stopping.\n",
      "\n",
      "Will train until test-mlogloss hasn't improved in 50 rounds.\n",
      "[20]\ttrain-mlogloss:0.40958\ttest-mlogloss:0.415031\n",
      "[40]\ttrain-mlogloss:0.340381\ttest-mlogloss:0.352183\n",
      "[60]\ttrain-mlogloss:0.314434\ttest-mlogloss:0.333657\n",
      "[80]\ttrain-mlogloss:0.297542\ttest-mlogloss:0.324148\n",
      "[100]\ttrain-mlogloss:0.284183\ttest-mlogloss:0.318382\n",
      "[120]\ttrain-mlogloss:0.273188\ttest-mlogloss:0.31499\n",
      "[140]\ttrain-mlogloss:0.26361\ttest-mlogloss:0.311994\n",
      "[160]\ttrain-mlogloss:0.254649\ttest-mlogloss:0.309811\n",
      "[180]\ttrain-mlogloss:0.246908\ttest-mlogloss:0.308492\n",
      "[200]\ttrain-mlogloss:0.239692\ttest-mlogloss:0.307481\n",
      "[220]\ttrain-mlogloss:0.232814\ttest-mlogloss:0.306649\n",
      "[240]\ttrain-mlogloss:0.226044\ttest-mlogloss:0.306011\n",
      "[260]\ttrain-mlogloss:0.219991\ttest-mlogloss:0.305938\n",
      "[280]\ttrain-mlogloss:0.21422\ttest-mlogloss:0.305682\n",
      "[300]\ttrain-mlogloss:0.20821\ttest-mlogloss:0.305065\n",
      "[320]\ttrain-mlogloss:0.202651\ttest-mlogloss:0.305187\n",
      "[340]\ttrain-mlogloss:0.197144\ttest-mlogloss:0.304956\n",
      "[360]\ttrain-mlogloss:0.1917\ttest-mlogloss:0.305437\n",
      "[380]\ttrain-mlogloss:0.186741\ttest-mlogloss:0.305099\n",
      "Stopping. Best iteration:\n",
      "[339]\ttrain-mlogloss:0.197481\ttest-mlogloss:0.304782\n",
      "\n",
      "cv scores :  [0.30478183700107347]\n"
     ]
    }
   ],
   "source": [
    "cols_to_drop = ['id', 'text']\n",
    "train_X = train_df.drop(cols_to_drop+['author'], axis=1)\n",
    "test_X = test_df.drop(cols_to_drop, axis=1)\n",
    "\n",
    "kf = model_selection.KFold(n_splits=5, shuffle=True, random_state=2017)\n",
    "cv_scores = []\n",
    "pred_full_test = 0\n",
    "pred_train = np.zeros([train_df.shape[0], 3])\n",
    "for dev_index, val_index in kf.split(train_X):\n",
    "    dev_X, val_X = train_X.loc[dev_index], train_X.loc[val_index]\n",
    "    dev_y, val_y = train_y[dev_index], train_y[val_index]\n",
    "    pred_val_y, pred_test_y, model = runXGB(dev_X, dev_y, val_X, val_y, test_X, seed_val=0, colsample=0.7)\n",
    "    pred_full_test = pred_full_test + pred_test_y\n",
    "    pred_train[val_index,:] = pred_val_y\n",
    "    cv_scores.append(metrics.log_loss(val_y, pred_val_y))\n",
    "    break\n",
    "print(\"cv scores : \", cv_scores)\n",
    "\n",
    "out_df = pd.DataFrame(pred_full_test)\n",
    "out_df.columns = ['EAP', 'HPL', 'MWS']\n",
    "out_df.insert(0, 'id', test_id)\n",
    "out_df.to_csv(\"sub_final_ensemble.csv\", index=False)"
   ]
  },
  {
   "cell_type": "code",
   "execution_count": null,
   "metadata": {
    "collapsed": true
   },
   "outputs": [],
   "source": []
  }
 ],
 "metadata": {
  "kernelspec": {
   "display_name": "Python 3",
   "language": "python",
   "name": "python3"
  },
  "language_info": {
   "codemirror_mode": {
    "name": "ipython",
    "version": 3
   },
   "file_extension": ".py",
   "mimetype": "text/x-python",
   "name": "python",
   "nbconvert_exporter": "python",
   "pygments_lexer": "ipython3",
   "version": "3.6.1"
  }
 },
 "nbformat": 4,
 "nbformat_minor": 2
}
