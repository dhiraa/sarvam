{
 "cells": [
  {
   "cell_type": "raw",
   "metadata": {
    "deletable": true,
    "editable": true
   },
   "source": [
    "!rm *csv"
   ]
  },
  {
   "cell_type": "code",
   "execution_count": 427,
   "metadata": {
    "collapsed": false,
    "deletable": true,
    "editable": true
   },
   "outputs": [
    {
     "name": "stdout",
     "output_type": "stream",
     "text": [
      "total 1488\r\n",
      "-rw-r--r--  1 sampathm  staff   61150 Nov  1 00:06 EDA.ipynb\r\n",
      "-rw-r--r--@ 1 sampathm  staff  140966 Nov  1 00:43 spooky-author-identification.ipynb\r\n",
      "-rw-r--r--  1 sampathm  staff  555695 Nov  1 00:45 sub_fe.csv\r\n"
     ]
    }
   ],
   "source": [
    "!ls  -l"
   ]
  },
  {
   "cell_type": "code",
   "execution_count": null,
   "metadata": {
    "collapsed": true,
    "deletable": true,
    "editable": true
   },
   "outputs": [],
   "source": [
    "scala random seed"
   ]
  },
  {
   "cell_type": "code",
   "execution_count": 10,
   "metadata": {
    "collapsed": false,
    "deletable": true,
    "editable": true
   },
   "outputs": [],
   "source": [
    "import numpy as np # linear algebra\n",
    "import pandas as pd # data processing, CSV file I/O (e.g. pd.read_csv)\n",
    "import matplotlib.pyplot as plt\n",
    "import seaborn as sns\n",
    "\n",
    "np.random.seed(42)\n",
    "\n",
    "color = sns.color_palette()\n",
    "\n",
    "%matplotlib inline\n",
    "\n",
    "pd.options.mode.chained_assignment = None"
   ]
  },
  {
   "cell_type": "code",
   "execution_count": 3,
   "metadata": {
    "collapsed": false,
    "deletable": true,
    "editable": true
   },
   "outputs": [
    {
     "name": "stdout",
     "output_type": "stream",
     "text": [
      "Number of rows in train dataset :  19579\n",
      "Number of rows in test dataset :  8392\n"
     ]
    }
   ],
   "source": [
    "## Read the train and test dataset and check the top few lines ##\n",
    "train_df = pd.read_csv(\"../input/train.csv\")\n",
    "test_df = pd.read_csv(\"../input/test.csv\")\n",
    "print(\"Number of rows in train dataset : \",train_df.shape[0])\n",
    "print(\"Number of rows in test dataset : \",test_df.shape[0])"
   ]
  },
  {
   "cell_type": "code",
   "execution_count": 9,
   "metadata": {
    "collapsed": false,
    "deletable": true,
    "editable": true
   },
   "outputs": [
    {
     "data": {
      "text/plain": [
       "<matplotlib.axes._subplots.AxesSubplot at 0x10e07c550>"
      ]
     },
     "execution_count": 9,
     "metadata": {},
     "output_type": "execute_result"
    },
    {
     "data": {
      "image/png": "[encoded data removed]",
      "text/plain": [
       "<matplotlib.figure.Figure at 0x10e2297f0>"
      ]
     },
     "metadata": {},
     "output_type": "display_data"
    }
   ],
   "source": [
    "train_df.author.value_counts().plot(kind='bar')"
   ]
  },
  {
   "cell_type": "code",
   "execution_count": 80,
   "metadata": {
    "collapsed": false,
    "deletable": true,
    "editable": true
   },
   "outputs": [
    {
     "data": {
      "text/plain": [
       "['EAP', 'HPL', 'MWS']"
      ]
     },
     "execution_count": 80,
     "metadata": {},
     "output_type": "execute_result"
    }
   ],
   "source": [
    "train_df.author.unique().tolist()"
   ]
  },
  {
   "cell_type": "code",
   "execution_count": 17,
   "metadata": {
    "collapsed": false,
    "deletable": true,
    "editable": true
   },
   "outputs": [
    {
     "data": {
      "text/plain": [
       "[5390, 11964, 11284]"
      ]
     },
     "execution_count": 17,
     "metadata": {},
     "output_type": "execute_result"
    }
   ],
   "source": [
    "[np.random.choice(train_df.index) for _ in range(3)]"
   ]
  },
  {
   "cell_type": "code",
   "execution_count": 31,
   "metadata": {
    "collapsed": false,
    "deletable": true,
    "editable": true
   },
   "outputs": [
    {
     "data": {
      "text/plain": [
       "id        object\n",
       "text      object\n",
       "author    object\n",
       "dtype: object"
      ]
     },
     "execution_count": 31,
     "metadata": {},
     "output_type": "execute_result"
    }
   ],
   "source": [
    "train_df.dtypes"
   ]
  },
  {
   "cell_type": "code",
   "execution_count": 82,
   "metadata": {
    "collapsed": false,
    "deletable": true,
    "editable": true
   },
   "outputs": [
    {
     "name": "stdout",
     "output_type": "stream",
     "text": [
      "------------------------------------------------------------------------------------------ EAP\n",
      "Upon this I made an effort to get up, in order to put my threat into execution; but the ruffian just reached across the table very deliberately, and hitting me a tap on the forehead with the neck of one of the long bottles, knocked me back into the arm chair from which I had half arisen.\n",
      "\n",
      "Was that was that was that rouge?\n",
      "\n",
      "Among other odd ideas, that of universal equality gained ground; and in the face of analogy and of God in despite of the loud warning voice of the laws of gradation so visibly pervading all things in Earth an Heaven wild attempts at an omni prevalent Democracy were made.\n",
      "\n",
      "------------------------------------------------------------------------------------------ HPL\n",
      "With one savage kick he sent the morbidity over the edge of the gulf and heard it whimper on some level far below.\n",
      "\n",
      "It was very dark, for although the sky was clear the moon was now well in the wane, and would not rise till the small hours.\n",
      "\n",
      "Go thou then to Athok the cobbler or be gone out of the city by sunset.\n",
      "\n",
      "------------------------------------------------------------------------------------------ MWS\n",
      "Adrian, Idris and I, were established in Windsor Castle; Lord Raymond and my sister, inhabited a house which the former had built on the borders of the Great Park, near Perdita's cottage, as was still named the low roofed abode, where we two, poor even in hope, had each received the assurance of our felicity.\n",
      "\n",
      "After this Martha was seated more firmly than ever on the regal seat, elevated by reverence and love.\n",
      "\n",
      "He was not at the palace; and, though the attendants did not know whither he had gone, they did not expect him till late at night.\n",
      "\n"
     ]
    }
   ],
   "source": [
    "for author in train_df.author.unique().tolist():\n",
    "    print('--' * 45, author)\n",
    "    for i in range(3):\n",
    "        mychoice = np.random.choice(train_df[train_df.author == author].index)\n",
    "        print(train_df.text[mychoice])\n",
    "        print('')"
   ]
  },
  {
   "cell_type": "code",
   "execution_count": 54,
   "metadata": {
    "collapsed": false,
    "deletable": true,
    "editable": true
   },
   "outputs": [
    {
     "data": {
      "text/plain": [
       "<matplotlib.axes._subplots.AxesSubplot at 0x11185b8d0>"
      ]
     },
     "execution_count": 54,
     "metadata": {},
     "output_type": "execute_result"
    },
    {
     "data": {
      "image/png": "[encoded data removed]",
      "text/plain": [
       "<matplotlib.figure.Figure at 0x1119b1a58>"
      ]
     },
     "metadata": {},
     "output_type": "display_data"
    }
   ],
   "source": [
    "sns.distplot(train_df.text.map(len))"
   ]
  },
  {
   "cell_type": "code",
   "execution_count": 56,
   "metadata": {
    "collapsed": false,
    "deletable": true,
    "editable": true
   },
   "outputs": [
    {
     "data": {
      "text/plain": [
       "count    19579.000000\n",
       "mean       149.057408\n",
       "std        106.800189\n",
       "min         21.000000\n",
       "25%         81.000000\n",
       "50%        128.000000\n",
       "75%        191.000000\n",
       "max       4663.000000\n",
       "Name: text, dtype: float64"
      ]
     },
     "execution_count": 56,
     "metadata": {},
     "output_type": "execute_result"
    }
   ],
   "source": [
    "train_df.text.map(len).describe()"
   ]
  },
  {
   "cell_type": "code",
   "execution_count": 61,
   "metadata": {
    "collapsed": false,
    "deletable": true,
    "editable": true
   },
   "outputs": [
    {
     "data": {
      "image/png": "[encoded data removed]",
      "text/plain": [
       "<matplotlib.figure.Figure at 0x111fff5c0>"
      ]
     },
     "metadata": {},
     "output_type": "display_data"
    }
   ],
   "source": [
    "_ = plt.boxplot(train_df.text.map(len))"
   ]
  },
  {
   "cell_type": "code",
   "execution_count": 67,
   "metadata": {
    "collapsed": false,
    "deletable": true,
    "editable": true
   },
   "outputs": [],
   "source": [
    "tmp = train_df.text.map(len).sort_values()"
   ]
  },
  {
   "cell_type": "code",
   "execution_count": 78,
   "metadata": {
    "collapsed": false,
    "deletable": true,
    "editable": true
   },
   "outputs": [
    {
     "data": {
      "text/plain": [
       "(19524,)"
      ]
     },
     "execution_count": 78,
     "metadata": {},
     "output_type": "execute_result"
    }
   ],
   "source": [
    "tmp[:-55].shape"
   ]
  },
  {
   "cell_type": "code",
   "execution_count": 79,
   "metadata": {
    "collapsed": false,
    "deletable": true,
    "editable": true
   },
   "outputs": [
    {
     "data": {
      "text/plain": [
       "([<matplotlib.axis.XTick at 0x1120206d8>,\n",
       "  <matplotlib.axis.XTick at 0x11252f748>,\n",
       "  <matplotlib.axis.XTick at 0x11245bda0>,\n",
       "  <matplotlib.axis.XTick at 0x112811438>,\n",
       "  <matplotlib.axis.XTick at 0x112811ef0>,\n",
       "  <matplotlib.axis.XTick at 0x11281d9e8>,\n",
       "  <matplotlib.axis.XTick at 0x1128214e0>,\n",
       "  <matplotlib.axis.XTick at 0x112821f98>,\n",
       "  <matplotlib.axis.XTick at 0x11282ba90>,\n",
       "  <matplotlib.axis.XTick at 0x112830588>],\n",
       " <a list of 10 Text xticklabel objects>)"
      ]
     },
     "execution_count": 79,
     "metadata": {},
     "output_type": "execute_result"
    },
    {
     "data": {
      "image/png": "[encoded data removed]",
      "text/plain": [
       "<matplotlib.figure.Figure at 0x112003e48>"
      ]
     },
     "metadata": {},
     "output_type": "display_data"
    }
   ],
   "source": [
    "sns.violinplot(tmp[:-55])\n",
    "plt.xticks([i * 100 for i in range(10)])"
   ]
  },
  {
   "cell_type": "markdown",
   "metadata": {
    "deletable": true,
    "editable": true
   },
   "source": [
    "## Keywords Analysis  for Each Author"
   ]
  },
  {
   "cell_type": "code",
   "execution_count": 83,
   "metadata": {
    "collapsed": true,
    "deletable": true,
    "editable": true
   },
   "outputs": [],
   "source": [
    "from collections import Counter"
   ]
  },
  {
   "cell_type": "code",
   "execution_count": null,
   "metadata": {
    "collapsed": true,
    "deletable": true,
    "editable": true
   },
   "outputs": [],
   "source": [
    "for author in train_df.author.unique().tolist():\n",
    "    print('--' * 45, author)\n",
    "    for i in range(3):\n",
    "        mychoice = np.random.choice(train_df[train_df.author == author].index)\n",
    "        print(train_df.text[mychoice])\n",
    "        print('')"
   ]
  },
  {
   "cell_type": "code",
   "execution_count": 120,
   "metadata": {
    "collapsed": false,
    "deletable": true,
    "editable": true
   },
   "outputs": [
    {
     "name": "stdout",
     "output_type": "stream",
     "text": [
      "[' ', ',', '.', 'a', 'c', 'd', 'e', 'f', 'g', 'h', 'i', 'k', 'l', 'm', 'n', 'o', 'r', 's', 't', 'u', 'w', 'y']\n"
     ]
    }
   ],
   "source": [
    "data = train_df.text\n",
    "\n",
    "special_chars  = set()\n",
    "for each in data:\n",
    "    raw_data = special_chars.union(set(each.lower()))\n",
    "\n",
    "print(sorted(list(raw_data)))"
   ]
  },
  {
   "cell_type": "code",
   "execution_count": 183,
   "metadata": {
    "collapsed": false,
    "deletable": true,
    "editable": true
   },
   "outputs": [
    {
     "name": "stdout",
     "output_type": "stream",
     "text": [
      "---------------------------------------------------------------------- EAP\n",
      "[' ', '\"', ',', '.', 'a', 'c', 'd', 'e', 'f', 'h', 'i', 'k', 'l', 'm', 'n', 'o', 'r', 's', 't', 'u', 'v', 'w', 'y']\n",
      "---------------------------------------------------------------------- HPL\n",
      "[' ', ',', '.', 'a', 'c', 'd', 'e', 'f', 'g', 'h', 'i', 'k', 'l', 'm', 'n', 'o', 'r', 's', 't', 'u', 'w', 'y']\n",
      "---------------------------------------------------------------------- MWS\n",
      "[' ', ',', '.', ';', 'a', 'b', 'c', 'd', 'e', 'f', 'g', 'h', 'i', 'k', 'l', 'm', 'n', 'o', 'p', 'r', 's', 't', 'u', 'v', 'w', 'y']\n"
     ]
    }
   ],
   "source": [
    "for author in train_df.author.unique():\n",
    "    print('--' * 35 , author)\n",
    "    data = train_df[train_df.author == author].text\n",
    "\n",
    "    special_chars  = set()\n",
    "    for each in data:\n",
    "        raw_data = special_chars.union(set(each.lower()))\n",
    "        \n",
    "    print(sorted(list(raw_data)))"
   ]
  },
  {
   "cell_type": "code",
   "execution_count": 193,
   "metadata": {
    "collapsed": false,
    "deletable": true,
    "editable": true
   },
   "outputs": [
    {
     "name": "stdout",
     "output_type": "stream",
     "text": [
      "          c\n",
      "a   b      \n",
      "EAP 0  7139\n",
      "    1   610\n",
      "    2   119\n",
      "    3    20\n",
      "    4     7\n",
      "    5     2\n",
      "    6     2\n",
      "    7     1\n",
      "HPL 0  4619\n",
      "    1   754\n",
      "    2   206\n",
      "    3    48\n",
      "    4     7\n",
      "    5     1\n",
      "MWS 0  5228\n",
      "    1   585\n",
      "    2   172\n",
      "    3    39\n",
      "    4    15\n",
      "    5     4\n",
      "    6     1\n"
     ]
    }
   ],
   "source": [
    "# mask = train_df.text.map(lambda x: (x.lower().count('\"') or x.lower().count(\"'\")))\n",
    "\n",
    "mask = train_df.text.map(lambda x: (x.lower().count(' he ')))\n",
    "\n",
    "# mask = train_df.text.map(lambda x: (x.lower().count('\"') or x.lower().count(\"'\")) > 0 )\n",
    "\n",
    "tmp = pd.DataFrame({'a': train_df.author, 'b': mask, 'c': 1})\n",
    "\n",
    "print(tmp.groupby(['a', 'b']).count())"
   ]
  },
  {
   "cell_type": "code",
   "execution_count": 223,
   "metadata": {
    "collapsed": false,
    "deletable": true,
    "editable": true
   },
   "outputs": [],
   "source": [
    "data = train_df[train_df.author == author].text\n",
    "\n",
    "raw_data  = ''\n",
    "\n",
    "for each in data:\n",
    "    raw_data += each + ' '"
   ]
  },
  {
   "cell_type": "code",
   "execution_count": 224,
   "metadata": {
    "collapsed": false,
    "deletable": true,
    "editable": true
   },
   "outputs": [
    {
     "data": {
      "text/plain": [
       "array([ 'A youth passed in solitude, my best years spent under your gentle and feminine fosterage, has so refined the groundwork of my character that I cannot overcome an intense distaste to the usual brutality exercised on board ship: I have never believed it to be necessary, and when I heard of a mariner equally noted for his kindliness of heart and the respect and obedience paid to him by his crew, I felt myself peculiarly fortunate in being able to secure his services.',\n",
       "       'He began to answer with violence: \"Yes, yes, I hate you You are my bane, my poison, my disgust Oh No\" And then his manner changed, and fixing his eyes on me with an expression that convulsed every nerve and member of my frame \"you are none of all these; you are my light, my only one, my life.',\n",
       "       'Look, I weep: for more than two years I have never enjoyed one moment free from anguish.',\n",
       "       'I soon arrived at the hut: the door was ajar.',\n",
       "       'I heard the next morning from the steward that upon his arrival he had been in a most terrible state of mind: he had passed the first night in the garden lying on the damp grass; he did not sleep but groaned perpetually.'], dtype=object)"
      ]
     },
     "execution_count": 224,
     "metadata": {},
     "output_type": "execute_result"
    }
   ],
   "source": [
    "tmp = train_df[train_df.author == author].text\n",
    "mask = tmp.map(lambda x: \":\" in x)\n",
    "tmp[mask].head().values"
   ]
  },
  {
   "cell_type": "code",
   "execution_count": 113,
   "metadata": {
    "collapsed": false,
    "deletable": true,
    "editable": true
   },
   "outputs": [
    {
     "data": {
      "text/plain": [
       "array(['why string my nerves and renew my wearied efforts ah, why?',\n",
       "       '\"Are you better now, sir?\" said she.',\n",
       "       'Alas, what will become of us?',\n",
       "       '\"What can I do?\" she cried, \"I am lost we are both for ever lost But come come with me, Lionel; here I must not stay, we can get a chaise at the nearest post house; yet perhaps we have time come, O come with me to save and protect me\" When I heard her piteous demands, while with disordered dress, dishevelled hair, and aghast looks, she wrung her hands the idea shot across me is she also mad? \"Sweet one,\" and I folded her to my heart, \"better repose than wander further; rest my beloved, I will make a fire you are chill.\"',\n",
       "       'The landlady met her in the passage; the poor creature asked, \"Is my husband here?'], dtype=object)"
      ]
     },
     "execution_count": 113,
     "metadata": {},
     "output_type": "execute_result"
    }
   ],
   "source": [
    "tmp = train_df[train_df.author == author].text\n",
    "mask = tmp.map(lambda x: \"?\" in x)\n",
    "tmp[mask].head().values"
   ]
  },
  {
   "cell_type": "code",
   "execution_count": 107,
   "metadata": {
    "collapsed": false,
    "deletable": true,
    "editable": true
   },
   "outputs": [
    {
     "data": {
      "text/plain": [
       "'how lovely is spring as we looked from windsor terrace on the sixteen fertile counties spread beneath, speckled by happy cottages and wealthier towns, all looked as in former years, heart cheering and fair. a youth passed in solitude, my best years spent under your gentle and feminine fosterage, has so refined the groundwork of my character that i cannot overcome an intense distaste to the usual brutality exercised on board ship: i have never believed it to be necessary, and when i heard of a ma'"
      ]
     },
     "execution_count": 107,
     "metadata": {},
     "output_type": "execute_result"
    }
   ],
   "source": [
    "raw_data = raw_data.lower()\n",
    "\n",
    "raw_data[:500]"
   ]
  },
  {
   "cell_type": "code",
   "execution_count": 228,
   "metadata": {
    "collapsed": false,
    "deletable": true,
    "editable": true
   },
   "outputs": [
    {
     "data": {
      "text/plain": [
       "'MWS'"
      ]
     },
     "execution_count": 228,
     "metadata": {},
     "output_type": "execute_result"
    }
   ],
   "source": [
    "author"
   ]
  },
  {
   "cell_type": "code",
   "execution_count": 387,
   "metadata": {
    "collapsed": true,
    "deletable": true,
    "editable": true
   },
   "outputs": [],
   "source": [
    "def transform(data):\n",
    "    data = data.replace('\"', ' $ ')\n",
    "    data = data.replace(\"'\", ' $ ')\n",
    "    data = data.replace(\",\", ' , ')\n",
    "    data = data.replace(\".\", ' . ')\n",
    "    data = data.lower()\n",
    "    return data\n",
    "\n",
    "\n",
    "def get_author_data(author):\n",
    "    data = train_df[train_df.author == author].text\n",
    "    raw_data  = ''\n",
    "    for each in data:\n",
    "        raw_data += each + ' '\n",
    "\n",
    "    tmp = Counter(transform(raw_data).split())\n",
    "    df =  pd.DataFrame(tmp, index=range(1)).T\n",
    "    df.columns = [author]\n",
    "    return df"
   ]
  },
  {
   "cell_type": "code",
   "execution_count": 373,
   "metadata": {
    "collapsed": false,
    "deletable": true,
    "editable": true
   },
   "outputs": [
    {
     "data": {
      "text/plain": [
       "EAP    7900\n",
       "MWS    6044\n",
       "HPL    5635\n",
       "Name: author, dtype: int64"
      ]
     },
     "execution_count": 373,
     "metadata": {},
     "output_type": "execute_result"
    }
   ],
   "source": [
    "train_df.author.value_counts()"
   ]
  },
  {
   "cell_type": "code",
   "execution_count": 374,
   "metadata": {
    "collapsed": false,
    "deletable": true,
    "editable": true
   },
   "outputs": [],
   "source": [
    "## Average number of times a value is repeated ##\n",
    "MWS =  get_author_data('MWS') / 7900\n",
    "HPL =  get_author_data('HPL') / 6044\n",
    "EAP =  get_author_data('EAP') / 5635\n",
    "\n",
    "keywords_df = MWS.join(HPL).join(EAP).fillna(0)"
   ]
  },
  {
   "cell_type": "code",
   "execution_count": 375,
   "metadata": {
    "collapsed": true,
    "deletable": true,
    "editable": true
   },
   "outputs": [],
   "source": [
    "def get_most_used_keyword(author, threshold=0.1):\n",
    "    print(\"---\" * 45 + ' Author: ' + author + ' Threshold ' + str(threshold))\n",
    "    tmp = keywords_df.sort_values([author], ascending=False)\n",
    "    mask = tmp[author] > threshold\n",
    "    aset = tmp[author][mask].index.tolist()\n",
    "    print(aset)\n",
    "    return set(aset)"
   ]
  },
  {
   "cell_type": "code",
   "execution_count": 456,
   "metadata": {
    "collapsed": false,
    "deletable": true,
    "editable": true,
    "scrolled": false
   },
   "outputs": [
    {
     "name": "stdout",
     "output_type": "stream",
     "text": [
      "--------------------------------------------------------------------------------------------------------------------------------------- Author: EAP Threshold 0.01\n",
      "[',', 'the', 'of', '.', 'and', 'to', 'a', '$', 'in', 'i', 'that', 'it', 'was', 'my', 'with', 'is', 'at', 'as', 'which', 'for', 'had', 'he', 'this', 'his', 'not', 'by', 'but', 'be', 'have', 'upon', 'from', 'me', 'all', 'no', 'we', 'an', 'so', 'or', 'you', 'were', 'been', 'one', 'there', 'its', 'on', 'very', 'her', 'more', 'are', 'now', 'could', 'into', 'some', 'than', 'what', 'when', 'him', 'would', 's', 'about', 'will', 'any', 'these', 'said', 'if', 'then', 'they', 'our', 'their', 'who', 'most', 'up', 'has', 'she', 'little', 'only', 'out', 'made', 'say', 'even', 'well', 'time', 'however', 'them', 'first', 'man', 'such', 'here', 'thus', 'other', 'us', 'yet', 'much', 'found', 'great', 'before', 'should', 'long', 'two', 'through', 'myself', 'your', 'every', 'being', 'over', 'own', 'did', 'never', 'after', 'must', 'still', 'while', 'might', 'having', 'do', 'can', 'once', 'without', 'may', 'whole', 'length', 'within', 'like', 'day', 'although', 'thought', 'mr', 'eyes', 'indeed', 'those', 'down', 'head', 'far', 'many', 'too', 'nothing', 'again', 'how', 'seemed', 'three', 'himself', 'way', 'let', 'night', 'left', 'good', 'am', 'old', 'just', 'matter', 'thing', 'de', 'point', 'see', 'shall', 'few', 'mind', 'hand', 'came', 'make', 'course', 'body', 'where', 'back', 'same', 'fact', 'seen', 'saw', 'door', 'feet', 'idea', 'until', 'general', 'manner', 'full', 'room', 'death', 'means', 'ever', 'know', 'less', 'each', 'took', 'words', 'light', 'during', 'itself', 'doubt', 'life', 'moment', 'nature', 'water', 'character', 'nearly', 'person', 'between', 'air', 'under', 'earth', 'place', 'large', 'years', 't', 'house', 'voice', 'eye', 'became', 'perhaps', 'right', 'part', 'lay', 'why', 'among', 'thousand', 'least', 'heart', 'world', 'immediately', 'felt', 'whose', 'period', 'off', 'nor', 'above', 'question', 'rather', 'end', 'half', 'altogether', 'heard', 'open', 'also', 'mere', 'attention', 'sure', 'o', 'done', 'five', 'things', 'case', 'quite', 'beyond', 'l', 'appeared', 'friend', 'latter', 'true', 'reason', 'portion', 'days', 'lady', 'appearance', 'gave', 'known', 'possible', 'soul', 'human', 'four', 'second', 'last', 'certain', 'soon', 'put', 'fell', 'word', 'take', 'either', 'truth', 'find', 'called', 'small', 'madame', 'difficulty', 'object', 'around', 'chamber', 'name', 'whom', 'present', 'think', 'young', 'went', 'side', 'arm', 'm', 'view', 'cannot', 'minutes', 'balloon', 'since', 'merely', 'alone', 'ordinary', 'knew', 'therefore', 'spirit', 'hour', 'stood', 'account', 'something', 'looking', 'scarcely', 'taken', 'new', 'looked', 'morning', 'twenty', 'turned', 'face', 'always', 'corpse', 'away', 'given', 'high', 'already', 'go', 'deep', 'near', 'natural', 'observed', 'speak', 'another', 'sea', 'sense', 'form', 'continued', 'really', 'impossible', 'city', 'men', 'both', 'box', 'vast', 'oh', 'wild', 'believe', 'gentleman', 'moon', 'position', 'tell', 'figure', 'circumstances', 'atmosphere', 'main', 'passed', 'state', 'give', 'dark', 'black', 'machine', 'kind', 'get', 'spoke', 'longer', 'brought']\n",
      "--------------------------------------------------------------------------------------------------------------------------------------- Author: HPL Threshold 0.01\n",
      "['the', ',', 'and', '.', 'of', 'a', 'to', 'in', 'i', '$', 'was', 'that', 'had', 'he', 'it', 'as', 'his', 'with', 'for', 'but', 'my', 'at', 'on', 'which', 'from', 'not', 'were', 'by', 'they', 'an', 's', 'me', 'all', 'or', 'when', 'one', 'be', 'this', 'could', 'there', 'him', 'have', 'no', 'so', 'old', 'been', 'we', 'what', 'some', 'is', 'would', 'more', 'out', 'only', 'its', 'their', 'now', 'up', 'into', 'them', 'man', 'who', 'then', 'seemed', 'like', 'before', 'did', 'very', 'than', 'about', 'after', 'night', 'time', 'though', 'saw', 'things', 'where', 'came', 'through', 'over', 'men', 'down', 't', 'thing', 'great', 'never', 'even', 'those', 'if', 'upon', 'must', 'found', 'our', 'any', 'you', 'house', 'many', 'other', 'heard', 'whose', 'might', 'strange', 'yet', 'long', 'these', 'still', 'are', 'two', 'once', 'come', 'see', 'much', 'knew', 'most', 'first', 'beyond', 'told', 'street', 'day', 'such', 'said', 'door', 'room', 'made', 'place', 'little', 'certain', 'back', 'thought', 'last', 'almost', 'life', 'eyes', 'ancient', 'left', 'know', 'far', 'too', 'light', 'years', 'ever', 'away', 'west', 'black', 'how', 'seen', 'something', 'new', 'again', 'felt', 'o', 'well', 'city', 'do', 'half', 'since', 'began', 'without', 'toward', 'small', 'dark', 'can', 'earth', 'off', 'face', 'way', 'fear', 'her', 'around', 'because', 'stone', 'sea', 'world', 'above', 'every', 'dreams', 'terrible', 'horror', 'under', 'another', 'd', 'young', 'looked', 'three', 'death', 'while', 'moon', 'nor', 'tell', 'floor', 'say', 'mind', 'white', 'people', 'human', 'less', 'nothing', 'alone', 'us', 'dead', 'till', 'space', 'went', 'hideous', 'here', 'himself', 'kind', 'known', 'think', 'near', 'head', 'indeed', 'open', 'town', 'may', 'window', 'body', 'will', 'soon', 'myself', 'sight', 'just', 'high', 'sometimes', 'unknown', 'became', 'make', 'dream', 'being', 'both', 'own', 'few', 'always', 'hill', 'windows', 'past', 'uncle', 'sound', 'enough', 'has', 'ye', 'full', 'look', 'she', 'houses', 'turned', 'find', 'among', 'grew', 'outside', 'against', 'side', 'having', 'behind', 'go', 'gave', 'walls', 'sky', 'second']\n",
      "--------------------------------------------------------------------------------------------------------------------------------------- Author: MWS Threshold 0.01\n",
      "[',', 'the', 'of', 'and', '.', 'to', 'i', 'a', 'my', 'in', 'was', 'that', '$', 'his', 'her', 'with', 'he', 'me', 'had', 'but', 'it', 'for', 'not', 'as', 'on', 'you', 'by', 'from', 'which', 'she', 'this', 'be', 'were', 'at', 'is', 'have', 'we', 'all', 'him', 'when', 'their', 'our', 'they', 'would', 'one', 'will', 'your', 'an', 'or', 'no', 'now', 'if', 'could', 'so', 'its', 's', 'been', 'more', 'are', 'who', 'yet', 'them', 'life', 'what', 'before', 'should', 'only', 'might', 'these', 'love', 'raymond', 'there', 'some', 'then', 'even', 'than', 'do', 'heart', 'us', 'while', 'into', 'every', 'eyes', 'did', 'man', 'time', 'must', 'first', 'own', 'am', 'myself', 'day', 'upon', 'up', 'said', 'father', 'again', 'may', 'shall', 'death', 'ever', 'never', 'such', 'after', 'can', 'how', 'like', 'over', 'still', 'made', 'those', 'through', 'night', 'where', 'perdita', 'any', 'other', 'many', 'mind', 'saw', 'towards', 'found', 'whose', 'thought', 'very', 'felt', 'long', 'being', 'hope', 'words', 'nature', 'adrian', 'last', 'see', 'most', 'about', 'each', 'became', 'thus', 'has', 'years', 'earth', 'out', 'seemed', 'among', 'friend', 'little', 'voice', 'few', 'passed', 'came', 'soon', 'soul', 'human', 'spirit', 'whom', 'during', 'fear', 'let', 'come', 'dear', 'world', 'part', 'nor', 'idris', 'tears', 'same', 'heard', 'sun', 'away', 'country', 'mother', 'become', 'often', 'gave', 'himself', 'moment', 'return', 'hand', 'feel', 'well', 'alone', 'too', 'place', 'power', 'happiness', 'misery', 'men', 'despair', 'know', 'another', 'great', 'lost', 'feelings', 'also', 'once', 'left', 'without', 'good', 'far', 'down', 'under', 'near', 'old', 'appeared', 'find', 'england', 'thoughts', 'much', 'poor', 'light', 'air', 'sometimes', 'change', 'take', 'me;', 'make']\n"
     ]
    }
   ],
   "source": [
    "aset = get_most_used_keyword('EAP', threshold=0.01)\n",
    "bset = get_most_used_keyword('HPL', threshold=0.01)\n",
    "cset = get_most_used_keyword('MWS', threshold=0.01)"
   ]
  },
  {
   "cell_type": "code",
   "execution_count": 457,
   "metadata": {
    "collapsed": false,
    "deletable": true,
    "editable": true
   },
   "outputs": [
    {
     "name": "stdout",
     "output_type": "stream",
     "text": [
      "{'name', 'natural', 'however', 'continued', 'whole', 'point', 'either', 'perhaps', 'five', 'latter', 'end', 'done', 'feet', 'ordinary', 'looking', 'box', 'why', 'view', 'altogether', 'doubt', 'fact', 'lady', 'true', 'observed', 'morning', 'minutes', 'taken', 'question', 'mere', 'took', 'cannot', 'm', 'give', 'lay', 'mr', 'called', 'twenty', 'arm', 'eye', 'attention', 'four', 'person', 'get', 'nearly', 'speak', 'thousand', 'machine', 'rather', 'although', 'therefore', 'balloon', 'case', 'present', 'merely', 'really', 'itself', 'character', 'longer', 'sense', 'oh', 'portion', 'idea', 'scarcely', 'truth', 'matter', 'account', 'period', 'figure', 'deep', 'between', 'form', 'vast', 'main', 'manner', 'reason', 'means', 'sure', 'brought', 'fell', 'l', 'circumstances', 'madame', 'atmosphere', 'length', 'immediately', 'spoke', 'stood', 'believe', 'general', 'until', 'wild', 'impossible', 'right', 'corpse', 'large', 'word', 'object', 'quite', 'appearance', 'given', 'within', 'gentleman', 'de', 'course', 'put', 'possible', 'chamber', 'water', 'hour', 'position', 'already', 'days', 'state', 'difficulty', 'least'}\n"
     ]
    }
   ],
   "source": [
    "keys1 = set(aset) - set(bset) - set(cset)\n",
    "print(keys1)"
   ]
  },
  {
   "cell_type": "code",
   "execution_count": 458,
   "metadata": {
    "collapsed": false,
    "deletable": true,
    "editable": true
   },
   "outputs": [
    {
     "name": "stdout",
     "output_type": "stream",
     "text": [
      "{'outside', 'town', 'almost', 'strange', 'street', 'look', 'd', 'houses', 'walls', 'dream', 'sight', 'ye', 'against', 'ancient', 'white', 'because', 'behind', 'told', 'terrible', 'dreams', 'began', 'west', 'hideous', 'past', 'window', 'dead', 'toward', 'enough', 'stone', 'windows', 'till', 'hill', 'uncle', 'grew', 'though', 'floor', 'space', 'sound', 'horror', 'sky', 'people', 'unknown'}\n"
     ]
    }
   ],
   "source": [
    "keys2 = set(bset) - set(cset) - set(aset)\n",
    "print(keys2)"
   ]
  },
  {
   "cell_type": "code",
   "execution_count": 459,
   "metadata": {
    "collapsed": false,
    "deletable": true,
    "editable": true
   },
   "outputs": [
    {
     "name": "stdout",
     "output_type": "stream",
     "text": [
      "{'misery', 'thoughts', 'england', 'country', 'change', 'sun', 'become', 'dear', 'feelings', 'happiness', 'despair', 'often', 'perdita', 'feel', 'idris', 'adrian', 'mother', 'return', 'love', 'lost', 'towards', 'me;', 'power', 'poor', 'father', 'raymond', 'hope', 'tears'}\n"
     ]
    }
   ],
   "source": [
    "keys3 = set(cset) - set(aset) - set(bset)\n",
    "print(keys3)"
   ]
  },
  {
   "cell_type": "code",
   "execution_count": 460,
   "metadata": {
    "collapsed": false,
    "deletable": true,
    "editable": true
   },
   "outputs": [
    {
     "name": "stdout",
     "output_type": "stream",
     "text": [
      "{'natural', 'whole', 'point', 'thoughts', 'five', 'end', 'done', 'feet', 'ordinary', 'box', 'why', 'view', 'fact', 'mother', 'uncle', 'lady', 'observed', 'father', 'minutes', 'sky', 'question', 'mere', 'cannot', 'look', 'country', 'attention', 'dear', 'machine', 'adrian', 'balloon', 'case', 'merely', 'towards', 'really', 'itself', 'hope', 'tears', 'window', 'people', 'sense', 'oh', 'portion', 'idea', 'truth', 'dream', 'period', 'figure', 'between', 'form', 'behind', 'terrible', 'means', 'fell', 'happiness', 'l', 'often', 'feel', 'till', 'circumstances', 'lost', 'grew', 'atmosphere', 'length', 'me;', 'immediately', 'stood', 'believe', 'almost', 'general', 'd', 'england', 'ancient', 'large', 'appearance', 'given', 'feelings', 'gentleman', 'toward', 'windows', 'course', 'water', 'position', 'already', 'days', 'power', 'space', 'difficulty', 'least', 'name', 'however', 'continued', 'either', 'perhaps', 'latter', 'hideous', 'looking', 'despair', 'altogether', 'doubt', 'true', 'morning', 'taken', 'took', 'm', 'give', 'lay', 'mr', 'strange', 'street', 'ye', 'against', 'called', 'twenty', 'arm', 'eye', 'because', 'sun', 'become', 'dreams', 'four', 'person', 'get', 'nearly', 'speak', 'thousand', 'rather', 'although', 'idris', 'therefore', 'return', 'hill', 'present', 'character', 'poor', 'raymond', 'longer', 'unknown', 'outside', 'town', 'misery', 'scarcely', 'walls', 'matter', 'account', 'deep', 'vast', 'main', 'began', 'manner', 'reason', 'sure', 'brought', 'stone', 'madame', 'floor', 'spoke', 'horror', 'until', 'wild', 'impossible', 'houses', 'sight', 'right', 'corpse', 'white', 'change', 'word', 'object', 'told', 'quite', 'within', 'west', 'past', 'dead', 'enough', 'perdita', 'de', 'put', 'possible', 'chamber', 'love', 'hour', 'though', 'state', 'sound'}\n"
     ]
    }
   ],
   "source": [
    "print(keys1.union(keys2).union(keys3))"
   ]
  },
  {
   "cell_type": "code",
   "execution_count": 461,
   "metadata": {
    "collapsed": true,
    "deletable": true,
    "editable": true
   },
   "outputs": [],
   "source": [
    "feature_engg_config = []\n",
    "\n",
    "def transform(data):\n",
    "    data = data.lower()\n",
    "    data = data.replace('\"', ' $ ')\n",
    "    data = data.replace(\"'\", ' $ ')\n",
    "    data = data.replace(\",\", ' , ')\n",
    "    data = data.replace(\".\", ' . ')\n",
    "    return data\n",
    "\n",
    "\n",
    "def get_keywords_count(data, keys):\n",
    "    words = transform(data).split()    \n",
    "    ct = 0\n",
    "    for key in keys:\n",
    "        ct += words.count(key)\n",
    "    return ct\n",
    "\n",
    "# for i, keys in enumerate([keys1, keys2, keys3]):\n",
    "func = lambda x : get_keywords_count(x, keys1) # keys1  - global\n",
    "name = 'Keywords_1'\n",
    "columns = 'text'\n",
    "feature_engg_config.append({\"name\": name, \"columns\": columns, \"func\": func})\n",
    "\n",
    "func = lambda x : get_keywords_count(x, keys2) # keys2  - global\n",
    "name = 'Keywords_2'\n",
    "columns = 'text'\n",
    "feature_engg_config.append({\"name\": name, \"columns\": columns, \"func\": func})\n",
    "\n",
    "func = lambda x : get_keywords_count(x, keys3) # keys3  - global\n",
    "name = 'Keywords_3'\n",
    "columns = 'text'\n",
    "feature_engg_config.append({\"name\": name, \"columns\": columns, \"func\": func})"
   ]
  },
  {
   "cell_type": "code",
   "execution_count": 462,
   "metadata": {
    "collapsed": false
   },
   "outputs": [],
   "source": [
    "train_df = pd.read_csv(\"../input/train.csv\")\n",
    "test_df = pd.read_csv(\"../input/test.csv\")\n",
    "\n",
    "for fe in feature_engg_config:\n",
    "    if fe['name']:\n",
    "        train_df[fe['name']] = train_df[fe['columns']].map(fe['func'])\n",
    "        test_df[fe['name']] = train_df[fe['columns']].map(fe['func'])"
   ]
  },
  {
   "cell_type": "code",
   "execution_count": 463,
   "metadata": {
    "collapsed": false
   },
   "outputs": [
    {
     "data": {
      "text/html": [
       "<div>\n",
       "<style>\n",
       "    .dataframe thead tr:only-child th {\n",
       "        text-align: right;\n",
       "    }\n",
       "\n",
       "    .dataframe thead th {\n",
       "        text-align: left;\n",
       "    }\n",
       "\n",
       "    .dataframe tbody tr th {\n",
       "        vertical-align: top;\n",
       "    }\n",
       "</style>\n",
       "<table border=\"1\" class=\"dataframe\">\n",
       "  <thead>\n",
       "    <tr style=\"text-align: right;\">\n",
       "      <th></th>\n",
       "      <th>Keywords_1</th>\n",
       "      <th>Keywords_2</th>\n",
       "      <th>Keywords_3</th>\n",
       "    </tr>\n",
       "  </thead>\n",
       "  <tbody>\n",
       "    <tr>\n",
       "      <th>count</th>\n",
       "      <td>8392.000000</td>\n",
       "      <td>8392.000000</td>\n",
       "      <td>8392.000000</td>\n",
       "    </tr>\n",
       "    <tr>\n",
       "      <th>mean</th>\n",
       "      <td>0.867731</td>\n",
       "      <td>0.316492</td>\n",
       "      <td>0.220091</td>\n",
       "    </tr>\n",
       "    <tr>\n",
       "      <th>std</th>\n",
       "      <td>1.167999</td>\n",
       "      <td>0.665957</td>\n",
       "      <td>0.553479</td>\n",
       "    </tr>\n",
       "    <tr>\n",
       "      <th>min</th>\n",
       "      <td>0.000000</td>\n",
       "      <td>0.000000</td>\n",
       "      <td>0.000000</td>\n",
       "    </tr>\n",
       "    <tr>\n",
       "      <th>25%</th>\n",
       "      <td>0.000000</td>\n",
       "      <td>0.000000</td>\n",
       "      <td>0.000000</td>\n",
       "    </tr>\n",
       "    <tr>\n",
       "      <th>50%</th>\n",
       "      <td>1.000000</td>\n",
       "      <td>0.000000</td>\n",
       "      <td>0.000000</td>\n",
       "    </tr>\n",
       "    <tr>\n",
       "      <th>75%</th>\n",
       "      <td>1.000000</td>\n",
       "      <td>0.000000</td>\n",
       "      <td>0.000000</td>\n",
       "    </tr>\n",
       "    <tr>\n",
       "      <th>max</th>\n",
       "      <td>15.000000</td>\n",
       "      <td>8.000000</td>\n",
       "      <td>8.000000</td>\n",
       "    </tr>\n",
       "  </tbody>\n",
       "</table>\n",
       "</div>"
      ],
      "text/plain": [
       "        Keywords_1   Keywords_2   Keywords_3\n",
       "count  8392.000000  8392.000000  8392.000000\n",
       "mean      0.867731     0.316492     0.220091\n",
       "std       1.167999     0.665957     0.553479\n",
       "min       0.000000     0.000000     0.000000\n",
       "25%       0.000000     0.000000     0.000000\n",
       "50%       1.000000     0.000000     0.000000\n",
       "75%       1.000000     0.000000     0.000000\n",
       "max      15.000000     8.000000     8.000000"
      ]
     },
     "execution_count": 463,
     "metadata": {},
     "output_type": "execute_result"
    }
   ],
   "source": [
    "test_df.describe()"
   ]
  },
  {
   "cell_type": "code",
   "execution_count": null,
   "metadata": {
    "collapsed": true
   },
   "outputs": [],
   "source": []
  }
 ],
 "metadata": {
  "kernelspec": {
   "display_name": "Python 3",
   "language": "python",
   "name": "python3"
  },
  "language_info": {
   "codemirror_mode": {
    "name": "ipython",
    "version": 3
   },
   "file_extension": ".py",
   "mimetype": "text/x-python",
   "name": "python",
   "nbconvert_exporter": "python",
   "pygments_lexer": "ipython3",
   "version": "3.6.1"
  }
 },
 "nbformat": 4,
 "nbformat_minor": 2
}
