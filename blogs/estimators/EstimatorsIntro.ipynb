{
 "cells": [
  {
   "cell_type": "markdown",
   "metadata": {},
   "source": [
    "# References:\n",
    "- https://www.tensorflow.org/get_started/estimator"
   ]
  },
  {
   "cell_type": "code",
   "execution_count": 1,
   "metadata": {
    "collapsed": true
   },
   "outputs": [],
   "source": [
    "from __future__ import absolute_import\n",
    "from __future__ import division\n",
    "from __future__ import print_function\n",
    "\n",
    "import os\n",
    "import urllib\n",
    "import urllib.request\n",
    "\n",
    "import numpy as np\n",
    "import tensorflow as tf"
   ]
  },
  {
   "cell_type": "code",
   "execution_count": 3,
   "metadata": {
    "collapsed": true
   },
   "outputs": [],
   "source": [
    "#Data sets\n",
    "IRIS_TRAINING = \"iris_training.csv\"\n",
    "IRIS_TRAINING_URL = \"http://download.tensorflow.org/data/iris_training.csv\"\n",
    "\n",
    "IRIS_TEST = \"iris_test.csv\"\n",
    "IRIS_TEST_URL = \"http://download.tensorflow.org/data/iris_test.csv\""
   ]
  },
  {
   "cell_type": "code",
   "execution_count": 8,
   "metadata": {},
   "outputs": [],
   "source": [
    "# If the training and test sets aren't stored locally, download them.\n",
    "if not os.path.exists(IRIS_TRAINING):\n",
    "    raw = urllib.request.urlopen(IRIS_TRAINING_URL).read()\n",
    "    with open(IRIS_TRAINING, \"wb\") as f:\n",
    "        f.write(raw)\n",
    "\n",
    "if not os.path.exists(IRIS_TEST):\n",
    "    raw = urllib.request.urlopen(IRIS_TEST_URL).read()\n",
    "    with open(IRIS_TEST, \"wb\") as f:\n",
    "        f.write(raw)"
   ]
  },
  {
   "cell_type": "code",
   "execution_count": 9,
   "metadata": {},
   "outputs": [],
   "source": [
    "# Load datasets.\n",
    "training_set = tf.contrib.learn.datasets.base.load_csv_with_header(\n",
    "  filename=IRIS_TRAINING,\n",
    "  target_dtype=np.int,\n",
    "  features_dtype=np.float32)\n",
    "test_set = tf.contrib.learn.datasets.base.load_csv_with_header(\n",
    "  filename=IRIS_TEST,\n",
    "  target_dtype=np.int,\n",
    "  features_dtype=np.float32)"
   ]
  },
  {
   "cell_type": "code",
   "execution_count": 10,
   "metadata": {},
   "outputs": [
    {
     "name": "stdout",
     "output_type": "stream",
     "text": [
      "INFO:tensorflow:Using default config.\n",
      "INFO:tensorflow:Using config: {'_model_dir': '/tmp/iris_model', '_tf_random_seed': 1, '_save_summary_steps': 100, '_save_checkpoints_secs': 600, '_save_checkpoints_steps': None, '_session_config': None, '_keep_checkpoint_max': 5, '_keep_checkpoint_every_n_hours': 10000, '_log_step_count_steps': 100}\n"
     ]
    }
   ],
   "source": [
    "# Specify that all features have real-value data\n",
    "feature_columns = [tf.feature_column.numeric_column(\"x\", shape=[4])]\n",
    "\n",
    "# Build 3 layer DNN with 10, 20, 10 units respectively.\n",
    "classifier = tf.estimator.DNNClassifier(feature_columns=feature_columns,\n",
    "                                      hidden_units=[10, 20, 10],\n",
    "                                      n_classes=3,\n",
    "                                      model_dir=\"/tmp/iris_model\")\n",
    "# Define the training inputs\n",
    "train_input_fn = tf.estimator.inputs.numpy_input_fn(\n",
    "  x={\"x\": np.array(training_set.data)},\n",
    "  y=np.array(training_set.target),\n",
    "  num_epochs=None,\n",
    "  shuffle=True)"
   ]
  },
  {
   "cell_type": "code",
   "execution_count": 11,
   "metadata": {},
   "outputs": [
    {
     "name": "stdout",
     "output_type": "stream",
     "text": [
      "INFO:tensorflow:Create CheckpointSaverHook.\n",
      "INFO:tensorflow:Saving checkpoints for 1 into /tmp/iris_model/model.ckpt.\n",
      "INFO:tensorflow:loss = 330.486, step = 1\n",
      "INFO:tensorflow:global_step/sec: 381.368\n",
      "INFO:tensorflow:loss = 15.0609, step = 101 (0.263 sec)\n",
      "INFO:tensorflow:global_step/sec: 426.706\n",
      "INFO:tensorflow:loss = 10.4694, step = 201 (0.234 sec)\n",
      "INFO:tensorflow:global_step/sec: 337.219\n",
      "INFO:tensorflow:loss = 5.61057, step = 301 (0.297 sec)\n",
      "INFO:tensorflow:global_step/sec: 440.424\n",
      "INFO:tensorflow:loss = 3.70392, step = 401 (0.227 sec)\n",
      "INFO:tensorflow:global_step/sec: 394.181\n",
      "INFO:tensorflow:loss = 3.97407, step = 501 (0.254 sec)\n",
      "INFO:tensorflow:global_step/sec: 172.021\n",
      "INFO:tensorflow:loss = 11.7063, step = 601 (0.581 sec)\n",
      "INFO:tensorflow:global_step/sec: 436.09\n",
      "INFO:tensorflow:loss = 11.8779, step = 701 (0.229 sec)\n",
      "INFO:tensorflow:global_step/sec: 400.02\n",
      "INFO:tensorflow:loss = 5.15115, step = 801 (0.250 sec)\n",
      "INFO:tensorflow:global_step/sec: 431.805\n",
      "INFO:tensorflow:loss = 11.7943, step = 901 (0.232 sec)\n",
      "INFO:tensorflow:global_step/sec: 398.912\n",
      "INFO:tensorflow:loss = 23.4367, step = 1001 (0.251 sec)\n",
      "INFO:tensorflow:global_step/sec: 421.389\n",
      "INFO:tensorflow:loss = 10.4286, step = 1101 (0.237 sec)\n",
      "INFO:tensorflow:global_step/sec: 429.524\n",
      "INFO:tensorflow:loss = 7.2987, step = 1201 (0.233 sec)\n",
      "INFO:tensorflow:global_step/sec: 424.913\n",
      "INFO:tensorflow:loss = 8.98308, step = 1301 (0.235 sec)\n",
      "INFO:tensorflow:global_step/sec: 373.666\n",
      "INFO:tensorflow:loss = 8.93269, step = 1401 (0.268 sec)\n",
      "INFO:tensorflow:global_step/sec: 420.88\n",
      "INFO:tensorflow:loss = 6.39816, step = 1501 (0.238 sec)\n",
      "INFO:tensorflow:global_step/sec: 422.009\n",
      "INFO:tensorflow:loss = 5.5822, step = 1601 (0.237 sec)\n",
      "INFO:tensorflow:global_step/sec: 396.722\n",
      "INFO:tensorflow:loss = 8.44456, step = 1701 (0.252 sec)\n",
      "INFO:tensorflow:global_step/sec: 418.924\n",
      "INFO:tensorflow:loss = 7.48132, step = 1801 (0.239 sec)\n",
      "INFO:tensorflow:global_step/sec: 422.212\n",
      "INFO:tensorflow:loss = 6.7813, step = 1901 (0.237 sec)\n",
      "INFO:tensorflow:Saving checkpoints for 2000 into /tmp/iris_model/model.ckpt.\n",
      "INFO:tensorflow:Loss for final step: 6.55902.\n"
     ]
    },
    {
     "data": {
      "text/plain": [
       "<tensorflow.python.estimator.canned.dnn.DNNClassifier at 0x7f61219ec7f0>"
      ]
     },
     "execution_count": 11,
     "metadata": {},
     "output_type": "execute_result"
    }
   ],
   "source": [
    "# Train model.\n",
    "classifier.train(input_fn=train_input_fn, steps=2000)"
   ]
  },
  {
   "cell_type": "code",
   "execution_count": 12,
   "metadata": {},
   "outputs": [
    {
     "name": "stdout",
     "output_type": "stream",
     "text": [
      "INFO:tensorflow:Starting evaluation at 2017-10-25-05:07:01\n",
      "INFO:tensorflow:Restoring parameters from /tmp/iris_model/model.ckpt-2000\n",
      "INFO:tensorflow:Finished evaluation at 2017-10-25-05:07:01\n",
      "INFO:tensorflow:Saving dict for global step 2000: accuracy = 0.966667, average_loss = 0.0517145, global_step = 2000, loss = 1.55143\n",
      "\n",
      "Test Accuracy: 0.966667\n",
      "\n"
     ]
    }
   ],
   "source": [
    "# Define the test inputs\n",
    "test_input_fn = tf.estimator.inputs.numpy_input_fn(\n",
    "  x={\"x\": np.array(test_set.data)},\n",
    "  y=np.array(test_set.target),\n",
    "  num_epochs=1,\n",
    "  shuffle=False)\n",
    "\n",
    "# Evaluate accuracy.\n",
    "accuracy_score = classifier.evaluate(input_fn=test_input_fn)[\"accuracy\"]\n",
    "\n",
    "print(\"\\nTest Accuracy: {0:f}\\n\".format(accuracy_score))"
   ]
  },
  {
   "cell_type": "code",
   "execution_count": 13,
   "metadata": {},
   "outputs": [
    {
     "name": "stdout",
     "output_type": "stream",
     "text": [
      "INFO:tensorflow:Restoring parameters from /tmp/iris_model/model.ckpt-2000\n",
      "New Samples, Class Predictions:    [array([b'1'], dtype=object), array([b'2'], dtype=object)]\n",
      "\n"
     ]
    }
   ],
   "source": [
    "# Classify two new flower samples.\n",
    "new_samples = np.array(\n",
    "  [[6.4, 3.2, 4.5, 1.5],\n",
    "   [5.8, 3.1, 5.0, 1.7]], dtype=np.float32)\n",
    "predict_input_fn = tf.estimator.inputs.numpy_input_fn(\n",
    "  x={\"x\": new_samples},\n",
    "  num_epochs=1,\n",
    "  shuffle=False)\n",
    "\n",
    "predictions = list(classifier.predict(input_fn=predict_input_fn))\n",
    "predicted_classes = [p[\"classes\"] for p in predictions]\n",
    "\n",
    "print(\n",
    "  \"New Samples, Class Predictions:    {}\\n\"\n",
    "  .format(predicted_classes))"
   ]
  },
  {
   "cell_type": "code",
   "execution_count": null,
   "metadata": {
    "collapsed": true
   },
   "outputs": [],
   "source": []
  }
 ],
 "metadata": {
  "kernelspec": {
   "display_name": "Python 3",
   "language": "python",
   "name": "python3"
  },
  "language_info": {
   "codemirror_mode": {
    "name": "ipython",
    "version": 3
   },
   "file_extension": ".py",
   "mimetype": "text/x-python",
   "name": "python",
   "nbconvert_exporter": "python",
   "pygments_lexer": "ipython3",
   "version": "3.6.1"
  }
 },
 "nbformat": 4,
 "nbformat_minor": 2
}
