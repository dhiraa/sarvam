{
 "cells": [
  {
   "cell_type": "markdown",
   "metadata": {},
   "source": [
    "# How to run?\n",
    "\n",
    "```bash\n",
    "#Clean the model directory when you are changing the the embedding size! \n",
    "rm -rf tmp/model/* \n",
    "\n",
    "python word_vec_run.py --num_epochs=5 --batch_size=128 --vocab_size=50000 --embed_size=64\n",
    "\n",
    "python viz_word_vec.py\n",
    "\n",
    "python command_line_tester.py\n",
    "```"
   ]
  },
  {
   "cell_type": "markdown",
   "metadata": {},
   "source": [
    "# Papers:\n",
    "- [Glove](https://nlp.stanford.edu/pubs/glove.pdf)\n",
    "- [NCE Loss](https://arxiv.org/pdf/1410.8251.pdf)\n",
    "- [Noise Contrasive Estimation](https://papers.nips.cc/paper/5165-learning-word-embeddings-efficiently-with-noise-contrastive-estimation.pdf)\n",
    "- [Neural Probabilistic Language Models](https://www.cs.toronto.edu/~amnih/papers/ncelm.pdf)\n",
    "- [Graphical Models for Language Modeling](https://www.cs.toronto.edu/~amnih/papers/threenew.pdf)\n"
   ]
  },
  {
   "cell_type": "markdown",
   "metadata": {},
   "source": [
    "# References: \n",
    "- http://mccormickml.com/2016/04/27/word2vec-resources/\n",
    "- https://www.tensorflow.org/tutorials/word2vec\n",
    "- https://www.analyticsvidhya.com/blog/2017/06/word-embeddings-count-word2veec/"
   ]
  },
  {
   "cell_type": "markdown",
   "metadata": {},
   "source": [
    "![](https://deeplearning4j.org/img/word2vec_diagrams.png)"
   ]
  },
  {
   "cell_type": "markdown",
   "metadata": {},
   "source": [
    "![](http://mccormickml.com/assets/word2vec/training_data.png)"
   ]
  },
  {
   "cell_type": "code",
   "execution_count": 2,
   "metadata": {},
   "outputs": [
    {
     "name": "stdout",
     "output_type": "stream",
     "text": [
      "[NbConvertApp] Converting notebook README.ipynb to markdown\n",
      "[NbConvertApp] Writing 1275 bytes to ./README.md\n"
     ]
    }
   ],
   "source": [
    "# Convert this notebook\n",
    "! jupyter nbconvert --to markdown --output-dir . README.ipynb"
   ]
  },
  {
   "cell_type": "code",
   "execution_count": null,
   "metadata": {
    "collapsed": true
   },
   "outputs": [],
   "source": []
  }
 ],
 "metadata": {
  "kernelspec": {
   "display_name": "Python 3",
   "language": "python",
   "name": "python3"
  },
  "language_info": {
   "codemirror_mode": {
    "name": "ipython",
    "version": 3
   },
   "file_extension": ".py",
   "mimetype": "text/x-python",
   "name": "python",
   "nbconvert_exporter": "python",
   "pygments_lexer": "ipython3",
   "version": "3.6.1"
  }
 },
 "nbformat": 4,
 "nbformat_minor": 1
}
