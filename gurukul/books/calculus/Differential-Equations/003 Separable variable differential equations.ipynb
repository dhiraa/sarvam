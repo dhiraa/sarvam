{
 "cells": [
  {
   "cell_type": "markdown",
   "metadata": {},
   "source": [
    "<a rel=\"license\" href=\"http://creativecommons.org/licenses/by-nc/4.0/\"><img alt=\"Creative Commons License\" style=\"border-width:0\" src=\"https://i.creativecommons.org/l/by-nc/4.0/88x31.png\" /></a><br /><span xmlns:dct=\"http://purl.org/dc/terms/\" property=\"dct:title\">Differential equations</span> by <span xmlns:cc=\"http://creativecommons.org/ns#\" property=\"cc:attributionName\">Dr Juan H Klopper</span> is licensed under a <a rel=\"license\" href=\"http://creativecommons.org/licenses/by-nc/4.0/\">Creative Commons Attribution-NonCommercial 4.0 International License</a>."
   ]
  },
  {
   "cell_type": "code",
   "execution_count": 1,
   "metadata": {
    "collapsed": false
   },
   "outputs": [
    {
     "data": {
      "text/html": [
       "<style>\n",
       "    @font-face {\n",
       "        font-family: \"Computer Modern\";\n",
       "        src: url('http://mirrors.ctan.org/fonts/cm-unicode/fonts/otf/cmunss.otf');\n",
       "    }\n",
       "    div.cell{\n",
       "        width: 90%;\n",
       "/*        margin-left:auto;*/\n",
       "/*        margin-right:auto;*/\n",
       "    }\n",
       "    ul {\n",
       "        line-height: 145%;\n",
       "        font-size: 90%;\n",
       "    }\n",
       "    li {\n",
       "        margin-bottom: 1em;\n",
       "    }\n",
       "    h1 {\n",
       "        font-family: Helvetica, serif;\n",
       "        color: rgb(0, 80, 120);\n",
       "    }\n",
       "    h2 {\n",
       "        color: rgb(0,100,110);\n",
       "    }\n",
       "    h3 {\n",
       "        color: rgb(94,127,192);\n",
       "    }\n",
       "    div.text_cell_render{\n",
       "        font-family: Computer Modern, \"Helvetica Neue\", Arial, Helvetica, Geneva, sans-serif;\n",
       "        line-height: 145%;\n",
       "        font-size: 130%;\n",
       "        width: 90%;\n",
       "        margin-left:auto;\n",
       "        margin-right:auto;\n",
       "    }\n",
       "    .CodeMirror{\n",
       "            font-family: \"Source Code Pro\", source-code-pro,Consolas, monospace;\n",
       "    }\n",
       "/*    .prompt{\n",
       "        display: None;\n",
       "    }*/\n",
       "    .text_cell_render h5 {\n",
       "        font-weight: 300;\n",
       "        font-size: 16pt;\n",
       "        color: #4057A1;\n",
       "        font-style: italic;\n",
       "        margin-bottom: 0.5em;\n",
       "        margin-top: 0.5em;\n",
       "        display: block;\n",
       "    }\n",
       "\n",
       "    .warning{\n",
       "        color: rgb( 240, 20, 20 )\n",
       "        }\n",
       "</style>\n",
       "<script>\n",
       "    MathJax.Hub.Config({\n",
       "                        TeX: {\n",
       "                           extensions: [\"AMSmath.js\"]\n",
       "                           },\n",
       "                tex2jax: {\n",
       "                    inlineMath: [ ['$','$'], [\"\\\\(\",\"\\\\)\"] ],\n",
       "                    displayMath: [ ['$$','$$'], [\"\\\\[\",\"\\\\]\"] ]\n",
       "                },\n",
       "                displayAlign: 'center', // Change this to 'center' to center equations.\n",
       "                \"HTML-CSS\": {\n",
       "                    styles: {'.MathJax_Display': {\"margin\": 4}}\n",
       "                }\n",
       "        });\n",
       "</script>"
      ],
      "text/plain": [
       "<IPython.core.display.HTML object>"
      ]
     },
     "execution_count": 1,
     "metadata": {},
     "output_type": "execute_result"
    }
   ],
   "source": [
    "from IPython.core.display import HTML, Image\n",
    "css_file = 'custom.css'\n",
    "HTML(open(css_file, 'r').read())"
   ]
  },
  {
   "cell_type": "code",
   "execution_count": 2,
   "metadata": {
    "collapsed": true
   },
   "outputs": [],
   "source": [
    "from sympy import init_printing # Latex printing to screen\n",
    "import matplotlib.pyplot as plt # Plotting library\n",
    "from warnings import filterwarnings # Ignoring ugly pink warnings"
   ]
  },
  {
   "cell_type": "code",
   "execution_count": 3,
   "metadata": {
    "collapsed": true
   },
   "outputs": [],
   "source": [
    "init_printing(use_latex = 'mathjax')\n",
    "filterwarnings('ignore')\n",
    "%matplotlib inline"
   ]
  },
  {
   "cell_type": "markdown",
   "metadata": {
    "collapsed": true
   },
   "source": [
    "# Separable variable ODEs"
   ]
  },
  {
   "cell_type": "markdown",
   "metadata": {},
   "source": [
    "## In this lesson"
   ]
  },
  {
   "cell_type": "markdown",
   "metadata": {},
   "source": [
    "- [Easient example](#Easiest-example)\n",
    "- [Separable variables](#Separable-variables)\n",
    "- [Sympy ODE hints](#Sympy-ODE-hints)\n",
    "- [Example time](#Example-time)\n",
    "    - [Example 1](#Example-1)\n",
    "    - [Example 2](#Example-2)"
   ]
  },
  {
   "cell_type": "markdown",
   "metadata": {},
   "source": [
    "## Easiest example"
   ]
  },
  {
   "cell_type": "markdown",
   "metadata": {},
   "source": [
    "Consider the following first order ODE:\n",
    "$$ \\frac{dy}{dt} = f \\left( t \\right) $$"
   ]
  },
  {
   "cell_type": "markdown",
   "metadata": {},
   "source": [
    "Note how the derivative of $ y $ with respect to $ t $ does not depend on $ y $ at all.  It is not of the following form:\n",
    "$$ \\frac{dy}{dt} = f \\left( t,y \\right) $$"
   ]
  },
  {
   "cell_type": "markdown",
   "metadata": {},
   "source": [
    "Initially in this course we will constrain oursleves to continuous functions on the intervals that we are interested in.  We can integrate both sides with respect to the independent variable to calculate a solution.\n",
    "$$ \\int { \\frac { dy }{ dt }  } dt=\\int { f\\left( t \\right)  } dt\\\\ \\int { dy } =\\int { f\\left( t \\right)  } dt\\\\ y\\left( t \\right) =\\int { f\\left( t \\right)  } dt $$"
   ]
  },
  {
   "cell_type": "markdown",
   "metadata": {},
   "source": [
    "So we have that the solution will be a family of functions.  This is so because we have an indefinite integral on the right-hand side and we will end up with a constant of integration.  Dependending on the value of this constant, we can have many, many solutions."
   ]
  },
  {
   "cell_type": "markdown",
   "metadata": {},
   "source": [
    "Let's do an example.  Solve the following:\n",
    "$$ \\frac{dy}{dt} - 2 t = 0 $$"
   ]
  },
  {
   "cell_type": "markdown",
   "metadata": {},
   "source": [
    "The solution would be:\n",
    "$$ \\frac { dy }{ dt } =2t\\\\ \\int { \\frac { dy }{ dt }  } dt=2\\int { t } dt\\\\ \\int { dy } =2\\left( \\frac { 1 }{ 2 } { t }^{ 2 }+c \\right) \\\\ y={ t }^{ 2 }+c $$"
   ]
  },
  {
   "cell_type": "markdown",
   "metadata": {},
   "source": [
    "[Back to the top](#In-this-lesson)"
   ]
  },
  {
   "cell_type": "markdown",
   "metadata": {},
   "source": [
    "## Separable variables"
   ]
  },
  {
   "cell_type": "markdown",
   "metadata": {},
   "source": [
    "Now that we have seen the easiest example, we are ready for the definition of a separable variabe ODE.  It is simple to see from the following form:\n",
    "$$ \\frac{dy}{dt} = f \\left( y \\right) g \\left( t \\right) $$"
   ]
  },
  {
   "cell_type": "markdown",
   "metadata": {},
   "source": [
    "Through *algebraic* manipulation we can get variables separated by the equal sign.  We are then left with an equation that is solvable by taking the derivative of both sides:\n",
    "$$ \\frac{1}{f \\left( y \\right)} dy = g \\left( t \\right) d \\left( t \\right) $$"
   ]
  },
  {
   "cell_type": "markdown",
   "metadata": {},
   "source": [
    "Let's do this example:\n",
    "$$ y' \\left( t \\right) = \\frac{-t}{y} $$"
   ]
  },
  {
   "cell_type": "markdown",
   "metadata": {},
   "source": [
    "Leibniz notation is best for these kind of probelms.\n",
    "$$ \\frac { dy }{ dt } =\\frac { -t }{ y } \\\\ ydy=-tdt\\\\ \\int { y } dy=-\\int { t } dt\\\\ \\frac { 1 }{ 2 } { y }^{ 2 }=-\\left( \\frac { 1 }{ 2 } { t }^{ 2 }+c \\right) \\\\ \\frac { 1 }{ 2 } { y }^{ 2 }=-\\frac { 1 }{ 2 } { t }^{ 2 }-c\\\\ { y }^{ 2 }=c-{ t }^{ 2 }\\\\ y=\\pm \\sqrt { c-{ t }^{ 2 } }  $$"
   ]
  },
  {
   "cell_type": "markdown",
   "metadata": {},
   "source": [
    "So, we have seen another form of classification, namely *separable* as in a *separable ODE*.  We can add this to the *ordinary* and *linear* classifications that we saw before."
   ]
  },
  {
   "cell_type": "markdown",
   "metadata": {},
   "source": [
    "The ```sympy``` library can help us solve most of these equations.  It helps to give ```sympy``` a hint as to the classification of our ODE.  To do this we can use the ```classify_ode()``` function."
   ]
  },
  {
   "cell_type": "markdown",
   "metadata": {},
   "source": [
    "[Back to the top](#In-this-lesson)"
   ]
  },
  {
   "cell_type": "markdown",
   "metadata": {},
   "source": [
    "## Sympy ODE hints"
   ]
  },
  {
   "cell_type": "code",
   "execution_count": 4,
   "metadata": {
    "collapsed": true
   },
   "outputs": [],
   "source": [
    "from sympy import symbols, Function, classify_ode"
   ]
  },
  {
   "cell_type": "code",
   "execution_count": 5,
   "metadata": {
    "collapsed": true
   },
   "outputs": [],
   "source": [
    "t = symbols(\"t\")\n",
    "y = Function(\"y\")"
   ]
  },
  {
   "cell_type": "code",
   "execution_count": 6,
   "metadata": {
    "collapsed": false
   },
   "outputs": [
    {
     "data": {
      "text/plain": [
       "('separable',\n",
       " '1st_exact',\n",
       " '1st_linear',\n",
       " 'Bernoulli',\n",
       " '1st_power_series',\n",
       " 'lie_group',\n",
       " 'nth_linear_constant_coeff_undetermined_coefficients',\n",
       " 'nth_linear_constant_coeff_variation_of_parameters',\n",
       " 'separable_Integral',\n",
       " '1st_exact_Integral',\n",
       " '1st_linear_Integral',\n",
       " 'Bernoulli_Integral',\n",
       " 'nth_linear_constant_coeff_variation_of_parameters_Integral')"
      ]
     },
     "execution_count": 6,
     "metadata": {},
     "output_type": "execute_result"
    }
   ],
   "source": [
    "classify_ode(y(t).diff(t) - 2 * t)"
   ]
  },
  {
   "cell_type": "markdown",
   "metadata": {},
   "source": [
    "So we see the first easy example we dealth with, was indeed separable and linear.  We will learn all about the rest before the end of the course.  Let's solve our easy example with the ```dsolve()``` function, giving ```sympy``` a hint that our easy example is separable."
   ]
  },
  {
   "cell_type": "code",
   "execution_count": 7,
   "metadata": {
    "collapsed": true
   },
   "outputs": [],
   "source": [
    "from sympy import dsolve"
   ]
  },
  {
   "cell_type": "code",
   "execution_count": 8,
   "metadata": {
    "collapsed": false
   },
   "outputs": [
    {
     "data": {
      "text/latex": [
       "$$y{\\left (t \\right )} = C_{1} + t^{2}$$"
      ],
      "text/plain": [
       "             2\n",
       "y(t) = C₁ + t "
      ]
     },
     "execution_count": 8,
     "metadata": {},
     "output_type": "execute_result"
    }
   ],
   "source": [
    "# With such an easy example, we need not have gone through\n",
    "# all the trouble of classifying the ODE and giving sympy as hint\n",
    "\n",
    "dsolve(y(t).diff(t) - 2 * t, hint = \"separable\")"
   ]
  },
  {
   "cell_type": "markdown",
   "metadata": {},
   "source": [
    "Now that is simply beautiful!"
   ]
  },
  {
   "cell_type": "markdown",
   "metadata": {},
   "source": [
    "[Back to the top](#In-this-lesson)"
   ]
  },
  {
   "cell_type": "markdown",
   "metadata": {},
   "source": [
    "## Example time"
   ]
  },
  {
   "cell_type": "markdown",
   "metadata": {},
   "source": [
    "We'll solve by hand and then by ```sympy```."
   ]
  },
  {
   "cell_type": "markdown",
   "metadata": {},
   "source": [
    "### Example 1"
   ]
  },
  {
   "cell_type": "markdown",
   "metadata": {},
   "source": [
    "Solve for $ y \\left( t \\right) $:\n",
    "$$ \\frac{dy}{dt} = \\sin{3t} $$"
   ]
  },
  {
   "cell_type": "markdown",
   "metadata": {},
   "source": [
    "We'll do this the long way with substitution and all!\n",
    "$$ \\frac { dy }{ dt } =\\sin { \\left( 3t \\right)  } \\\\ dy=\\sin { \\left( 3t \\right)  } dt\\\\ \\int { dy } =\\int { \\sin { \\left( 3t \\right)  }  } dt\\\\ u=3t\\\\ \\frac { du }{ dt } =3\\\\ dt=\\frac { 1 }{ 3 } du\\\\ y \\left( t \\right) =\\int { \\frac { 1 }{ 3 } \\sin { \\left( u \\right)  }  } du\\\\ y \\left( t \\right) =\\frac { 1 }{ 3 } \\int { \\sin { \\left( u \\right)  }  } du\\\\ y \\left( t \\right) =\\frac { 1 }{ 3 } \\left[ -\\cos { \\left( u \\right)  } +c \\right] \\\\ y \\left( t \\right) =\\frac { -1 }{ 3 } \\cos { \\left( 3t \\right)  } +c $$"
   ]
  },
  {
   "cell_type": "markdown",
   "metadata": {},
   "source": [
    "So we are using $ \\sin $ and will import it.  Watch how easy it is."
   ]
  },
  {
   "cell_type": "code",
   "execution_count": 9,
   "metadata": {
    "collapsed": true
   },
   "outputs": [],
   "source": [
    "from sympy import sin"
   ]
  },
  {
   "cell_type": "markdown",
   "metadata": {},
   "source": [
    "Since we only enter the left-hand side, i.e. we bring everything to the left-hand side, maing the equation equate to $ 0 $, we are dealing only with an expression when we use ```dsolve```.  Might as well create a computer variable to hold the expression and print it to the screen so that we know we have not made a mistake when typing."
   ]
  },
  {
   "cell_type": "code",
   "execution_count": 10,
   "metadata": {
    "collapsed": false
   },
   "outputs": [
    {
     "data": {
      "text/latex": [
       "$$- \\sin{\\left (3 t \\right )} + \\frac{d}{d t} y{\\left (t \\right )}$$"
      ],
      "text/plain": [
       "            d       \n",
       "-sin(3⋅t) + ──(y(t))\n",
       "            dt      "
      ]
     },
     "execution_count": 10,
     "metadata": {},
     "output_type": "execute_result"
    }
   ],
   "source": [
    "expression1 = y(t).diff(t) - sin(3 * t)\n",
    "expression1"
   ]
  },
  {
   "cell_type": "markdown",
   "metadata": {},
   "source": [
    "Now for the beauty of ```sympy```."
   ]
  },
  {
   "cell_type": "code",
   "execution_count": 11,
   "metadata": {
    "collapsed": false
   },
   "outputs": [
    {
     "data": {
      "text/latex": [
       "$$y{\\left (t \\right )} = C_{1} - \\frac{1}{3} \\cos{\\left (3 t \\right )}$$"
      ],
      "text/plain": [
       "            cos(3⋅t)\n",
       "y(t) = C₁ - ────────\n",
       "               3    "
      ]
     },
     "execution_count": 11,
     "metadata": {},
     "output_type": "execute_result"
    }
   ],
   "source": [
    "dsolve(y(t).diff(t) - sin(3 * t))"
   ]
  },
  {
   "cell_type": "markdown",
   "metadata": {},
   "source": [
    "[Back to the top](#In-this-lesson)"
   ]
  },
  {
   "cell_type": "markdown",
   "metadata": {},
   "source": [
    "### Example 2"
   ]
  },
  {
   "cell_type": "markdown",
   "metadata": {},
   "source": [
    "Solve for $ y \\left( t \\right) $:\n",
    "$$ dt + {e}^{2t}dy = 0 $$"
   ]
  },
  {
   "cell_type": "markdown",
   "metadata": {},
   "source": [
    "The long way:\n",
    "$$ dt+{ e }^{ 2t }dy=0\\\\ dy=-{ e }^{ -2t }dt\\\\ \\int { dy } =-\\int { { e }^{ -2t } } dt\\\\ y\\left( t \\right) =-\\left( -\\frac { 1 }{ 2 } { e }^{ -2t }+c \\right) \\\\ y\\left( t \\right) =\\frac { { e }^{ -2t } }{ 2 } +c=\\frac { 1 }{ 2{ e }^{ 2t } } +c $$"
   ]
  },
  {
   "cell_type": "markdown",
   "metadata": {},
   "source": [
    "To do the easy way, we just have to convert the original equation to an expression that we can get into the ```dsolve()``` function.\n",
    "$$ dt+{ e }^{ 2t }dy=0\\\\ { e }^{ 2t }dy=-dt\\\\ dy=-\\frac { 1 }{ { e }^{ 2t } } dt\\\\ \\frac { dy }{ dt } =-{ e }^{ -2t }\\\\ \\frac { dy }{ dt } +{ e }^{ -2t }=0 $$"
   ]
  },
  {
   "cell_type": "code",
   "execution_count": 12,
   "metadata": {
    "collapsed": true
   },
   "outputs": [],
   "source": [
    "from sympy import exp"
   ]
  },
  {
   "cell_type": "code",
   "execution_count": 13,
   "metadata": {
    "collapsed": false
   },
   "outputs": [
    {
     "data": {
      "text/latex": [
       "$$\\frac{d}{d t} y{\\left (t \\right )} + e^{- 2 t}$$"
      ],
      "text/plain": [
       "d           -2⋅t\n",
       "──(y(t)) + ℯ    \n",
       "dt              "
      ]
     },
     "execution_count": 13,
     "metadata": {},
     "output_type": "execute_result"
    }
   ],
   "source": [
    "expression2 = y(t).diff(t) + exp(-2 * t)\n",
    "expression2"
   ]
  },
  {
   "cell_type": "code",
   "execution_count": 14,
   "metadata": {
    "collapsed": false
   },
   "outputs": [
    {
     "data": {
      "text/latex": [
       "$$y{\\left (t \\right )} = C_{1} + \\frac{1}{2} e^{- 2 t}$$"
      ],
      "text/plain": [
       "             -2⋅t\n",
       "            ℯ    \n",
       "y(t) = C₁ + ─────\n",
       "              2  "
      ]
     },
     "execution_count": 14,
     "metadata": {},
     "output_type": "execute_result"
    }
   ],
   "source": [
    "dsolve(expression2)"
   ]
  },
  {
   "cell_type": "markdown",
   "metadata": {
    "collapsed": true
   },
   "source": [
    "[Back to the top](#In-this-lesson)"
   ]
  },
  {
   "cell_type": "code",
   "execution_count": null,
   "metadata": {
    "collapsed": true
   },
   "outputs": [],
   "source": []
  }
 ],
 "metadata": {
  "kernelspec": {
   "display_name": "Python 3",
   "language": "python",
   "name": "python3"
  },
  "language_info": {
   "codemirror_mode": {
    "name": "ipython",
    "version": 3
   },
   "file_extension": ".py",
   "mimetype": "text/x-python",
   "name": "python",
   "nbconvert_exporter": "python",
   "pygments_lexer": "ipython3",
   "version": "3.5.1"
  }
 },
 "nbformat": 4,
 "nbformat_minor": 0
}
