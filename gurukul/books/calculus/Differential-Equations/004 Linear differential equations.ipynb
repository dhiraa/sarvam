{
 "cells": [
  {
   "cell_type": "markdown",
   "metadata": {},
   "source": [
    "<a rel=\"license\" href=\"http://creativecommons.org/licenses/by-nc/4.0/\"><img alt=\"Creative Commons License\" style=\"border-width:0\" src=\"https://i.creativecommons.org/l/by-nc/4.0/88x31.png\" /></a><br /><span xmlns:dct=\"http://purl.org/dc/terms/\" property=\"dct:title\">Differential equations</span> by <span xmlns:cc=\"http://creativecommons.org/ns#\" property=\"cc:attributionName\">Dr Juan H Klopper</span> is licensed under a <a rel=\"license\" href=\"http://creativecommons.org/licenses/by-nc/4.0/\">Creative Commons Attribution-NonCommercial 4.0 International License</a>."
   ]
  },
  {
   "cell_type": "code",
   "execution_count": 1,
   "metadata": {
    "collapsed": false
   },
   "outputs": [
    {
     "data": {
      "text/html": [
       "<style>\n",
       "    @font-face {\n",
       "        font-family: \"Computer Modern\";\n",
       "        src: url('http://mirrors.ctan.org/fonts/cm-unicode/fonts/otf/cmunss.otf');\n",
       "    }\n",
       "    div.cell{\n",
       "        width: 90%;\n",
       "/*        margin-left:auto;*/\n",
       "/*        margin-right:auto;*/\n",
       "    }\n",
       "    ul {\n",
       "        line-height: 145%;\n",
       "        font-size: 90%;\n",
       "    }\n",
       "    li {\n",
       "        margin-bottom: 1em;\n",
       "    }\n",
       "    h1 {\n",
       "        font-family: Helvetica, serif;\n",
       "        color: rgb(0, 80, 120);\n",
       "    }\n",
       "    h2 {\n",
       "        color: rgb(0,100,110);\n",
       "    }\n",
       "    h3 {\n",
       "        color: rgb(94,127,192);\n",
       "    }\n",
       "    div.text_cell_render{\n",
       "        font-family: Computer Modern, \"Helvetica Neue\", Arial, Helvetica, Geneva, sans-serif;\n",
       "        line-height: 145%;\n",
       "        font-size: 130%;\n",
       "        width: 90%;\n",
       "        margin-left:auto;\n",
       "        margin-right:auto;\n",
       "    }\n",
       "    .CodeMirror{\n",
       "            font-family: \"Source Code Pro\", source-code-pro,Consolas, monospace;\n",
       "    }\n",
       "/*    .prompt{\n",
       "        display: None;\n",
       "    }*/\n",
       "    .text_cell_render h5 {\n",
       "        font-weight: 300;\n",
       "        font-size: 16pt;\n",
       "        color: #4057A1;\n",
       "        font-style: italic;\n",
       "        margin-bottom: 0.5em;\n",
       "        margin-top: 0.5em;\n",
       "        display: block;\n",
       "    }\n",
       "\n",
       "    .warning{\n",
       "        color: rgb( 240, 20, 20 )\n",
       "        }\n",
       "</style>\n",
       "<script>\n",
       "    MathJax.Hub.Config({\n",
       "                        TeX: {\n",
       "                           extensions: [\"AMSmath.js\"]\n",
       "                           },\n",
       "                tex2jax: {\n",
       "                    inlineMath: [ ['$','$'], [\"\\\\(\",\"\\\\)\"] ],\n",
       "                    displayMath: [ ['$$','$$'], [\"\\\\[\",\"\\\\]\"] ]\n",
       "                },\n",
       "                displayAlign: 'center', // Change this to 'center' to center equations.\n",
       "                \"HTML-CSS\": {\n",
       "                    styles: {'.MathJax_Display': {\"margin\": 4}}\n",
       "                }\n",
       "        });\n",
       "</script>"
      ],
      "text/plain": [
       "<IPython.core.display.HTML object>"
      ]
     },
     "execution_count": 1,
     "metadata": {},
     "output_type": "execute_result"
    }
   ],
   "source": [
    "from IPython.core.display import HTML, Image\n",
    "css_file = 'custom.css'\n",
    "HTML(open(css_file, 'r').read())"
   ]
  },
  {
   "cell_type": "code",
   "execution_count": 2,
   "metadata": {
    "collapsed": true
   },
   "outputs": [],
   "source": [
    "from sympy import init_printing # Latex printing to screen\n",
    "from sympy import symbols, Function, dsolve, exp # Sympy functions\n",
    "from warnings import filterwarnings # Ignoring ugly pink warnings"
   ]
  },
  {
   "cell_type": "code",
   "execution_count": 3,
   "metadata": {
    "collapsed": true
   },
   "outputs": [],
   "source": [
    "init_printing(use_latex = 'mathjax')\n",
    "filterwarnings('ignore')\n",
    "%matplotlib inline"
   ]
  },
  {
   "cell_type": "markdown",
   "metadata": {
    "collapsed": true
   },
   "source": [
    "# Linear differential equations"
   ]
  },
  {
   "cell_type": "markdown",
   "metadata": {},
   "source": [
    "## In this lesson"
   ]
  },
  {
   "cell_type": "markdown",
   "metadata": {},
   "source": [
    "- [What is a linear first-order ordinary differential equation?](#What-is-a-linear-first-order-ordinary-differential-equation?)\n",
    "- [The standard form](#The-standard-from)\n",
    "- [The integrating factor](#The-integrating-factor)\n",
    "- [Example time](#Example-time)\n",
    "    - [Example 1](#Example-1)\n",
    "    - [Example 2](#Example-2)\n",
    "    - [Example 3](#Example-3)"
   ]
  },
  {
   "cell_type": "markdown",
   "metadata": {},
   "source": [
    "## What is a linear first order ordinary differential equation?"
   ]
  },
  {
   "cell_type": "markdown",
   "metadata": {},
   "source": [
    "To create a linear ODE we add function sof the independent variable as coefficients:\n",
    "$$ {a}_{1} \\left( t \\right) \\frac{dy}{dt} + {a}_{0} \\left( t \\right) y = g \\left( t \\right) $$"
   ]
  },
  {
   "cell_type": "markdown",
   "metadata": {},
   "source": [
    "A linear equation can either be **homogeneous**, which is when $ g \\left( t \\right) = 0 $ or **nonhomogeneous** when $ g \\left( t \\right) \\ne 0 $."
   ]
  },
  {
   "cell_type": "markdown",
   "metadata": {},
   "source": [
    "[Back to the top](#In-this-lesson)"
   ]
  },
  {
   "cell_type": "markdown",
   "metadata": {},
   "source": [
    "## The standard form"
   ]
  },
  {
   "cell_type": "markdown",
   "metadata": {},
   "source": [
    "In order to develop an analytical method for solving these equation, we write a linear ODE in **standard from**.  In this form the coefficient of $ y' \\left( t \\right) = 1 $.  To do this we divide throughout by $ {a}_{1} \\left( t \\right) $:\n",
    "$$ \\frac{dy}{dt} + \\frac{{a}_{0} \\left( t \\right)}{{a}_{1} \\left( t \\right)} y = \\frac{g \\left( t \\right)}{{a}_{1} \\left( t \\right)} \\\\ \\frac{dy}{dt} + P \\left( t \\right) y = f \\left( t \\right) $$"
   ]
  },
  {
   "cell_type": "markdown",
   "metadata": {},
   "source": [
    "The analystical method for solving a linear ODE provides our family of solutions with two parts:\n",
    "$$ y \\left( t \\right) = {y}_{c} \\left( t \\right) + {y}_{p} \\left( t \\right) $$\n",
    "Here $ {y}_{c} \\left( t \\right)  $ is associated with the homogeneous function, i.e. $ f \\left( t \\right) = 0 $ and $ {y}_{p} $ is the **particular solution**."
   ]
  },
  {
   "cell_type": "markdown",
   "metadata": {},
   "source": [
    "[Back to the top](#In-this-lesson)"
   ]
  },
  {
   "cell_type": "markdown",
   "metadata": {},
   "source": [
    "## The integrating factor"
   ]
  },
  {
   "cell_type": "markdown",
   "metadata": {},
   "source": [
    "We start of with the homogeneous form of our linear ODE and use a technique calle **variation of parameters**.  In the homogeneous form we can use a technique that we know well and that is the separation of variables:\n",
    "$$ \\frac { dy }{ dt } +P\\left( t \\right) y=0\\\\ \\frac { dy }{ dt } =-P\\left( t \\right) y\\\\ \\frac { 1 }{ y } dy=-P\\left( t \\right) dt\\\\ \\ln { \\left| y \\right|  } =-\\int { P\\left( t \\right)  } dt\\\\ y\\left( t \\right) ={ e }^{ -\\int { P\\left( t \\right)  } dt } $$"
   ]
  },
  {
   "cell_type": "markdown",
   "metadata": {},
   "source": [
    "This $ { e }^{ \\int { P\\left( t \\right)  } dt }$ is called the **integrating factor** and when we multiply our linear ODE throughout by this integrating function we have something very interesting."
   ]
  },
  {
   "cell_type": "markdown",
   "metadata": {},
   "source": [
    "An example makes this clear:\n",
    "$$ \\frac{dy}{dx} -4y = 0 $$"
   ]
  },
  {
   "cell_type": "markdown",
   "metadata": {},
   "source": [
    "This is a separable ODE, so let's solve it using the technique that we know:\n",
    "$$ \\frac { dy }{ dt } -4y=0\\\\ \\frac { dy }{ dt } =4y\\\\ \\frac { 1 }{ y } dy=4dt\\\\ \\int { \\frac { 1 }{ y }  } dy=4\\int { dt } \\\\ \\ln { \\left| y \\right|  } =4t+c\\\\ y\\left( t \\right) ={ e }^{ 4t+c }\\\\ y\\left( t \\right) ={ e }^{ c }{ e }^{ 4t }\\\\ y\\left( t \\right) =c{ e }^{ 4t } $$"
   ]
  },
  {
   "cell_type": "markdown",
   "metadata": {},
   "source": [
    "Now for some ```sympy```."
   ]
  },
  {
   "cell_type": "code",
   "execution_count": 4,
   "metadata": {
    "collapsed": true
   },
   "outputs": [],
   "source": [
    "t = symbols(\"t\")\n",
    "y = Function(\"y\")"
   ]
  },
  {
   "cell_type": "code",
   "execution_count": 5,
   "metadata": {
    "collapsed": false
   },
   "outputs": [
    {
     "data": {
      "text/latex": [
       "$$- 4 y{\\left (t \\right )} + \\frac{d}{d t} y{\\left (t \\right )}$$"
      ],
      "text/plain": [
       "          d       \n",
       "-4⋅y(t) + ──(y(t))\n",
       "          dt      "
      ]
     },
     "execution_count": 5,
     "metadata": {},
     "output_type": "execute_result"
    }
   ],
   "source": [
    "ex = y(t).diff(t) - 4 * y(t)\n",
    "ex"
   ]
  },
  {
   "cell_type": "code",
   "execution_count": 6,
   "metadata": {
    "collapsed": false
   },
   "outputs": [
    {
     "data": {
      "text/latex": [
       "$$y{\\left (t \\right )} = C_{1} e^{4 t}$$"
      ],
      "text/plain": [
       "           4⋅t\n",
       "y(t) = C₁⋅ℯ   "
      ]
     },
     "execution_count": 6,
     "metadata": {},
     "output_type": "execute_result"
    }
   ],
   "source": [
    "dsolve(ex)"
   ]
  },
  {
   "cell_type": "markdown",
   "metadata": {},
   "source": [
    "Now for the technique of variation of parameters.  We note that the coefficient of $ y' \\left( t \\right) $ is already one.  That makes $ P \\left( t \\right) = -4 $.  Furthermore the ODE is homogeneous."
   ]
  },
  {
   "cell_type": "markdown",
   "metadata": {},
   "source": [
    "The integrating factor is:\n",
    "$$ {e}^{\\int{P \\left( t \\right) } dt } \\\\ = {e}^{ \\int{-4} dt } \\\\ = {e}^{ -4t } $$"
   ]
  },
  {
   "cell_type": "markdown",
   "metadata": {},
   "source": [
    "Now, let's multiply thoughout by the integrating factor:\n",
    "$$ { e }^{ -4t }\\frac { dy }{ dt } -4y{ e }^{ -4t }=0 $$"
   ]
  },
  {
   "cell_type": "markdown",
   "metadata": {},
   "source": [
    "Remember how to differrentiate the product of two function?\n",
    "$$ \\frac { d }{ dt } \\left( uv \\right) =u'v+uv' $$"
   ]
  },
  {
   "cell_type": "markdown",
   "metadata": {},
   "source": [
    "If $ u = y $ and $ v = {e}^{-4t} $ then we actually have the following:\n",
    "$$ uv'+u'v\\quad =\\quad { e }^{ -4t }\\frac { dy }{ dt } -4y{ e }^{ -4t } $$"
   ]
  },
  {
   "cell_type": "markdown",
   "metadata": {},
   "source": [
    "We can rewrite this as:\n",
    "$$ \\frac { d }{ dt } \\left[ y\\left( t \\right) { e }^{ -4t } \\right] =0\\\\ \\int { \\frac { d }{ dt } \\left[ y\\left( t \\right) { e }^{ -4t } \\right]  } dt=\\int { 0 } dt\\\\ y\\left( t \\right) { e }^{ -4t }=c $$"
   ]
  },
  {
   "cell_type": "markdown",
   "metadata": {},
   "source": [
    "What just happened?  Well, we integrated both sides with respect to $ t $.  On the left-hand side the integral and derivative *cancel out* and on the right-hand side that we end up with a constant.  We can see this because, going in reverse, the derivative of a constant is $ 0 $."
   ]
  },
  {
   "cell_type": "markdown",
   "metadata": {},
   "source": [
    "[Back to the top](#In-this-lesson)"
   ]
  },
  {
   "cell_type": "markdown",
   "metadata": {},
   "source": [
    "## Example time"
   ]
  },
  {
   "cell_type": "markdown",
   "metadata": {},
   "source": [
    "### Example 1"
   ]
  },
  {
   "cell_type": "markdown",
   "metadata": {},
   "source": [
    "We can start with an example that has a function of the independent variable as our $ P \\left( t \\right) $:\n",
    "$$ \\frac { dy }{ dt } +4ty=0 $$"
   ]
  },
  {
   "cell_type": "code",
   "execution_count": 7,
   "metadata": {
    "collapsed": false
   },
   "outputs": [
    {
     "data": {
      "text/latex": [
       "$$4 t y{\\left (t \\right )} + \\frac{d}{d t} y{\\left (t \\right )}$$"
      ],
      "text/plain": [
       "           d       \n",
       "4⋅t⋅y(t) + ──(y(t))\n",
       "           dt      "
      ]
     },
     "execution_count": 7,
     "metadata": {},
     "output_type": "execute_result"
    }
   ],
   "source": [
    "ex1 = y(t).diff(t) + 4 * t * y(t)\n",
    "ex1"
   ]
  },
  {
   "cell_type": "code",
   "execution_count": 8,
   "metadata": {
    "collapsed": false
   },
   "outputs": [
    {
     "data": {
      "text/latex": [
       "$$y{\\left (t \\right )} = C_{1} e^{- 2 t^{2}}$$"
      ],
      "text/plain": [
       "               2\n",
       "           -2⋅t \n",
       "y(t) = C₁⋅ℯ     "
      ]
     },
     "execution_count": 8,
     "metadata": {},
     "output_type": "execute_result"
    }
   ],
   "source": [
    "dsolve(ex1)"
   ]
  },
  {
   "cell_type": "markdown",
   "metadata": {},
   "source": [
    "Here is the long way:\n",
    "$$ \\frac { dy }{ dt } +4ty=0\\\\ P\\left( t \\right) =4t\\\\ { e }^{ \\int { P\\left( t \\right)  } dt }={ e }^{ 4\\int { t } dt }={ e }^{ 2{ t }^{ 2 } }\\\\ { e }^{ 2{ t }^{ 2 } }\\frac { dy }{ dt } +4t{ e }^{ 2{ t }^{ 2 } }y=0\\\\ u=y,v={ e }^{ 2{ t }^{ 2 } }\\\\ \\frac { d }{ dt } \\left[ { ye }^{ 2{ t }^{ 2 } } \\right] =0\\\\ \\int { \\frac { d }{ dt } \\left( y{ e }^{ 2{ t }^{ 2 } } \\right)  } dt=\\int { 0 } dt\\\\ y{ e }^{ 2{ t }^{ 2 } }=c\\\\ y\\left( t \\right) =c{ e }^{ -2{ t }^{ 2 } } $$"
   ]
  },
  {
   "cell_type": "markdown",
   "metadata": {},
   "source": [
    "[Back to the top](#In-this-lesson)"
   ]
  },
  {
   "cell_type": "markdown",
   "metadata": {},
   "source": [
    "### Example 2"
   ]
  },
  {
   "cell_type": "markdown",
   "metadata": {},
   "source": [
    "Now, for something comepletely different.  Just kidding.  Let's introduce a function for $ {a}_{1} \\left( t \\right) $:\n",
    "$$ \\left( { t }^{ 2 }-9 \\right) \\frac { dy }{ dt } +ty=0 $$"
   ]
  },
  {
   "cell_type": "code",
   "execution_count": 9,
   "metadata": {
    "collapsed": false
   },
   "outputs": [
    {
     "data": {
      "text/latex": [
       "$$t y{\\left (t \\right )} + \\left(t^{2} - 9\\right) \\frac{d}{d t} y{\\left (t \\right )}$$"
      ],
      "text/plain": [
       "         ⎛ 2    ⎞ d       \n",
       "t⋅y(t) + ⎝t  - 9⎠⋅──(y(t))\n",
       "                  dt      "
      ]
     },
     "execution_count": 9,
     "metadata": {},
     "output_type": "execute_result"
    }
   ],
   "source": [
    "ex2 = (t**2 - 9) * y(t).diff(t) + t * y(t)\n",
    "ex2"
   ]
  },
  {
   "cell_type": "code",
   "execution_count": 10,
   "metadata": {
    "collapsed": false
   },
   "outputs": [
    {
     "data": {
      "text/latex": [
       "$$y{\\left (t \\right )} = \\frac{C_{1}}{\\sqrt{t^{2} - 9}}$$"
      ],
      "text/plain": [
       "            C₁    \n",
       "y(t) = ───────────\n",
       "          ________\n",
       "         ╱  2     \n",
       "       ╲╱  t  - 9 "
      ]
     },
     "execution_count": 10,
     "metadata": {},
     "output_type": "execute_result"
    }
   ],
   "source": [
    "dsolve(ex2)"
   ]
  },
  {
   "cell_type": "markdown",
   "metadata": {},
   "source": [
    "In solving this analytically, we have to note that we are dividing throughout by $ {t}^{2} - 9 $.  This means that $ t = 3 $ and $ t = -3 $ are singular points.\n",
    "$$ \\left( { t }^{ 2 }-9 \\right) \\frac { dy }{ dt } +ty=0\\\\ \\frac { dy }{ dt } +\\frac { t }{ { t }^{ 2 }-9 } y=0\\\\ P\\left( t \\right) =\\frac { t }{ { t }^{ 2 }-9 } \\\\ { e }^{ \\int { P\\left( t \\right)  } dt }\\\\ ={ e }^{ \\int { \\frac { t }{ { t }^{ 2 }-9 }  } dt }\\\\ p={ t }^{ 2 }-9\\\\ \\frac { dp }{ dt } =2t\\\\ tdt=\\frac { 1 }{ 2 } dp\\\\ \\therefore { e }^{ \\int { \\frac { t }{ { t }^{ 2 }-9 }  } dt }={ e }^{ \\int { \\frac { 1 }{ 2u }  } dp }={ e }^{ \\frac { 1 }{ 2 } \\int { \\frac { 1 }{ p }  } dp }={ e }^{ \\frac { 1 }{ 2 } \\ln { \\left| p \\right|  }  }={ e }^{ \\frac { 1 }{ 2 } \\ln { \\left| { t }^{ 2 }-9 \\right|  }  }={ e }^{ \\ln { \\sqrt { { t }^{ 2 }-9 }  }  }=\\sqrt { { t }^{ 2 }-9 } \\\\ \\sqrt { { t }^{ 2 }-9 } \\frac { dy }{ dt } +\\frac { t{ \\left( { t }^{ 2 }-9 \\right)  }^{ \\frac { 1 }{ 2 }  } }{ { t }^{ 2 }-9 } y=0\\\\ \\sqrt { { t }^{ 2 }-9 } \\frac { dy }{ dt } +\\frac { t }{ \\sqrt { { t }^{ 2 }-9 }  } y=0\\\\ u=y,v=\\sqrt { { t }^{ 2 }-9 } \\\\ \\frac { d }{ dt } \\left( y\\sqrt { { t }^{ 2 }-9 }  \\right) =0\\\\ y\\sqrt { { t }^{ 2 }-9 } =c\\\\ y\\left( t \\right) =\\frac { c }{ \\sqrt { { t }^{ 2 }-9 }  }  $$"
   ]
  },
  {
   "cell_type": "markdown",
   "metadata": {},
   "source": [
    "  We note that $ {t}^{2} > 9 $.  This means that we only have a solution where $ t > \\pm 3 $ and thus $ t \\in \\left( -3,3 \\right) \\cup \\left( 3, \\infty \\right) $."
   ]
  },
  {
   "cell_type": "markdown",
   "metadata": {},
   "source": [
    "[Back to the top](#In-this-lesson)"
   ]
  },
  {
   "cell_type": "markdown",
   "metadata": {},
   "source": [
    "### Example 3"
   ]
  },
  {
   "cell_type": "markdown",
   "metadata": {},
   "source": [
    "Now for a nonhomogeneous linear ODE:\n",
    "$$ t \\frac{dy}{dt} - 4 y = {t}^{6} {e}^{t} $$"
   ]
  },
  {
   "cell_type": "code",
   "execution_count": 11,
   "metadata": {
    "collapsed": false
   },
   "outputs": [
    {
     "data": {
      "text/latex": [
       "$$- t^{6} e^{t} + t \\frac{d}{d t} y{\\left (t \\right )} - 4 y{\\left (t \\right )}$$"
      ],
      "text/plain": [
       "   6  t     d                \n",
       "- t ⋅ℯ  + t⋅──(y(t)) - 4⋅y(t)\n",
       "            dt               "
      ]
     },
     "execution_count": 11,
     "metadata": {},
     "output_type": "execute_result"
    }
   ],
   "source": [
    "ex3 = t * y(t).diff(t) - 4 * y(t) - (t**6 * exp(t))\n",
    "ex3"
   ]
  },
  {
   "cell_type": "code",
   "execution_count": 12,
   "metadata": {
    "collapsed": false
   },
   "outputs": [
    {
     "data": {
      "text/latex": [
       "$$y{\\left (t \\right )} = t^{4} \\left(C_{1} + t e^{t} - e^{t}\\right)$$"
      ],
      "text/plain": [
       "        4 ⎛        t    t⎞\n",
       "y(t) = t ⋅⎝C₁ + t⋅ℯ  - ℯ ⎠"
      ]
     },
     "execution_count": 12,
     "metadata": {},
     "output_type": "execute_result"
    }
   ],
   "source": [
    "dsolve(ex3)"
   ]
  },
  {
   "cell_type": "markdown",
   "metadata": {
    "collapsed": true
   },
   "source": [
    "By hand this will be:\n",
    "$$ t\\frac { dy }{ dt } -4y={ t }^{ 6 }{ e }^{ t }\\\\ \\frac { dy }{ dt } -\\frac { 4 }{ t } y={ t }^{ 5 }{ e }^{ t }\\\\ P\\left( t \\right) =\\frac { -4 }{ t } \\\\ { e }^{ \\int { P\\left( t \\right)  } dt }={ e }^{ -4\\int { \\frac { 1 }{ t }  } dt }={ e }^{ -4\\ln { \\left| t \\right|  }  }={ e }^{ \\ln { \\left( { t }^{ -4 } \\right)  }  }={ t }^{ -4 }\\quad \\dots [1]\\\\ \\therefore { t }^{ -4 }\\frac { dy }{ dt } -{ t }^{ -4 }\\frac { 4 }{ t } y={ t }^{ -4 }{ t }^{ 5 }{ e }^{ t }\\\\ { t }^{ -4 }\\frac { dy }{ dt } -\\frac { 4 }{ { t }^{ 5 } } y=t{ e }^{ t }\\\\ u=y,v={ t }^{ -4 }\\\\ \\frac { d }{ dt } \\left( y{ t }^{ -4 } \\right) =t{ e }^{ t }\\\\ \\int { \\frac { d }{ dt } \\left( y{ t }^{ -4 } \\right)  } dt=\\int { t{ e }^{ t } } dt\\\\ u=t,v'={ e }^{ t }\\quad \\dots [2]\\\\ u'=1,v={ e }^{ t }\\\\ \\int { uv } =uv'-\\int { u'v } \\\\ \\therefore \\int { t{ e }^{ t } } dt={ te }^{ t }-\\int { { e }^{ t } } dt={ te }^{ t }-{ e }^{ t }+c\\\\ \\frac { y\\left( t \\right)  }{ { t }^{ 4 } } ={ te }^{ t }-{ e }^{ t }+c\\\\ y\\left( t \\right) ={ t }^{ 4 }\\left( { te }^{ t }-{ e }^{ t }+c \\right) ={ t }^{ 5 }-{ t }^{ 4 }{ e }^{ t }+c{ t }^{ 4 }  $$"
   ]
  },
  {
   "cell_type": "markdown",
   "metadata": {},
   "source": [
    "Note that we had to make use of a property of logarithms [...1] where $ {e}^{a \\ln{b}} = {e}^{\\ln{{b}^{a}}} = {b}^{a} $ and we also used integration by parts [...2]."
   ]
  },
  {
   "cell_type": "markdown",
   "metadata": {},
   "source": [
    "We have to be very careful when dividing by the leading coefficient $ {a}_{1} \\left( t \\right) $.  If this expression equals $ 0 $ we have what we call a **singular point** of the equation.  Also, if $ P \\left( t \\right) $ which is $ \\frac{{a}_{0} \\left( t \\right)}{{a}_{1} \\left( t \\right)} $ is discontinuous at a point we may introduce that discontinuity into our solution."
   ]
  },
  {
   "cell_type": "markdown",
   "metadata": {},
   "source": [
    "Note also that if we change the example problem above to a homogeneous equation we have the solution that is part of our original solution:\n",
    "$$ t\\frac { dy }{ dt } -4y=0\\\\ \\frac { dy }{ dt } -\\frac { 4 }{ t } y=0\\\\ P\\left( t \\right) =\\frac { -4 }{ t } \\\\ { e }^{ \\int { P\\left( t \\right)  } dt }={ e }^{ -4\\int { \\frac { 1 }{ t }  } dt }={ e }^{ -4\\ln { \\left| t \\right|  }  }={ e }^{ \\ln { \\left( { t }^{ -4 } \\right)  }  }={ t }^{ -4 } \\\\ \\therefore { t }^{ -4 }\\frac { dy }{ dt } -{ t }^{ -4 }\\frac { 4 }{ t } y=0\\\\ { t }^{ -4 }\\frac { dy }{ dt } -\\frac { 4 }{ { t }^{ 5 } } y=0\\\\ u=y,v={ t }^{ -4 }\\\\ \\frac { d }{ dt } \\left( y{ t }^{ -4 } \\right) =0\\\\ \\int { \\frac { d }{ dt } \\left( y{ t }^{ -4 } \\right)  } dt=\\int { 0 } dt\\\\ \\frac { y\\left( t \\right)  }{ { t }^{ 4 } } =c\\\\ { y }_{ c }\\left( t \\right) ={ ct }^{ 4 } $$"
   ]
  },
  {
   "cell_type": "code",
   "execution_count": null,
   "metadata": {
    "collapsed": true
   },
   "outputs": [],
   "source": []
  }
 ],
 "metadata": {
  "kernelspec": {
   "display_name": "Python 3",
   "language": "python",
   "name": "python3"
  },
  "language_info": {
   "codemirror_mode": {
    "name": "ipython",
    "version": 3
   },
   "file_extension": ".py",
   "mimetype": "text/x-python",
   "name": "python",
   "nbconvert_exporter": "python",
   "pygments_lexer": "ipython3",
   "version": "3.5.1"
  }
 },
 "nbformat": 4,
 "nbformat_minor": 0
}
