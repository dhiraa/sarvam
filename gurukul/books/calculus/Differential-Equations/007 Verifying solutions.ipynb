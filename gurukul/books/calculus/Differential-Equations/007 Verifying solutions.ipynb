{
 "cells": [
  {
   "cell_type": "markdown",
   "metadata": {},
   "source": [
    "<a rel=\"license\" href=\"http://creativecommons.org/licenses/by-nc/4.0/\"><img alt=\"Creative Commons License\" style=\"border-width:0\" src=\"https://i.creativecommons.org/l/by-nc/4.0/88x31.png\" /></a><br /><span xmlns:dct=\"http://purl.org/dc/terms/\" property=\"dct:title\">Differential equations</span> by <span xmlns:cc=\"http://creativecommons.org/ns#\" property=\"cc:attributionName\">Dr Juan H Klopper</span> is licensed under a <a rel=\"license\" href=\"http://creativecommons.org/licenses/by-nc/4.0/\">Creative Commons Attribution-NonCommercial 4.0 International License</a>."
   ]
  },
  {
   "cell_type": "code",
   "execution_count": 1,
   "metadata": {
    "collapsed": false
   },
   "outputs": [
    {
     "data": {
      "text/html": [
       "<style>\n",
       "    @font-face {\n",
       "        font-family: \"Computer Modern\";\n",
       "        src: url('http://mirrors.ctan.org/fonts/cm-unicode/fonts/otf/cmunss.otf');\n",
       "    }\n",
       "    div.cell{\n",
       "        width: 90%;\n",
       "/*        margin-left:auto;*/\n",
       "/*        margin-right:auto;*/\n",
       "    }\n",
       "    ul {\n",
       "        line-height: 145%;\n",
       "        font-size: 90%;\n",
       "    }\n",
       "    li {\n",
       "        margin-bottom: 1em;\n",
       "    }\n",
       "    h1 {\n",
       "        font-family: Helvetica, serif;\n",
       "        color: rgb(0, 80, 120);\n",
       "    }\n",
       "    h2 {\n",
       "        color: rgb(0,100,110);\n",
       "    }\n",
       "    h3 {\n",
       "        color: rgb(94,127,192);\n",
       "    }\n",
       "    div.text_cell_render{\n",
       "        font-family: Computer Modern, \"Helvetica Neue\", Arial, Helvetica, Geneva, sans-serif;\n",
       "        line-height: 145%;\n",
       "        font-size: 130%;\n",
       "        width: 90%;\n",
       "        margin-left:auto;\n",
       "        margin-right:auto;\n",
       "    }\n",
       "    .CodeMirror{\n",
       "            font-family: \"Source Code Pro\", source-code-pro,Consolas, monospace;\n",
       "    }\n",
       "/*    .prompt{\n",
       "        display: None;\n",
       "    }*/\n",
       "    .text_cell_render h5 {\n",
       "        font-weight: 300;\n",
       "        font-size: 16pt;\n",
       "        color: #4057A1;\n",
       "        font-style: italic;\n",
       "        margin-bottom: 0.5em;\n",
       "        margin-top: 0.5em;\n",
       "        display: block;\n",
       "    }\n",
       "\n",
       "    .warning{\n",
       "        color: rgb( 240, 20, 20 )\n",
       "        }\n",
       "</style>"
      ],
      "text/plain": [
       "<IPython.core.display.HTML object>"
      ]
     },
     "execution_count": 1,
     "metadata": {},
     "output_type": "execute_result"
    }
   ],
   "source": [
    "from IPython.core.display import HTML, Image\n",
    "css_file = 'custom.css'\n",
    "HTML(open(css_file, 'r').read())"
   ]
  },
  {
   "cell_type": "code",
   "execution_count": 34,
   "metadata": {
    "collapsed": true
   },
   "outputs": [],
   "source": [
    "from numpy import linspace, sqrt # Create an array of value and take a square root\n",
    "from sympy import init_printing # Latex printing to screen\n",
    "from matplotlib.pyplot import plot, show # Plotting\n",
    "from sympy import symbols, Function, exp, Derivative, diff, classify_ode, dsolve # Sympy functions\n",
    "from warnings import filterwarnings # Ignoring ugly pink warnings"
   ]
  },
  {
   "cell_type": "code",
   "execution_count": 35,
   "metadata": {
    "collapsed": true
   },
   "outputs": [],
   "source": [
    "init_printing(use_latex = 'mathjax')\n",
    "filterwarnings('ignore')\n",
    "% matplotlib inline"
   ]
  },
  {
   "cell_type": "markdown",
   "metadata": {
    "collapsed": true
   },
   "source": [
    "# Verifying solutions to ODEs"
   ]
  },
  {
   "cell_type": "markdown",
   "metadata": {},
   "source": [
    "We have solved many ODEs up until now and have learned quite a few techniques.  We haven't given much thought to the actual solutions, though.  Are they correct?  Do they exist?  If so, are they retsricted to some interval?"
   ]
  },
  {
   "cell_type": "markdown",
   "metadata": {},
   "source": [
    "## In this lesson\n",
    "- [The solution on an interval](#The-solution-on-an-interval)\n",
    "- [Analytical verification](#Analytical-verification)\n",
    "    - [Example 1](#Example-1)\n",
    "    - [Example 2](#Example-2)\n",
    "- [Implicit solutions](#Implicit-solutions)\n",
    "- [A solution curve](#A-solution-curve)\n",
    "- [Initial values](#Initial-values)\n",
    "- [Existance and uniqueness](#Existance-and-uniqueness)"
   ]
  },
  {
   "cell_type": "markdown",
   "metadata": {},
   "source": [
    "## The solution on an interval"
   ]
  },
  {
   "cell_type": "markdown",
   "metadata": {},
   "source": [
    "The solution to an ODE exists (if is does) on an interval.  We that the solution to a DE on an interval is a function, $ F $, that is defined on an interval, $ I $ that possesses at least $ n $ derivatives that are continuous on $ I $, which when substituted into an $ n $<sup>th</sup>-order ODE reduces said equation to an identity."
   ]
  },
  {
   "cell_type": "markdown",
   "metadata": {},
   "source": [
    "The interval is referred to by many names\n",
    "- Interval of definition\n",
    "- Interval of existence\n",
    "- Interval of validity\n",
    "\n",
    "or simply just the domain of the solution."
   ]
  },
  {
   "cell_type": "markdown",
   "metadata": {},
   "source": [
    "[Back to the top](#In-this-lesson)"
   ]
  },
  {
   "cell_type": "markdown",
   "metadata": {},
   "source": [
    "## Analytical verification"
   ]
  },
  {
   "cell_type": "markdown",
   "metadata": {},
   "source": [
    "### Example 1"
   ]
  },
  {
   "cell_type": "markdown",
   "metadata": {},
   "source": [
    "Let's see of $ y \\left( t \\right) = \\frac{1}{36} {t}^{6} $ is a solution to the ODE $ \\frac{dy}{dt} = {t}^{2} \\sqrt{y} $."
   ]
  },
  {
   "cell_type": "markdown",
   "metadata": {},
   "source": [
    "On the left we have:\n",
    "$$ \\frac{dy}{dt} = \\frac{1}{36} 6 {t}^{5} = \\frac{1}{6} {t}^{5} $$\n",
    "On the right we have:\n",
    "$$ \\frac{dy}{dt} = {t}^{2} \\sqrt{ \\frac{1}{36} {t}^{6} } = \\frac{1}{6} {t}^{5} $$"
   ]
  },
  {
   "cell_type": "markdown",
   "metadata": {},
   "source": [
    "We note that $  \\left( t \\right) = \\frac{1}{36} {t}^{6} $ is indeed a solution to the ODE and that is on the interval $ - \\infty \\le t \\le \\infty $."
   ]
  },
  {
   "cell_type": "markdown",
   "metadata": {},
   "source": [
    "[Back to the top](#In-this-lesson)"
   ]
  },
  {
   "cell_type": "markdown",
   "metadata": {},
   "source": [
    "### Example 2"
   ]
  },
  {
   "cell_type": "markdown",
   "metadata": {},
   "source": [
    "We can extend this to ODE's of higher degree.  Let's see if $ y \\left( t \\right) = {c}_{1} {e}^{t} + {c}_{2} t {e}^{t} $ is a solution to $ \\frac { { d }^{ 2 }y }{ d{ t }^{ 2 } } -2\\frac { dy }{ dt } +y=0 $."
   ]
  },
  {
   "cell_type": "code",
   "execution_count": 44,
   "metadata": {
    "collapsed": true
   },
   "outputs": [],
   "source": [
    "t = symbols(\"t\")\n",
    "y = Function(\"y\")"
   ]
  },
  {
   "cell_type": "code",
   "execution_count": 20,
   "metadata": {
    "collapsed": false
   },
   "outputs": [
    {
     "data": {
      "text/latex": [
       "$$y{\\left (t \\right )} - 2 \\frac{d}{d t} y{\\left (t \\right )} + \\frac{d^{2}}{d t^{2}}  y{\\left (t \\right )}$$"
      ],
      "text/plain": [
       "                      2      \n",
       "         d           d       \n",
       "y(t) - 2⋅──(y(t)) + ───(y(t))\n",
       "         dt           2      \n",
       "                    dt       "
      ]
     },
     "execution_count": 20,
     "metadata": {},
     "output_type": "execute_result"
    }
   ],
   "source": [
    "eq = y(t).diff(t, t) - 2 * y(t).diff(t) + y(t)\n",
    "eq"
   ]
  },
  {
   "cell_type": "code",
   "execution_count": 21,
   "metadata": {
    "collapsed": false
   },
   "outputs": [
    {
     "data": {
      "text/plain": [
       "('nth_linear_constant_coeff_homogeneous', '2nd_power_series_ordinary')"
      ]
     },
     "execution_count": 21,
     "metadata": {},
     "output_type": "execute_result"
    }
   ],
   "source": [
    "classify_ode(eq)"
   ]
  },
  {
   "cell_type": "code",
   "execution_count": 22,
   "metadata": {
    "collapsed": false
   },
   "outputs": [
    {
     "data": {
      "text/latex": [
       "$$y{\\left (t \\right )} = \\left(C_{1} + C_{2} t\\right) e^{t}$$"
      ],
      "text/plain": [
       "                    t\n",
       "y(t) = (C₁ + C₂⋅t)⋅ℯ "
      ]
     },
     "execution_count": 22,
     "metadata": {},
     "output_type": "execute_result"
    }
   ],
   "source": [
    "dsolve(eq, hint = \"nth_linear_constant_coeff_homogeneous\")"
   ]
  },
  {
   "cell_type": "markdown",
   "metadata": {},
   "source": [
    "[Back to the top](#In-this-lesson)"
   ]
  },
  {
   "cell_type": "markdown",
   "metadata": {},
   "source": [
    "## Implicit solutions"
   ]
  },
  {
   "cell_type": "markdown",
   "metadata": {},
   "source": [
    "In the example below we can calculate an explicit solution, but stop one step before taking the square root and we have a nice example of an inplicit solution:\n",
    "$$ \\frac { dy }{ dt } =\\frac { -t }{ y } \\\\ ydy=-tdt\\\\ \\int { y } dy=\\int { \\left( -t \\right)  } dt\\\\ \\frac { 1 }{ 2 } { y }^{ 2 }=\\frac { -1 }{ 2 } { t }^{ 2 }+{ c }_{ 1 }\\\\ { y }^{ 2 }=-{ t }^{ 2 }+{ c }_{ 2 }\\\\ { y }^{ 2 }+{ t }^{ 2 }=c $$"
   ]
  },
  {
   "cell_type": "markdown",
   "metadata": {},
   "source": [
    "The solution is only defined for value of $ c $ than are equal to or larger than $ 0 $.  The domain of the solution is thus $ - \\sqrt{c} \\le t \\le \\sqrt{c} $."
   ]
  },
  {
   "cell_type": "markdown",
   "metadata": {},
   "source": [
    "[Back to the top](#In-this-lesson)"
   ]
  },
  {
   "cell_type": "markdown",
   "metadata": {},
   "source": [
    "## A solution curve"
   ]
  },
  {
   "cell_type": "markdown",
   "metadata": {},
   "source": [
    "With constants in our solution we can have any number of solutions depending on the value of $ c $."
   ]
  },
  {
   "cell_type": "code",
   "execution_count": 23,
   "metadata": {
    "collapsed": false
   },
   "outputs": [
    {
     "data": {
      "text/latex": [
       "$$3 t y{\\left (t \\right )} \\frac{d}{d t} y{\\left (t \\right )} - \\frac{1}{t}$$"
      ],
      "text/plain": [
       "         d          1\n",
       "3⋅t⋅y(t)⋅──(y(t)) - ─\n",
       "         dt         t"
      ]
     },
     "execution_count": 23,
     "metadata": {},
     "output_type": "execute_result"
    }
   ],
   "source": [
    "eq = 3 * t * y(t) * y(t).diff(t) - (1 / t)\n",
    "eq"
   ]
  },
  {
   "cell_type": "code",
   "execution_count": 24,
   "metadata": {
    "collapsed": false
   },
   "outputs": [
    {
     "data": {
      "text/plain": [
       "('separable',\n",
       " '1st_exact',\n",
       " 'Bernoulli',\n",
       " 'lie_group',\n",
       " 'separable_Integral',\n",
       " '1st_exact_Integral',\n",
       " 'Bernoulli_Integral')"
      ]
     },
     "execution_count": 24,
     "metadata": {},
     "output_type": "execute_result"
    }
   ],
   "source": [
    "classify_ode(eq)"
   ]
  },
  {
   "cell_type": "code",
   "execution_count": 25,
   "metadata": {
    "collapsed": false
   },
   "outputs": [
    {
     "data": {
      "text/latex": [
       "$$\\left [ y{\\left (t \\right )} = - \\frac{1}{3} \\sqrt{C_{1} - \\frac{6}{t}}, \\quad y{\\left (t \\right )} = \\frac{1}{3} \\sqrt{C_{1} - \\frac{6}{t}}\\right ]$$"
      ],
      "text/plain": [
       "⎡            ________              ________⎤\n",
       "⎢           ╱      6              ╱      6 ⎥\n",
       "⎢       -  ╱  C₁ - ─             ╱  C₁ - ─ ⎥\n",
       "⎢        ╲╱        t           ╲╱        t ⎥\n",
       "⎢y(t) = ──────────────, y(t) = ────────────⎥\n",
       "⎣             3                     3      ⎦"
      ]
     },
     "execution_count": 25,
     "metadata": {},
     "output_type": "execute_result"
    }
   ],
   "source": [
    "dsolve(eq, hint = \"separable\")"
   ]
  },
  {
   "cell_type": "markdown",
   "metadata": {},
   "source": [
    "Let's plot solution curves for $ c = 7 $, $ c = 10 $ and $ c = 15 $."
   ]
  },
  {
   "cell_type": "code",
   "execution_count": 40,
   "metadata": {
    "collapsed": false
   },
   "outputs": [
    {
     "data": {
      "image/png": "[encoded data removed]",
      "text/plain": [
       "<matplotlib.figure.Figure at 0x107647668>"
      ]
     },
     "metadata": {},
     "output_type": "display_data"
    }
   ],
   "source": [
    "x = linspace(-5, 5, 100)\n",
    "y7 = (-1 / 3) * sqrt(7 - 6 / x)\n",
    "y10 = (-1 / 3) * sqrt(10 - 6 / x)\n",
    "y15 = (-1 / 3) * sqrt(15 - 6 / x)\n",
    "\n",
    "plot(x, y7, \"r-\")\n",
    "plot(x, y10, \"g-\")\n",
    "plot(x, y15, \"b-\", linewidth = 4)\n",
    "show();"
   ]
  },
  {
   "cell_type": "markdown",
   "metadata": {},
   "source": [
    "We do indeed have a **family of solutions**."
   ]
  },
  {
   "cell_type": "markdown",
   "metadata": {},
   "source": [
    "[Back to the top](#In-this-lesson)"
   ]
  },
  {
   "cell_type": "markdown",
   "metadata": {},
   "source": [
    "## Initial values"
   ]
  },
  {
   "cell_type": "markdown",
   "metadata": {},
   "source": [
    "We can calculate a specific value for $ c $ given an initial condition.  Imagine at $ t = 0 $ in the solution above we have that $ y \\left( 1 \\right) = -1 $.  Obviously the domain of the solution is $ t \\in \\left( -\\infty, 0 \\right) \\cup \\left( 0, \\infty \\right) $, i.e. $ t \\ne 0 $."
   ]
  },
  {
   "cell_type": "markdown",
   "metadata": {},
   "source": [
    "Plugging this into our family of solutions we get\n",
    "$$ y\\left( 1 \\right) =\\frac { -1 }{ 3 } \\sqrt { c-\\frac { 6 }{ 1 }  } =-1\\\\ \\sqrt { c-6 } =3\\\\ c-6=9\\\\ c=15\\\\ \\therefore y\\left( t \\right) =\\pm \\frac { 1 }{ 3 } \\sqrt { 15-\\frac { 6 }{ t }  }  $$\n",
    "which is the *blue* line above."
   ]
  },
  {
   "cell_type": "markdown",
   "metadata": {},
   "source": [
    "[Back to the top](#In-this-lesson)"
   ]
  },
  {
   "cell_type": "markdown",
   "metadata": {},
   "source": [
    "## Existance and uniqueness"
   ]
  },
  {
   "cell_type": "markdown",
   "metadata": {},
   "source": [
    "We have to ask ourselves two questions when considering a first-order ODE initial value problem:\n",
    "- Does a solution exist?\n",
    "    - Here we want to know if any of the solution curves pass through the (inital value) point $ \\left( {x}_{0}, {y}_{0} \\right) $.\n",
    "- If a solution exists, is it unique?\n",
    "    - Here we want to know if one one solution curves passes through $ \\left( {x}_{0}, {y}_{0} \\right) $."
   ]
  },
  {
   "cell_type": "markdown",
   "metadata": {},
   "source": [
    "There is a existence and uniqueness theorem for first-order DEs: *Consider a rectangular region, $ R $ in the $ ty $-plane defined by $ y \\in \\left[ a,b \\right] $ and $ y \\in \\left[ c,d \\right] $.  If we have a solution, $ F \\left( t,y \\right) $ and it, as well as $ \\frac{ \\partial F}{ \\partial y} $, are continuous on $ R $, then there is some interval, $ {I}_{0} $ between $ {t}_{0} - h $ and $ {t}_{0} + h $, with $ h > 0 $ contained in $\\left[ a,b \\right] $ with a unique solution $ y \\left( t \\right) $*."
   ]
  },
  {
   "cell_type": "markdown",
   "metadata": {},
   "source": [
    "[Back to the top](#In-this-lesson)"
   ]
  },
  {
   "cell_type": "code",
   "execution_count": null,
   "metadata": {
    "collapsed": true
   },
   "outputs": [],
   "source": []
  }
 ],
 "metadata": {
  "kernelspec": {
   "display_name": "Python 3",
   "language": "python",
   "name": "python3"
  },
  "language_info": {
   "codemirror_mode": {
    "name": "ipython",
    "version": 3
   },
   "file_extension": ".py",
   "mimetype": "text/x-python",
   "name": "python",
   "nbconvert_exporter": "python",
   "pygments_lexer": "ipython3",
   "version": "3.5.1"
  }
 },
 "nbformat": 4,
 "nbformat_minor": 0
}
