{
 "cells": [
  {
   "cell_type": "markdown",
   "metadata": {},
   "source": [
    "<a rel=\"license\" href=\"http://creativecommons.org/licenses/by-nc/4.0/\"><img alt=\"Creative Commons License\" style=\"border-width:0\" src=\"https://i.creativecommons.org/l/by-nc/4.0/88x31.png\" /></a><br /><span xmlns:dct=\"http://purl.org/dc/terms/\" property=\"dct:title\">Differential equations</span> by <span xmlns:cc=\"http://creativecommons.org/ns#\" property=\"cc:attributionName\">Dr Juan H Klopper</span> is licensed under a <a rel=\"license\" href=\"http://creativecommons.org/licenses/by-nc/4.0/\">Creative Commons Attribution-NonCommercial 4.0 International License</a>."
   ]
  },
  {
   "cell_type": "code",
   "execution_count": 1,
   "metadata": {
    "collapsed": false
   },
   "outputs": [
    {
     "data": {
      "text/html": [
       "<style>\n",
       "    @font-face {\n",
       "        font-family: \"Computer Modern\";\n",
       "        src: url('http://mirrors.ctan.org/fonts/cm-unicode/fonts/otf/cmunss.otf');\n",
       "    }\n",
       "    div.cell{\n",
       "        width: 90%;\n",
       "/*        margin-left:auto;*/\n",
       "/*        margin-right:auto;*/\n",
       "    }\n",
       "    ul {\n",
       "        line-height: 145%;\n",
       "        font-size: 90%;\n",
       "    }\n",
       "    li {\n",
       "        margin-bottom: 1em;\n",
       "    }\n",
       "    h1 {\n",
       "        font-family: Helvetica, serif;\n",
       "        color: rgb(0, 80, 120);\n",
       "    }\n",
       "    h2 {\n",
       "        color: rgb(0,100,110);\n",
       "    }\n",
       "    h3 {\n",
       "        color: rgb(94,127,192);\n",
       "    }\n",
       "    div.text_cell_render{\n",
       "        font-family: Computer Modern, \"Helvetica Neue\", Arial, Helvetica, Geneva, sans-serif;\n",
       "        line-height: 145%;\n",
       "        font-size: 130%;\n",
       "        width: 90%;\n",
       "        margin-left:auto;\n",
       "        margin-right:auto;\n",
       "    }\n",
       "    .CodeMirror{\n",
       "            font-family: \"Source Code Pro\", source-code-pro,Consolas, monospace;\n",
       "    }\n",
       "/*    .prompt{\n",
       "        display: None;\n",
       "    }*/\n",
       "    .text_cell_render h5 {\n",
       "        font-weight: 300;\n",
       "        font-size: 16pt;\n",
       "        color: #4057A1;\n",
       "        font-style: italic;\n",
       "        margin-bottom: 0.5em;\n",
       "        margin-top: 0.5em;\n",
       "        display: block;\n",
       "    }\n",
       "\n",
       "    .warning{\n",
       "        color: rgb( 240, 20, 20 )\n",
       "        }\n",
       "</style>"
      ],
      "text/plain": [
       "<IPython.core.display.HTML object>"
      ]
     },
     "execution_count": 1,
     "metadata": {},
     "output_type": "execute_result"
    }
   ],
   "source": [
    "from IPython.core.display import HTML, Image\n",
    "css_file = 'custom.css'\n",
    "HTML(open(css_file, 'r').read())"
   ]
  },
  {
   "cell_type": "code",
   "execution_count": 2,
   "metadata": {
    "collapsed": true
   },
   "outputs": [],
   "source": [
    "from sympy import init_printing # Latex printing to screen\n",
    "from sympy import symbols, Function, classify_ode, dsolve # Sympy functions\n",
    "from warnings import filterwarnings # Ignoring ugly pink warnings"
   ]
  },
  {
   "cell_type": "code",
   "execution_count": 3,
   "metadata": {
    "collapsed": true
   },
   "outputs": [],
   "source": [
    "init_printing(use_latex = 'mathjax')\n",
    "filterwarnings('ignore')"
   ]
  },
  {
   "cell_type": "markdown",
   "metadata": {
    "collapsed": true
   },
   "source": [
    "# Substitution methods and exact equations"
   ]
  },
  {
   "cell_type": "markdown",
   "metadata": {},
   "source": [
    "## In this lesson\n",
    "- [Techniques for solving ODEs](#Techniques-for-solving-ODEs)\n",
    "- [Substitution](#Substitution)\n",
    "    - [Example 1](#Example-1)\n",
    "    - [Example 2](#Example-2)\n",
    "    - [Example 3](#Example 3)\n",
    "- [Homogeneous equations](#Homogeneous-equations)\n",
    "    - [Example 4](#Example-4)\n",
    "- [Bernoulli equations](#Bernoulli-equations)\n",
    "    - [Example 5](#Example-5)\n",
    "- [Exact equations](#Exact-equations)\n",
    "    - [Example 6](#Example-6)\n",
    "    - [Example 7](#Example-7)"
   ]
  },
  {
   "cell_type": "markdown",
   "metadata": {},
   "source": [
    "## Techniques for solving ODEs"
   ]
  },
  {
   "cell_type": "markdown",
   "metadata": {},
   "source": [
    "We now know two ways of solving ODE's analytically.  The first involves separating variables and the second involves calculating an integrating factor."
   ]
  },
  {
   "cell_type": "markdown",
   "metadata": {},
   "source": [
    "Not all equations are in a form that allows for these two techniques.  Fortunately, there are methods for turning an ODE into a form in which we can use these methods.  We'll start off with substitution and do it by way of an example."
   ]
  },
  {
   "cell_type": "markdown",
   "metadata": {},
   "source": [
    "[Back to the top](#In-this-lesson)"
   ]
  },
  {
   "cell_type": "markdown",
   "metadata": {},
   "source": [
    "## Substitution"
   ]
  },
  {
   "cell_type": "markdown",
   "metadata": {},
   "source": [
    "### Example 1"
   ]
  },
  {
   "cell_type": "markdown",
   "metadata": {},
   "source": [
    "So let's look at one of these through the use of an example.  Here is our ODE:\n",
    "$$ \\frac{dy}{dt} = {\\left( t + y + 3 \\right)}^{2} $$"
   ]
  },
  {
   "cell_type": "markdown",
   "metadata": {},
   "source": [
    "We call this technique **substitution** (and in this notebook I will use both $ u $ and $ v $ for substitution).  Obviously, we will substitute $ t + y + 3 $.  Here we go:\n",
    "$$ v = t + y + 3 \\quad \\left[ \\dots 1 \\right] \\\\ y = v - t - 3 \\\\ \\frac{dy}{dt} = \\frac{dv}{dt} - 1 \\quad \\left[ \\dots 2 \\right] $$"
   ]
  },
  {
   "cell_type": "markdown",
   "metadata": {},
   "source": [
    "If we substitute [...1] and [...2] back into our original problem we get the following:\n",
    "$$ \\frac{dv}{dt} - 1 = {v}^{2} \\\\ \\frac{dv}{dt} = {v}^{2} + 1 $$\n",
    "This is a separable equation which we can solve:\n",
    "$$ \\frac { dv }{ dt } ={ v }^{ 2 }+1\\\\ \\frac { 1 }{ { v }^{ 2 }+1 } dv=dt\\\\ \\int { \\frac { 1 }{ { v }^{ 2 }+1 }  } dv=\\int {  } dt\\\\ v=\\tan { \\left( \\theta  \\right)  } \\quad \\dots \\left[ 1 \\right] \\\\ \\theta =\\tan ^{ -1 }{ \\left( v \\right)  } \\\\ \\frac { dv }{ d\\theta  } =\\sec ^{ 2 }{ \\left( \\theta  \\right)  } \\\\ dv=\\sec ^{ 2 }{ \\left( \\theta  \\right)  } d\\theta \\\\ \\int { \\frac { \\sec ^{ 2 }{ \\left( \\theta  \\right)  }  }{ \\tan ^{ 2 }{ \\left( \\theta  \\right)  } +1 }  } d\\theta =t+c\\quad \\dots \\left[ 2 \\right] \\\\ \\int {  } d\\theta =t+c\\\\ \\theta =t+c\\\\ \\tan ^{ -1 }{ \\left( v \\right)  } =t+c\\\\ v =\\tan { \\left( t+c \\right)  }  $$"
   ]
  },
  {
   "cell_type": "markdown",
   "metadata": {},
   "source": [
    "Here we made use of trigonometric substitutions [...1] and a trigonometric identity [...2].  If we replace our original substitution we get:\n",
    "$$ t+y+3=\\tan { \\left( t+c \\right)  } \\\\ y\\left( t \\right) =\\tan { \\left( t+c \\right)  } -t-3 $$"
   ]
  },
  {
   "cell_type": "markdown",
   "metadata": {},
   "source": [
    "In `sympy` we will get a solution as a series expansion (something we will do later in the course):"
   ]
  },
  {
   "cell_type": "code",
   "execution_count": 4,
   "metadata": {
    "collapsed": true
   },
   "outputs": [],
   "source": [
    "# Creating a mathematical symbol t and a mathematical function y\n",
    "t = symbols(\"t\")\n",
    "y = Function(\"y\")"
   ]
  },
  {
   "cell_type": "code",
   "execution_count": 5,
   "metadata": {
    "collapsed": false
   },
   "outputs": [
    {
     "data": {
      "text/latex": [
       "$$- \\left(t + y{\\left (t \\right )} + 3\\right)^{2} + \\frac{d}{d t} y{\\left (t \\right )}$$"
      ],
      "text/plain": [
       "                2   d       \n",
       "- (t + y(t) + 3)  + ──(y(t))\n",
       "                    dt      "
      ]
     },
     "execution_count": 5,
     "metadata": {},
     "output_type": "execute_result"
    }
   ],
   "source": [
    "ex = y(t).diff(t) - (t + y(t) + 3)**2\n",
    "ex"
   ]
  },
  {
   "cell_type": "code",
   "execution_count": 6,
   "metadata": {
    "collapsed": false
   },
   "outputs": [
    {
     "data": {
      "text/latex": [
       "$$y{\\left (t \\right )} = C_{1} + C_{1} t + \\frac{C_{1} t^{2}}{2} \\left(C_{1} + 10\\right) + \\frac{2 C_{1}}{3} t^{3} + \\frac{C_{1} t^{4}}{24} + \\frac{C_{1} t^{5}}{120} \\left(C_{1} + 1\\right) + \\mathcal{O}\\left(t^{6}\\right)$$"
      ],
      "text/plain": [
       "                       2                   3       4       5                 \n",
       "                   C₁⋅t ⋅(C₁ + 10)   2⋅C₁⋅t    C₁⋅t    C₁⋅t ⋅(C₁ + 1)    ⎛ 6⎞\n",
       "y(t) = C₁ + C₁⋅t + ─────────────── + ─────── + ───── + ────────────── + O⎝t ⎠\n",
       "                          2             3        24         120              "
      ]
     },
     "execution_count": 6,
     "metadata": {},
     "output_type": "execute_result"
    }
   ],
   "source": [
    "dsolve(ex)"
   ]
  },
  {
   "cell_type": "markdown",
   "metadata": {},
   "source": [
    "Let's review what we did here.  We introduced a new variable, $ v $, such that $ y $ became a function, $ \\beta \\left( t, v \\right) $.  That means we had the following:\n",
    "$$ \\frac{dy}{dt} = \\frac { \\partial \\beta  }{ \\partial t } \\frac { dt }{ dt } +\\frac { \\partial \\beta  }{ \\partial v } \\frac { dv }{ dt }  $$"
   ]
  },
  {
   "cell_type": "markdown",
   "metadata": {},
   "source": [
    "[Back to the top](#In-this-lesson)"
   ]
  },
  {
   "cell_type": "markdown",
   "metadata": {},
   "source": [
    "### Example 2"
   ]
  },
  {
   "cell_type": "markdown",
   "metadata": {},
   "source": [
    "Sometimes substitution can be a little more difficult.  Below is an example where we note that $ {e}^{2y} $ and its derivative $ 2 {e}^{2y} \\frac{dy}{dt} $ both appear in the equation and we can use the substitution $ u = {e}^{2y} $."
   ]
  },
  {
   "cell_type": "markdown",
   "metadata": {},
   "source": [
    "Solve this equation:\n",
    "$$ 2t{e}^{2y} \\frac{dy}{dt} = 3 {t}^{4} + {e}^{2y} $$"
   ]
  },
  {
   "cell_type": "markdown",
   "metadata": {},
   "source": [
    "$$ u={ e }^{ 2y },\\frac { du }{ dt } =2{ e }^{ 2y }\\frac { dy }{ dt } \\\\ t\\frac { du }{ dt } =3{ t }^{ 4 }+u\\\\ \\frac { du }{ dt } -\\frac { 1 }{ t } u=3{ t }^{ 3 }\\\\ P\\left( t \\right) =\\frac { -1 }{ t } \\\\ { e }^{ \\int { P\\left( t \\right)  } dt }={ e }^{ -\\int { \\frac { 1 }{ t }  } dt }={ e }^{ \\ln { \\left| { t }^{ -1 } \\right|  }  }={ t }^{ -1 }\\\\ { t }^{ -1 }\\frac { du }{ dt } -{ t }^{ -1 }\\frac { 1 }{ t } u=3{ t }^{ 2 }\\\\ \\frac { d }{ dt } \\left( { t }^{ -1 }u \\right) =3{ t }^{ 2 }\\\\ \\int { \\frac { d }{ dt } \\left( { t }^{ -1 }u \\right)  } dt=3\\int { { t }^{ 2 } } dt\\\\ \\frac { u }{ t } =3\\left( \\frac { 1 }{ 3 } { t }^{ 3 }+c \\right) \\\\ { e }^{ 2y }=3t\\left( \\frac { 1 }{ 3 } { t }^{ 3 }+c \\right) \\\\ { e }^{ 2y }={ t }^{ 4 }+ct\\\\ 2y=\\ln { \\left| { t }^{ 4 }+ct \\right|  } \\\\ y\\left( y \\right) =\\frac { 1 }{ 2 } \\ln { \\left| { t }^{ 4 }+ct \\right|  }  $$"
   ]
  },
  {
   "cell_type": "markdown",
   "metadata": {},
   "source": [
    "[Back to the top](#In-this-lesson)"
   ]
  },
  {
   "cell_type": "markdown",
   "metadata": {},
   "source": [
    "### Example 3"
   ]
  },
  {
   "cell_type": "markdown",
   "metadata": {},
   "source": [
    "Back to a simpler expample fo substitution.  Note that with this technique we doing a reduction in some sense.  An ODE of the form $ \\frac{dy}{dt} = f \\left( At + By +C \\right) $ can be reduced when $ B \\ne 0 $.  In the example below we do this in order to get to an equation in which we can separate the variables."
   ]
  },
  {
   "cell_type": "markdown",
   "metadata": {},
   "source": [
    "Example problem:\n",
    "$$ \\frac{dy}{dt} = {\\left( y - 2t \\right)}^{2} - 14 $$"
   ]
  },
  {
   "cell_type": "markdown",
   "metadata": {},
   "source": [
    "The solution involves some partial fractions [...1]:\n",
    "$$ \\frac { dy }{ dt } ={ \\left( y-2t \\right)  }^{ 2 }-14\\\\ v=y-2t,\\frac { dv }{ dt } =\\frac { dy }{ dt } -2,\\frac { dy }{ dt } =\\frac { dv }{ dt } +2\\\\ \\frac { dv }{ dt } +2={ v }^{ 2 }-14\\\\ \\frac { dv }{ dt } ={ v }^{ 2 }-16\\\\ \\frac { 1 }{ { v }^{ 2 }-16 } dv=dt\\\\ \\frac { 1 }{ { v }^{ 2 }-16 } =\\frac { 1 }{ \\left( v-4 \\right) \\left( v+4 \\right)  } =\\frac { A }{ v-4 } +\\frac { B }{ v+4 } \\qquad \\left[ \\dots 1 \\right] \\\\ 1=A\\left( v+4 \\right) +B\\left( v-4 \\right) \\\\ v=-4:\\qquad 1=B\\left( -8 \\right) ,\\qquad B=\\frac { -1 }{ 8 } \\\\ v=4:\\qquad 1=A\\left( 8 \\right) ,\\qquad A=\\frac { 1 }{ 8 } \\\\ \\frac { 1 }{ { v }^{ 2 }-16 } =\\frac { 1 }{ 8 } \\left( \\frac { 1 }{ v-4 } -\\frac { 1 }{ v+4 }  \\right) \\\\ \\frac { 1 }{ 8 } \\left( \\int { \\frac { 1 }{ v-4 }  } dv-\\int { \\frac { 1 }{ v+4 }  } dv \\right) =\\int {  } dt\\\\ \\ln { \\left| v-4 \\right|  } -\\ln { \\left| v+4 \\right|  } =8\\left( t+c \\right) \\\\ { e }^{ \\ln { \\left| \\frac { v-4 }{ v+4 }  \\right|  }  }={ e }^{ 8t+c }\\\\ \\frac { v-4 }{ v+4 } =c{ e }^{ 8t }\\\\ v-4=c{ e }^{ 8t }\\left( v+4 \\right) \\\\ v-c{ e }^{ 8t }v=4c{ e }^{ 8t }+4\\\\ v\\left( 1-c{ e }^{ 8t } \\right) =4\\left( c{ e }^{ 8t }+1 \\right) \\\\ v=4\\frac { 1+c{ e }^{ 8t } }{ 1-c{ e }^{ 8t } } \\\\ y-2t=4\\frac { 1+c{ e }^{ 8t } }{ 1-c{ e }^{ 8t } } \\\\ y\\left( t \\right) =\\frac { 1+c{ e }^{ 8t } }{ 1-c{ e }^{ 8t } } +2t $$"
   ]
  },
  {
   "cell_type": "code",
   "execution_count": 7,
   "metadata": {
    "collapsed": false
   },
   "outputs": [
    {
     "data": {
      "text/latex": [
       "$$- \\left(- 2 t + y{\\left (t \\right )}\\right)^{2} + \\frac{d}{d t} y{\\left (t \\right )} - 14$$"
      ],
      "text/plain": [
       "               2   d            \n",
       "- (-2⋅t + y(t))  + ──(y(t)) - 14\n",
       "                   dt           "
      ]
     },
     "execution_count": 7,
     "metadata": {},
     "output_type": "execute_result"
    }
   ],
   "source": [
    "eq = y(t).diff(t) - (y(t) - 2 * t)**2 - 14\n",
    "eq"
   ]
  },
  {
   "cell_type": "code",
   "execution_count": 8,
   "metadata": {
    "collapsed": false
   },
   "outputs": [
    {
     "data": {
      "text/plain": [
       "('1st_power_series', 'lie_group')"
      ]
     },
     "execution_count": 8,
     "metadata": {},
     "output_type": "execute_result"
    }
   ],
   "source": [
    "classify_ode(eq)"
   ]
  },
  {
   "cell_type": "code",
   "execution_count": 9,
   "metadata": {
    "collapsed": false
   },
   "outputs": [
    {
     "data": {
      "text/latex": [
       "$$y{\\left (t \\right )} = \\frac{t^{5}}{120} \\left(C_{1} \\left(24 C_{1} \\left(C_{1} + 8\\right) - 143 C_{1} - 384\\right) + 335 C_{1} + 768\\right) + C_{1} + C_{1} t + \\frac{C_{1} t^{2}}{2} \\left(C_{1} + 27\\right) + C_{1} t^{3} \\left(C_{1} + 5\\right) + \\frac{C_{1} t^{4}}{12} \\left(- 3 C_{1} + 5\\right) + \\mathcal{O}\\left(t^{6}\\right)$$"
      ],
      "text/plain": [
       "        5                                                                     \n",
       "       t ⋅(C₁⋅(24⋅C₁⋅(C₁ + 8) - 143⋅C₁ - 384) + 335⋅C₁ + 768)               C₁\n",
       "y(t) = ────────────────────────────────────────────────────── + C₁ + C₁⋅t + ──\n",
       "                                120                                           \n",
       "\n",
       "  2                                  4                    \n",
       "⋅t ⋅(C₁ + 27)       3            C₁⋅t ⋅(-3⋅C₁ + 5)    ⎛ 6⎞\n",
       "───────────── + C₁⋅t ⋅(C₁ + 5) + ───────────────── + O⎝t ⎠\n",
       "     2                                   12               "
      ]
     },
     "execution_count": 9,
     "metadata": {},
     "output_type": "execute_result"
    }
   ],
   "source": [
    "# The solution will be in the form of a series expansion\n",
    "dsolve(eq)"
   ]
  },
  {
   "cell_type": "markdown",
   "metadata": {},
   "source": [
    "[Back to the top](#In-this-lesson)"
   ]
  },
  {
   "cell_type": "markdown",
   "metadata": {},
   "source": [
    "## Homogeneous equations"
   ]
  },
  {
   "cell_type": "markdown",
   "metadata": {},
   "source": [
    "We have seen one definition of the word *homogeneous* equation.  Some texts, though, calssify **homogeneous** ODE's as those of the form:\n",
    "$$ \\frac{dy}{dt}=F\\left( \\frac{y}{t} \\right) $$"
   ]
  },
  {
   "cell_type": "markdown",
   "metadata": {},
   "source": [
    "With the substitution technique we learned about above these can easily be transformed into separable equations:\n",
    "$$ v=\\frac { y }{ t } \\\\ y=vt\\\\ \\frac { dy }{ dt } =\\frac { dv }{ dt } t+v\\\\ \\therefore t\\frac { dv }{ dt } +v=F\\left( v \\right) \\\\ t\\frac { dv }{ dt } =F\\left( v \\right) -v $$"
   ]
  },
  {
   "cell_type": "markdown",
   "metadata": {
    "collapsed": true
   },
   "source": [
    "We can be more general with these equations:\n",
    "$$ A{ t }^{ m }{ y }^{ n }\\frac { dy }{ dt } =B{ t }^{ p }{ y }^{ q }+C{ t }^{ r }{ y }^{ s } $$\n",
    "This will be homogeneous when $ m+n=p+q=r+s=c $.  So we will have the following when dividing both side by $ {t}^{c} $:\n",
    "$$ A{ \\left( \\frac { y }{ t }  \\right)  }^{ n }\\frac { dy }{ dt } =B{ \\left( \\frac { y }{ t }  \\right)  }^{ q }+C{ \\left( \\frac { y }{ t }  \\right)  }^{ s } $$"
   ]
  },
  {
   "cell_type": "markdown",
   "metadata": {},
   "source": [
    "In general, we have a homogeneous equation if we have the form:\n",
    "$$ P \\left( t,y \\right) \\frac{dy}{dt} = Q \\left( t, y \\right) $$\n",
    "with the polynomial coeffiencts $ P $ and $ Q $, which are polynomials, all have the same degree."
   ]
  },
  {
   "cell_type": "markdown",
   "metadata": {},
   "source": [
    "### Example 4"
   ]
  },
  {
   "cell_type": "markdown",
   "metadata": {},
   "source": [
    "Look at this problem:\n",
    "$$ 2ty \\frac{dy}{dt} = 4 {t}^{2} + 3 {y}^{2} $$\n",
    "with the solution below ([...1] being our substitution and [...2] being $ u $-substitution for integration):\n",
    "$$ 2ty\\frac { dy }{ dt } =4{ t }^{ 2 }+3{ y }^{ 2 }\\\\ \\frac { dy }{ dt } =2\\frac { t }{ y } +\\frac { 3y }{ 2t } \\\\ v=\\frac { y }{ t } ,y=vt,\\frac { dy }{ dt } =t\\frac { dv }{ dt } +v,\\frac { 1 }{ v } =\\frac { t }{ y } \\quad \\left[ \\dots 1 \\right] \\\\ t\\frac { dv }{ dt } +v=\\frac { 2 }{ v } +\\frac { 3 }{ 2 } v\\\\ t\\frac { dv }{ dt } =\\frac { 2 }{ v } +\\frac { 3 }{ 2 } v-v=\\frac { 2 }{ v } +\\frac { v }{ 2 } =\\frac { 4+{ v }^{ 2 } }{ 2v } \\\\ \\frac { 2v }{ 4+{ v }^{ 2 } } dv=\\frac { 1 }{ t } dt\\\\ \\int { \\frac { 2v }{ 4+{ v }^{ 2 } }  } dv=\\int { \\frac { 1 }{ t }  } dt\\\\ p=4+{ v }^{ 2 },\\frac { dp }{ dv } =2v,dp=2vdv\\quad \\left[ \\dots 2 \\right] \\\\ \\int { \\frac { 1 }{ p }  } dp=\\ln { \\left| t \\right|  } +c\\\\ \\ln { \\left| 4+{ v }^{ 2 } \\right|  } =\\ln { \\left| t \\right|  } +c\\\\ 4+{ v }^{ 2 }={ e }^{ c }t\\\\ 4+{ \\left( \\frac { y }{ t }  \\right)  }^{ 2 }=ct\\\\ \\frac { 4 }{ t } +\\frac { 1 }{ t } \\frac { { y }^{ 2 } }{ { t }^{ 2 } } =c\\\\ \\frac { 4 }{ t } +\\frac { { y }^{ 2 } }{ { t }^{ 3 } } =c\\\\ \\frac { 4{ t }^{ 2 }+{ y }^{ 2 } }{ { t }^{ 3 } } =c\\\\ 4{ t }^{ 2 }+{ y }^{ 2 }=c{ t }^{ 3 }\\\\ { y }^{ 2 }=c{ t }^{ 3 }-4{ t }^{ 2 }\\\\ { y }^{ 2 }=c{ t }^{ 3 }-4{ t }^{ 2 }\\\\ y\\left( t \\right) =\\pm \\sqrt { c{ t }^{ 3 }-4{ t }^{ 3 } } \\\\ y\\left( t \\right) =\\pm t\\sqrt { ct-4 }   $$"
   ]
  },
  {
   "cell_type": "code",
   "execution_count": 10,
   "metadata": {
    "collapsed": false
   },
   "outputs": [
    {
     "data": {
      "text/latex": [
       "$$- 4 t^{2} + 2 t y{\\left (t \\right )} \\frac{d}{d t} y{\\left (t \\right )} - 3 y^{2}{\\left (t \\right )}$$"
      ],
      "text/plain": [
       "     2            d             2   \n",
       "- 4⋅t  + 2⋅t⋅y(t)⋅──(y(t)) - 3⋅y (t)\n",
       "                  dt                "
      ]
     },
     "execution_count": 10,
     "metadata": {},
     "output_type": "execute_result"
    }
   ],
   "source": [
    "eq = 2 * t * y(t) * y(t).diff(t) - 4 * t**2 - 3 * (y(t))**2\n",
    "eq"
   ]
  },
  {
   "cell_type": "code",
   "execution_count": 11,
   "metadata": {
    "collapsed": false
   },
   "outputs": [
    {
     "data": {
      "text/latex": [
       "$$\\left [ y{\\left (t \\right )} = - t \\sqrt{C_{1} t - 4}, \\quad y{\\left (t \\right )} = t \\sqrt{C_{1} t - 4}\\right ]$$"
      ],
      "text/plain": [
       "⎡            __________             __________⎤\n",
       "⎣y(t) = -t⋅╲╱ C₁⋅t - 4 , y(t) = t⋅╲╱ C₁⋅t - 4 ⎦"
      ]
     },
     "execution_count": 11,
     "metadata": {},
     "output_type": "execute_result"
    }
   ],
   "source": [
    "dsolve(eq)"
   ]
  },
  {
   "cell_type": "markdown",
   "metadata": {},
   "source": [
    "[Back to the top](#In-this-lesson)"
   ]
  },
  {
   "cell_type": "markdown",
   "metadata": {},
   "source": [
    "## Bernoulli equations"
   ]
  },
  {
   "cell_type": "markdown",
   "metadata": {},
   "source": [
    "An equation of the form $ \\frac{dy}{dt} + P \\left( t \\right)y = f\\left( t \\right) {y}^{n}  $ is called a **Bernoulli equation**.  When $ n = 0 $ we have $ \\frac{dy}{dt} + P \\left( t \\right)y = f\\left( t \\right) $ and when $ n = 1 $ we have $ \\frac{dy}{dt} + P \\left( t \\right)y = f\\left( t \\right) y $, both of which are linear equations.  For $ n \\ne 0 $ and $ n \\ne 1 $ we can substitute $ u = {y}^{1-n} $."
   ]
  },
  {
   "cell_type": "markdown",
   "metadata": {},
   "source": [
    "### Example 5"
   ]
  },
  {
   "cell_type": "markdown",
   "metadata": {},
   "source": [
    "We can rewrite this as a Bernoulli equation:\n",
    "$$ t\\frac { dy }{ dt } +y={ t }^{ 2 }{ y }^{ 2 }\\\\ t\\frac { dy }{ dt } ={ t }^{ 2 }{ y }^{ 2 }-y\\\\ \\frac { dy }{ dt } +\\frac { 1 }{ t } y=t{ y }^{ 2 } $$"
   ]
  },
  {
   "cell_type": "markdown",
   "metadata": {},
   "source": [
    "For $ n = 2 $ we have $ u = {y}^{1-2} = {y}^{-1} $:\n",
    "$$  u={ y }^{ -1 },y={ u }^{ -1 },\\frac { dy }{ du } =-{ u }^{ -2 } $$"
   ]
  },
  {
   "cell_type": "markdown",
   "metadata": {},
   "source": [
    "We have to make use of the chain rule:\n",
    "$$ \\frac{dy}{dt} = \\frac{dy}{du} \\frac{du}{dt} = -{u}^{2} \\frac{du}{dt}$$"
   ]
  },
  {
   "cell_type": "markdown",
   "metadata": {},
   "source": [
    "Now we substitute:\n",
    "$$ -{ u }^{ -2 }\\frac { du }{ dt } +\\frac { 1 }{ t } { u }^{ -1 }=t{ u }^{ -2 }\\\\ \\frac { -1 }{ { u }^{ 2 } } \\frac { du }{ dt } +\\frac { 1 }{ u } \\frac { 1 }{ t } =\\frac { t }{ { u }^{ 2 } } \\\\ -\\frac { du }{ dt } +u\\frac { 1 }{ t } =t\\\\ \\frac { du }{ dt } -\\frac { 1 }{ t } u=-t\\\\ P\\left( t \\right) =\\frac { -1 }{ t } \\quad \\left[ \\dots 1 \\right] \\\\ { e }^{ \\int { P\\left( t \\right)  } dt }={ e }^{ -\\int { \\frac { 1 }{ t }  } dt }={ e }^{ -\\ln { \\left| t \\right|  }  }={ t }^{ -1 }\\\\ { t }^{ -1 }\\frac { du }{ dt } -{ t }^{ -1 }\\frac { 1 }{ t } u={ t }^{ -1 }\\left( -t \\right) \\\\ { t }^{ -1 }\\frac { du }{ dt } -\\frac { 1 }{ { t }^{ 2 } } u=-1\\\\ \\frac { d }{ dt } \\left( { t }^{ -1 }u \\right) =-1\\\\ \\int { \\frac { d }{ dt } \\left( { t }^{ -1 }u \\right)  } dt=-\\int {  } dt\\\\ { t }^{ -1 }u=-\\left( t+c \\right) \\\\ \\frac { 1 }{ t } \\frac { 1 }{ y } =c-t\\\\ \\frac { 1 }{ y } =ct-{ t }^{ 2 }\\\\ y\\left( t \\right) =\\frac { 1 }{ ct-{ t }^{ 2 } } \\\\ y \\left( t \\right) = \\frac{1}{t \\left( c - t \\right)}  $$\n",
    "where [...1] is the use of the integrating factor."
   ]
  },
  {
   "cell_type": "code",
   "execution_count": 12,
   "metadata": {
    "collapsed": false
   },
   "outputs": [
    {
     "data": {
      "text/latex": [
       "$$- t^{2} y^{2}{\\left (t \\right )} + t \\frac{d}{d t} y{\\left (t \\right )} + y{\\left (t \\right )}$$"
      ],
      "text/plain": [
       "   2  2        d              \n",
       "- t ⋅y (t) + t⋅──(y(t)) + y(t)\n",
       "               dt             "
      ]
     },
     "execution_count": 12,
     "metadata": {},
     "output_type": "execute_result"
    }
   ],
   "source": [
    "eq = t * y(t).diff(t) + y(t) - t**2 * (y(t))**2\n",
    "eq"
   ]
  },
  {
   "cell_type": "code",
   "execution_count": 13,
   "metadata": {
    "collapsed": false
   },
   "outputs": [
    {
     "data": {
      "text/latex": [
       "$$y{\\left (t \\right )} = \\frac{1}{t \\left(C_{1} - t\\right)}$$"
      ],
      "text/plain": [
       "           1     \n",
       "y(t) = ──────────\n",
       "       t⋅(C₁ - t)"
      ]
     },
     "execution_count": 13,
     "metadata": {},
     "output_type": "execute_result"
    }
   ],
   "source": [
    "dsolve(eq)"
   ]
  },
  {
   "cell_type": "markdown",
   "metadata": {},
   "source": [
    "[Back to the top](#In-this-lesson)"
   ]
  },
  {
   "cell_type": "markdown",
   "metadata": {
    "collapsed": true
   },
   "source": [
    "## Exact equations"
   ]
  },
  {
   "cell_type": "markdown",
   "metadata": {},
   "source": [
    "We have seen instances before where the solution to a differential equations ends up being implicitly described:\n",
    "$$ F \\left( t, y \\left( t \\right) \\right) = c $$"
   ]
  },
  {
   "cell_type": "markdown",
   "metadata": {},
   "source": [
    "With $ c $ a constant and $ y \\left( t \\right) $ a differentiable function of $ t $ when can indeed differnetiate both sides with respect to $ t $:\n",
    "$$ \\frac{ \\partial F}{ \\partial t} + \\frac{ \\partial F}{ \\partial y} \\frac{dy}{dt} = 0 $$"
   ]
  },
  {
   "cell_type": "markdown",
   "metadata": {},
   "source": [
    "We can rewrite things a bit:\n",
    "$$ \\frac { \\partial F }{ \\partial t } ={ F }_{ t }\\left( t,y \\right) =M\\left( t,y \\right) \\\\ \\frac { \\partial F }{ \\partial y } ={ F }_{ y }\\left( t,y \\right) =N\\left( t,y \\right) \\\\ M\\left( t,y \\right) +N\\left( t,y \\right) \\frac { dy }{ dt } =0 $$\n",
    "We can also use what is termed the **differential form**:\n",
    "$$ M\\left( t,y \\right) =-N\\left( t,y \\right) \\frac { dy }{ dt } \\\\ M\\left( t,y \\right) dt=-N\\left( t,y \\right) dy \\\\ M\\left( t,y \\right) dt+N\\left( t,y \\right) dy=0 $$"
   ]
  },
  {
   "cell_type": "markdown",
   "metadata": {},
   "source": [
    "So, if we have a function $ F \\left( t, y \\right) $ such that the following holds\n",
    "$$ \\frac { \\partial F }{ \\partial t } ={ F }_{ t }\\left( t,y \\right) =M\\left( t,y \\right) \\\\ \\frac { \\partial F }{ \\partial y } ={ F }_{ y }\\left( t,y \\right) =N\\left( t,y \\right)  $$\n",
    "then $ F \\left( t,y \\right) = c $ is an implicit solution to $ M\\left( t,y \\right) dt+N\\left( t,y \\right) dy=0 $."
   ]
  },
  {
   "cell_type": "markdown",
   "metadata": {
    "collapsed": true
   },
   "source": [
    "This equation is an **exact equation** if the following holds true:\n",
    "$$ \\frac { \\partial M }{ \\partial y } =\\frac { \\partial N }{ \\partial t }  $$"
   ]
  },
  {
   "cell_type": "markdown",
   "metadata": {},
   "source": [
    "[Back to the top](#In-this-lesson)"
   ]
  },
  {
   "cell_type": "markdown",
   "metadata": {},
   "source": [
    "### Example 6"
   ]
  },
  {
   "cell_type": "markdown",
   "metadata": {},
   "source": [
    "Up until now, we have not seen an equation of the form $ M\\left( t,y \\right) +N\\left( t,y \\right) \\frac { dy }{ dt } =0 $.  We can always create one, though:\n",
    "$$ \\left( { t }^{ 2 }-1 \\right) \\frac { dy }{ dt } =-2ty\\\\ \\left( { t }^{ 2 }-1 \\right) dy=-2tydt\\\\ \\left( { t }^{ 2 }-1 \\right) dy+2tydt=0 $$\n",
    "That is one step further than what we would have done if we were using the separable variables technique."
   ]
  },
  {
   "cell_type": "markdown",
   "metadata": {},
   "source": [
    "Now we have:\n",
    "$$ N={ t }^{ 2 } - 1\\\\ M=2ty $$\n",
    "We have to take note where the $ M $ and $ N $ go."
   ]
  },
  {
   "cell_type": "markdown",
   "metadata": {},
   "source": [
    "Let's see if this is an exact equation:\n",
    "$$ \\frac { \\partial M }{ \\partial y } =2t\\\\ \\frac { \\partial N }{ \\partial t } =2t $$\n",
    "The condition holds!"
   ]
  },
  {
   "cell_type": "markdown",
   "metadata": {},
   "source": [
    "Now for the fun part.  Because this is an exact equation, we can use integrals to calculate a solution (instead of using separation of variabels):\n",
    "$$ M=\\frac { \\partial F }{ \\partial t } =2ty\\\\ \\partial F=2ty\\partial t\\\\ \\int {  } \\partial F=\\int { 2yt } \\partial t\\\\ F\\left( t,y \\right) =2y\\frac { 1 }{ 2 } { t }^{ 2 }+g\\left( y \\right) \\\\ F \\left( t,y \\right) = y {t}^{2} + g \\left( y \\right)  $$"
   ]
  },
  {
   "cell_type": "markdown",
   "metadata": {},
   "source": [
    "We have a function of integration, $ g \\left( y \\right) $, not a constant of integration, since we are dealing with partial integration.  Also note carefully how the $ y $ was not taken out of the integral even though it is a constant as far as the partial integration is concerned.  Therefor we get $ y {t}^{2} + g \\left( y \\right) $ and NOT $ 2y\\left( \\frac { 1 }{ 2 } { t }^{ 2 }+g\\left( y \\right) \\right)  $  If we now differentiate this $ F \\left( t,y \\right) $ with respect to $ y $ we will have $ N $:\n",
    "$$ \\frac { \\partial F }{ \\partial y } ={ F }_{ y }\\left( t,y \\right) =N\\left( t,y \\right) \\\\ \\frac { \\partial F }{ \\partial y } =\\frac { \\partial  }{ \\partial y } \\left[ y{ t }^{ 2 }+g\\left( y \\right)  \\right] ={ t }^{ 2 }-1\\\\ { t }^{ 2 }+\\frac { dg }{ dy } ={ t }^{ 2 }-1\\\\ \\frac { dg }{ dy } =-1\\\\ dg=-dy\\\\ \\int {  } dg=-\\int {  } dy\\\\ g\\left( y \\right) =-y\\\\ \\therefore F\\left( t,y \\right) =y{ t }^{ 2 }+g\\left( y \\right) =y{ t }^{ 2 }-y $$"
   ]
  },
  {
   "cell_type": "markdown",
   "metadata": {},
   "source": [
    "Since this was an exact equation we have:\n",
    "$$ F\\left( t,y \\right) =c\\\\ y{ t }^{ 2 }-y=c\\\\ y\\left( { t }^{ 2 }-1 \\right) =c\\\\ y\\left( t \\right) =\\frac { c }{ { t }^{ 2 }-1 }  $$"
   ]
  },
  {
   "cell_type": "code",
   "execution_count": 20,
   "metadata": {
    "collapsed": false
   },
   "outputs": [
    {
     "data": {
      "text/latex": [
       "$$2 t y{\\left (t \\right )} + \\left(t^{2} - 1\\right) \\frac{d}{d t} y{\\left (t \\right )}$$"
      ],
      "text/plain": [
       "           ⎛ 2    ⎞ d       \n",
       "2⋅t⋅y(t) + ⎝t  - 1⎠⋅──(y(t))\n",
       "                    dt      "
      ]
     },
     "execution_count": 20,
     "metadata": {},
     "output_type": "execute_result"
    }
   ],
   "source": [
    "eq = (t**2 - 1) * y(t).diff(t) + 2 * t * y(t)\n",
    "eq"
   ]
  },
  {
   "cell_type": "code",
   "execution_count": 21,
   "metadata": {
    "collapsed": false
   },
   "outputs": [
    {
     "data": {
      "text/plain": [
       "('separable',\n",
       " '1st_exact',\n",
       " '1st_linear',\n",
       " 'almost_linear',\n",
       " '1st_power_series',\n",
       " 'lie_group',\n",
       " 'separable_Integral',\n",
       " '1st_exact_Integral',\n",
       " '1st_linear_Integral',\n",
       " 'almost_linear_Integral')"
      ]
     },
     "execution_count": 21,
     "metadata": {},
     "output_type": "execute_result"
    }
   ],
   "source": [
    "classify_ode(eq)"
   ]
  },
  {
   "cell_type": "code",
   "execution_count": 22,
   "metadata": {
    "collapsed": false
   },
   "outputs": [
    {
     "data": {
      "text/latex": [
       "$$y{\\left (t \\right )} = \\frac{C_{1}}{t^{2} - 1}$$"
      ],
      "text/plain": [
       "         C₁  \n",
       "y(t) = ──────\n",
       "        2    \n",
       "       t  - 1"
      ]
     },
     "execution_count": 22,
     "metadata": {},
     "output_type": "execute_result"
    }
   ],
   "source": [
    "dsolve(eq, hint = \"1st_exact\")"
   ]
  },
  {
   "cell_type": "markdown",
   "metadata": {
    "collapsed": true
   },
   "source": [
    "[Back to the top](#In-this-lesson)"
   ]
  },
  {
   "cell_type": "markdown",
   "metadata": {},
   "source": [
    "### Example 7"
   ]
  },
  {
   "cell_type": "markdown",
   "metadata": {},
   "source": [
    "Solve by the method of exact equations:\n",
    "$$ \\left[ 2t{ e }^{ 2y }-t\\cos { \\left( ty \\right)  } +2y \\right] \\frac { dy }{ dt } =y\\cos { \\left( ty \\right)  } -{ e }^{ 2y } $$"
   ]
  },
  {
   "cell_type": "markdown",
   "metadata": {},
   "source": [
    "Here we go:\n",
    "$$ \\left[ 2t{ e }^{ 2y }-t\\cos { \\left( ty \\right)  } +2y \\right] \\frac { dy }{ dt } =y\\cos { \\left( ty \\right)  } -{ e }^{ 2y }\\\\ \\left[ 2t{ e }^{ 2y }-t\\cos { \\left( ty \\right)  } +2y \\right] dy=\\left[ y\\cos { \\left( ty \\right)  } -{ e }^{ 2y } \\right] dt\\\\ \\left[ 2t{ e }^{ 2y }-t\\cos { \\left( ty \\right)  } +2y \\right] dy-\\left[ y\\cos { \\left( ty \\right)  } -{ e }^{ 2y } \\right] dt=0\\\\ \\left[ 2t{ e }^{ 2y }-t\\cos { \\left( ty \\right)  } +2y \\right] dy+\\left[ { e }^{ 2y }-y\\cos { \\left( ty \\right)  }  \\right] dt=0\\\\ M\\left( t,y \\right) ={ e }^{ 2y }-y\\cos { \\left( ty \\right)  } \\\\ N\\left( t,y \\right) =2t{ e }^{ 2y }-t\\cos { \\left( ty \\right)  } +2y\\\\ \\frac { \\partial M }{ \\partial y } =2{ e }^{ 2y }+ty\\sin { \\left( ty \\right)  } -\\cos { \\left( ty \\right)  } \\\\ \\frac { \\partial N }{ \\partial t } ={ 2e }^{ 2y }+ty\\sin { \\left( ty \\right)  } -\\cos { \\left( ty \\right)  }  $$"
   ]
  },
  {
   "cell_type": "markdown",
   "metadata": {},
   "source": [
    "The equation is exact:\n",
    "$$ \\frac { \\partial F }{ \\partial y } =N=2t{ e }^{ 2y }-t\\cos { \\left( ty \\right)  } +2y\\\\ \\partial F=\\left[ 2t{ e }^{ 2y }-t\\cos { \\left( ty \\right)  } +2y \\right] \\partial y\\\\ F\\left( t,y \\right) =\\int { \\left[ { e }^{ 2y }-y\\cos { \\left( ty \\right)  }  \\right]  } \\partial t\\\\ F\\left( t,y \\right) =\\int { 2t{ e }^{ 2y } } \\partial y-\\int { t\\cos { \\left( ty \\right)  }  } \\partial y+\\int { 2y } \\partial y\\\\ F\\left( t,y \\right) =2t\\frac { 1 }{ 2 } { e }^{ 2y }-t\\frac { 1 }{ t } \\sin { \\left( ty \\right)  } +2\\frac { 1 }{ 2 } { y }^{ 2 }+g\\left( t \\right) \\quad \\\\ F\\left( t,y \\right) =t{ e }^{ 2y }-\\sin { \\left( ty \\right)  } +{ y }^{ 2 }+g\\left( t \\right) \\quad \\\\ \\frac { \\partial F }{ \\partial t } =M={ e }^{ 2y }-y\\cos { \\left( ty \\right)  } +\\frac { dg }{ dt } ={ e }^{ 2y }-y\\cos { \\left( ty \\right)  } \\\\ \\frac { dg }{ dt } =0\\\\ g\\left( t \\right) =c\\\\ F\\left( t,y \\right) =t{ e }^{ 2y }-\\sin { \\left( ty \\right)  } +{ y }^{ 2 }+{ c }_{ 1 }=c\\\\ t{ e }^{ 2y }-\\sin { \\left( ty \\right)  } +{ y }^{ 2 }=c $$"
   ]
  },
  {
   "cell_type": "markdown",
   "metadata": {},
   "source": [
    "[Back to the top](#In-this-lesson)"
   ]
  },
  {
   "cell_type": "code",
   "execution_count": null,
   "metadata": {
    "collapsed": true
   },
   "outputs": [],
   "source": []
  }
 ],
 "metadata": {
  "kernelspec": {
   "display_name": "Python 3",
   "language": "python",
   "name": "python3"
  },
  "language_info": {
   "codemirror_mode": {
    "name": "ipython",
    "version": 3
   },
   "file_extension": ".py",
   "mimetype": "text/x-python",
   "name": "python",
   "nbconvert_exporter": "python",
   "pygments_lexer": "ipython3",
   "version": "3.5.1"
  }
 },
 "nbformat": 4,
 "nbformat_minor": 0
}
